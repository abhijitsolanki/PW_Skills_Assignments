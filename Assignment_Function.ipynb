{
 "cells": [
  {
   "cell_type": "markdown",
   "id": "373bf87f-a620-40e9-923f-76a6eb0b461a",
   "metadata": {},
   "source": [
    "# 1. Difference Between a Function and a Method in Python"
   ]
  },
  {
   "cell_type": "code",
   "execution_count": 3,
   "id": "d49a5505-62ec-40b4-8cf9-855ba8163007",
   "metadata": {},
   "outputs": [
    {
     "name": "stdout",
     "output_type": "stream",
     "text": [
      "Hello, Alice!\n",
      "Hello, Alice!\n"
     ]
    }
   ],
   "source": [
    "# Function: A function is a block of code that performs a specific task and can be called independently. It is defined using the def keyword.\n",
    "\n",
    "# Example:\n",
    "def greet(name):\n",
    "    return f\"Hello, {name}!\"\n",
    "\n",
    "print(greet(\"Alice\"))  # Output: Hello, Alice! \n",
    "\n",
    "# Method: A method is similar to a function but is associated with an object. It is called on an object and can access the data within it. Methods are defined within classes.\n",
    "\n",
    "# Example:\n",
    "class Person:\n",
    "    def __init__(self, name):\n",
    "        self.name = name\n",
    "\n",
    "    def greet(self):\n",
    "        return f\"Hello, {self.name}!\"\n",
    "\n",
    "person = Person(\"Alice\")\n",
    "print(person.greet())  # Output: Hello, Alice!\n"
   ]
  },
  {
   "cell_type": "markdown",
   "id": "bda1cc41-b467-41e8-ae33-36c8ba6f2eb2",
   "metadata": {},
   "source": [
    "# 2. Function Arguments and Parameters in Python"
   ]
  },
  {
   "cell_type": "code",
   "execution_count": 4,
   "id": "c660bbf7-3d1e-428c-b061-2f33053189eb",
   "metadata": {},
   "outputs": [
    {
     "name": "stdout",
     "output_type": "stream",
     "text": [
      "8\n"
     ]
    }
   ],
   "source": [
    "# Parameters: Variables listed in the function definition. They are placeholders for the values that will be passed to the function.\n",
    "def add(a, b):  # 'a' and 'b' are parameters\n",
    "    return a + b\n",
    "#Arguments: The actual values passed to the function when it is called.\n",
    "\n",
    "#Example:\n",
    "result = add(5, 3)  # '5' and '3' are arguments\n",
    "print(result)  # Output: 8\n"
   ]
  },
  {
   "cell_type": "markdown",
   "id": "278a03fb-7d0b-40e8-ac57-3a5ac7a383c7",
   "metadata": {},
   "source": [
    "# 3 . Different Ways to Define and Call a Function in Python"
   ]
  },
  {
   "cell_type": "code",
   "execution_count": 5,
   "id": "cdb3c360-c3b4-4952-99eb-05e07935462f",
   "metadata": {},
   "outputs": [
    {
     "name": "stdout",
     "output_type": "stream",
     "text": [
      "20\n",
      "20\n",
      "8\n"
     ]
    }
   ],
   "source": [
    "# Defining a Function:\n",
    "def multiply(a, b):\n",
    "    return a * b\n",
    "# Calling a Function:\n",
    "\n",
    "# Positional Arguments:\n",
    "result = multiply(4, 5)\n",
    "print(result)  # Output: 20\n",
    "# Keyword Arguments\n",
    "result = multiply(a=4, b=5)\n",
    "print(result)  # Output: 20\n",
    "#Default Parameters:\n",
    "def multiply(a, b=2):\n",
    "    return a * b\n",
    "\n",
    "result = multiply(4)\n",
    "print(result)  # Output: 8\n"
   ]
  },
  {
   "cell_type": "markdown",
   "id": "c0590553-5431-46c4-9185-9087e16943e4",
   "metadata": {},
   "source": [
    "# 4. Purpose of the return Statement in a Python Function"
   ]
  },
  {
   "cell_type": "code",
   "execution_count": 6,
   "id": "b7457a5d-4611-4baa-95a3-e2b8ce6896f5",
   "metadata": {},
   "outputs": [
    {
     "name": "stdout",
     "output_type": "stream",
     "text": [
      "25\n"
     ]
    }
   ],
   "source": [
    "# The return statement is used to exit a function and send a value back to the caller.\n",
    "\n",
    "# Example:\n",
    "def square(x):\n",
    "    return x * x\n",
    "\n",
    "result = square(5)\n",
    "print(result)  # Output: 25\n",
    "# If return is omitted, the function returns None by default."
   ]
  },
  {
   "cell_type": "markdown",
   "id": "6ece128c-f747-44d9-a8df-4e52318eb267",
   "metadata": {},
   "source": [
    "# 5. Iterators and Iterables in Python"
   ]
  },
  {
   "cell_type": "code",
   "execution_count": 7,
   "id": "5787a111-8d34-45ab-a8d0-ff351918afc3",
   "metadata": {},
   "outputs": [
    {
     "name": "stdout",
     "output_type": "stream",
     "text": [
      "1\n",
      "2\n",
      "3\n",
      "1\n",
      "2\n",
      "3\n"
     ]
    }
   ],
   "source": [
    "# Iterable: An object that can return an iterator, typically with the __iter__() method. Examples include lists, tuples, and strings.\n",
    "my_list = [1, 2, 3]\n",
    "for item in my_list:  # 'my_list' is an iterable\n",
    "    print(item)\n",
    "# Iterator: An object with a __next__() method that fetches the next item. Iterators are created using the iter() function or within loops.\n",
    "my_list = [1, 2, 3]\n",
    "my_iter = iter(my_list)  # 'my_iter' is an iterator\n",
    "\n",
    "print(next(my_iter))  # Output: 1\n",
    "print(next(my_iter))  # Output: 2\n",
    "print(next(my_iter))  # Output: 3\n"
   ]
  },
  {
   "cell_type": "markdown",
   "id": "1f5a7615-a229-4533-b262-2a92e67c0d8c",
   "metadata": {},
   "source": [
    "# 6. Generators in Python"
   ]
  },
  {
   "cell_type": "code",
   "execution_count": 8,
   "id": "e3e93797-6a5e-446b-8a0c-97eb045630a4",
   "metadata": {},
   "outputs": [
    {
     "name": "stdout",
     "output_type": "stream",
     "text": [
      "1\n",
      "2\n",
      "3\n",
      "4\n",
      "5\n"
     ]
    }
   ],
   "source": [
    "# Generators: Special types of iterators defined using a function with the yield keyword. They generate values on the fly, making them memory efficient.\n",
    "\n",
    "# Example:\n",
    "def count_up_to(max):\n",
    "    count = 1\n",
    "    while count <= max:\n",
    "        yield count\n",
    "        count += 1\n",
    "\n",
    "counter = count_up_to(5)\n",
    "for number in counter:\n",
    "    print(number)\n"
   ]
  },
  {
   "cell_type": "markdown",
   "id": "ed433c2c-3776-4e7e-81fe-04700ce039e6",
   "metadata": {},
   "source": [
    "# 7. Advantages of Using Generators Over Regular Functions"
   ]
  },
  {
   "cell_type": "code",
   "execution_count": 9,
   "id": "116dd757-7dd9-47a5-bb48-51bc578ae697",
   "metadata": {},
   "outputs": [
    {
     "name": "stdout",
     "output_type": "stream",
     "text": [
      "0\n",
      "1\n",
      "2\n",
      "3\n",
      "4\n",
      "5\n",
      "6\n",
      "7\n",
      "8\n",
      "9\n",
      "10\n"
     ]
    }
   ],
   "source": [
    "# Memory Efficiency: Generators yield items one at a time and do not store the entire sequence in memory.\n",
    "\n",
    "# Example:\n",
    "def large_range():\n",
    "    for i in range(1000000):\n",
    "        yield i\n",
    "\n",
    "for number in large_range():\n",
    "    if number > 10:  # Breaking early to save time\n",
    "        break\n",
    "    print(number)\n",
    "# Lazy Evaluation: Values are computed only when needed, which can be useful for large data streams."
   ]
  },
  {
   "cell_type": "markdown",
   "id": "0c8724e2-11dd-4bdb-b1b9-c3132fa91d79",
   "metadata": {},
   "source": [
    "# 8. Lambda Function in Python"
   ]
  },
  {
   "cell_type": "code",
   "execution_count": null,
   "id": "0569f855-3236-46bc-8763-97e78169582e",
   "metadata": {},
   "outputs": [],
   "source": [
    "# Lambda Function: An anonymous function defined using the lambda keyword. Typically used for short, simple functions that are not reused.\n",
    "\n",
    "# Example:\n",
    "add = lambda x, y: x + y\n",
    "print(add(3, 5))  # Output: 8\n",
    "# Often used with functions like map(), filter(), etc."
   ]
  },
  {
   "cell_type": "markdown",
   "id": "1b2ec93e-286a-47b4-aafe-f1972330ecae",
   "metadata": {},
   "source": [
    "# 9. Purpose and Usage of the map() Function in Python"
   ]
  },
  {
   "cell_type": "code",
   "execution_count": 10,
   "id": "cf9b2a7d-b1b7-431a-9598-cc53f94602ca",
   "metadata": {},
   "outputs": [
    {
     "name": "stdout",
     "output_type": "stream",
     "text": [
      "[1, 4, 9, 16]\n"
     ]
    }
   ],
   "source": [
    "# map() Function: Applies a given function to each item of an iterable and returns a map object (an iterator).\n",
    "\n",
    "# Example:\n",
    "numbers = [1, 2, 3, 4]\n",
    "squares = map(lambda x: x**2, numbers)\n",
    "\n",
    "print(list(squares))  # Output: [1, 4, 9, 16]\n"
   ]
  },
  {
   "cell_type": "markdown",
   "id": "41895b71-4666-4358-b0ae-fcb3f7093636",
   "metadata": {},
   "source": [
    "# 10. Difference Between map(), reduce(), and filter() Functions in Python"
   ]
  },
  {
   "cell_type": "code",
   "execution_count": null,
   "id": "2a3aa27b-5450-461c-bb85-23ef7e1a1f46",
   "metadata": {},
   "outputs": [],
   "source": [
    "# map(): Applies a function to each item of an iterable.\n",
    "\n",
    "# Example :\n",
    "numbers = [1, 2, 3, 4]\n",
    "doubled = map(lambda x: x * 2, numbers)\n",
    "print(list(doubled))  # Output: [2, 4, 6, 8]\n"
   ]
  },
  {
   "cell_type": "code",
   "execution_count": null,
   "id": "dd2fad1b-4d2e-4b5e-bcaa-bdd49e46eead",
   "metadata": {},
   "outputs": [],
   "source": []
  },
  {
   "cell_type": "markdown",
   "id": "9a8c4179-fe82-446a-b490-80a2c3ae2237",
   "metadata": {},
   "source": [
    "# # 1. Write a Python function that takes a list of numbers as input and returns the sum of all even numbers in the list .\n"
   ]
  },
  {
   "cell_type": "code",
   "execution_count": 12,
   "id": "3b68b1ae-238d-45e2-8f15-9f00bfa13afd",
   "metadata": {},
   "outputs": [
    {
     "name": "stdin",
     "output_type": "stream",
     "text": [
      "Enter the list_of_numbers separated by commas:  1,2,3,4,5,6,7,8,9,10\n"
     ]
    },
    {
     "name": "stdout",
     "output_type": "stream",
     "text": [
      "The sum of even numbers is: 30\n"
     ]
    }
   ],
   "source": [
    "def sum_of_evens(numbers):\n",
    "    sum_evens = 0\n",
    "    for num in numbers:\n",
    "        if num % 2 == 0:\n",
    "            sum_evens += num\n",
    "    return sum_evens\n",
    "\n",
    "# Input list of numbers as a comma-separated string, then convert to a list of integers\n",
    "list_of_numbers = list(map(int, input(\"Enter the list_of_numbers separated by commas: \").split(',')))\n",
    "\n",
    "# Call the function and print the result\n",
    "result = sum_of_evens(list_of_numbers)\n",
    "print(\"The sum of even numbers is:\", result)\n"
   ]
  },
  {
   "cell_type": "markdown",
   "id": "aae90b2a-8cdf-4949-a239-5fcde9c464f9",
   "metadata": {},
   "source": [
    "# 2. Create a Python function that accepts a string and returns the reverse of that string."
   ]
  },
  {
   "cell_type": "code",
   "execution_count": 13,
   "id": "89e7e46b-fe78-45d2-9719-71f1edbf764f",
   "metadata": {},
   "outputs": [
    {
     "name": "stdout",
     "output_type": "stream",
     "text": [
      "Reversed string: !dlroW ,olleH\n"
     ]
    }
   ],
   "source": [
    "def reverse_string(s):\n",
    "    return s[::-1]\n",
    "\n",
    "# Example usage:\n",
    "input_string = \"Hello, World!\"\n",
    "reversed_string = reverse_string(input_string)\n",
    "print(\"Reversed string:\", reversed_string)\n"
   ]
  },
  {
   "cell_type": "markdown",
   "id": "f7ee9063-f392-43d0-9459-203feb2cbba7",
   "metadata": {},
   "source": [
    "# 3. Implement a Python function that takes a list of integers and returns a new list containing the squares of each number\n"
   ]
  },
  {
   "cell_type": "code",
   "execution_count": 15,
   "id": "d33a3001-71e6-4608-ac4d-5c7f087c19de",
   "metadata": {},
   "outputs": [
    {
     "name": "stdin",
     "output_type": "stream",
     "text": [
      "Enter the list_of_numbers separated by commas:  1,2,3,4,5\n"
     ]
    },
    {
     "name": "stdout",
     "output_type": "stream",
     "text": [
      "Square of list: [1, 4, 9, 16, 25]\n"
     ]
    }
   ],
   "source": [
    "def squares_list(a):\n",
    "    squared_list = []\n",
    "    for i in a:\n",
    "        squared_list.append(i**2)\n",
    "    return squared_list\n",
    "\n",
    "# Input list of numbers as a comma-separated string, then convert to a list of integers\n",
    "list_of_numbers = list(map(int, input(\"Enter the list_of_numbers separated by commas: \").split(',')))\n",
    "\n",
    "# Call the function and print the result\n",
    "square_of_numbers = squares_list(list_of_numbers)\n",
    "print(\"Square of list:\", square_of_numbers)\n"
   ]
  },
  {
   "cell_type": "markdown",
   "id": "a7a10799-ce97-44b1-882b-f864bd815676",
   "metadata": {},
   "source": [
    "#  4. Write a Python function that checks if a given number is prime or not from 1 to 200"
   ]
  },
  {
   "cell_type": "code",
   "execution_count": 1,
   "id": "c875df87-90a5-49ca-8d88-efd7e41d3a42",
   "metadata": {},
   "outputs": [
    {
     "name": "stdout",
     "output_type": "stream",
     "text": [
      "[2, 3, 5, 7, 11, 13, 17, 19, 23, 29, 31, 37, 41, 43, 47, 53, 59, 61, 67, 71, 73, 79, 83, 89, 97, 101, 103, 107, 109, 113, 127, 131, 137, 139, 149, 151, 157, 163, 167, 173, 179, 181, 191, 193, 197, 199]\n"
     ]
    }
   ],
   "source": [
    "def is_prime(n):\n",
    "    \"\"\"Check if a number is prime between 1 and 200.\"\"\"\n",
    "    if n <= 1:\n",
    "        return False\n",
    "    if n <= 3:\n",
    "        return True\n",
    "    if n % 2 == 0 or n % 3 == 0:\n",
    "        return False\n",
    "    i = 5\n",
    "    while i * i <= n:\n",
    "        if n % i == 0 or n % (i + 2) == 0:\n",
    "            return False\n",
    "        i += 6\n",
    "    return True\n",
    "\n",
    "# Check numbers from 1 to 200\n",
    "primes = [n for n in range(1, 201) if is_prime(n)]\n",
    "print(primes)\n"
   ]
  },
  {
   "cell_type": "markdown",
   "id": "4e923224-c70d-41c2-b184-617bff01f611",
   "metadata": {},
   "source": [
    "#  5. Create an iterator class in Python that generates the Fibonacci sequence up to a specified number of terms . \n"
   ]
  },
  {
   "cell_type": "code",
   "execution_count": 1,
   "id": "7c1b3606-66cc-4146-98ac-a5408ba74057",
   "metadata": {},
   "outputs": [
    {
     "data": {
      "text/plain": [
       "<generator object fib at 0x7ece16d59af0>"
      ]
     },
     "execution_count": 1,
     "metadata": {},
     "output_type": "execute_result"
    }
   ],
   "source": [
    "def fib(n):\n",
    "    a = 0\n",
    "    b = 1\n",
    "    for i in range(n):\n",
    "        yield a\n",
    "        a,b = b,a+b\n",
    "fib(75)"
   ]
  },
  {
   "cell_type": "code",
   "execution_count": 2,
   "id": "8ca66297-5c8e-4ab3-9a93-072e50246315",
   "metadata": {},
   "outputs": [],
   "source": [
    "fibo = fib(5)"
   ]
  },
  {
   "cell_type": "code",
   "execution_count": 3,
   "id": "d6287785-a38c-4cc1-9cad-71491f806c55",
   "metadata": {},
   "outputs": [
    {
     "data": {
      "text/plain": [
       "<generator object fib at 0x7ece16d59bd0>"
      ]
     },
     "execution_count": 3,
     "metadata": {},
     "output_type": "execute_result"
    }
   ],
   "source": [
    "fibo"
   ]
  },
  {
   "cell_type": "code",
   "execution_count": 4,
   "id": "55cc5826-acc2-4b54-92a6-b4bc993a8d55",
   "metadata": {},
   "outputs": [
    {
     "data": {
      "text/plain": [
       "0"
      ]
     },
     "execution_count": 4,
     "metadata": {},
     "output_type": "execute_result"
    }
   ],
   "source": [
    "next(fibo)"
   ]
  },
  {
   "cell_type": "markdown",
   "id": "9aed8960-e0b9-4803-ba64-6b8d9c2377e1",
   "metadata": {},
   "source": [
    "# 6. Write a generator function in Python that yields the powers of 2 up to a given exponent."
   ]
  },
  {
   "cell_type": "code",
   "execution_count": 5,
   "id": "00416d72-3225-43b3-a409-9db9dbcc5e60",
   "metadata": {},
   "outputs": [],
   "source": [
    "def power(n):\n",
    "    for i in range(n):\n",
    "        yield i**2\n"
   ]
  },
  {
   "cell_type": "code",
   "execution_count": 6,
   "id": "94ce5491-ca27-42e4-a6e4-4367d2bfba2c",
   "metadata": {},
   "outputs": [],
   "source": [
    "powers_of_2 = power(5)"
   ]
  },
  {
   "cell_type": "code",
   "execution_count": 8,
   "id": "fa529640-46d5-4274-8dc9-5fef5ac1ed53",
   "metadata": {},
   "outputs": [
    {
     "data": {
      "text/plain": [
       "0"
      ]
     },
     "execution_count": 8,
     "metadata": {},
     "output_type": "execute_result"
    }
   ],
   "source": [
    "next(powers_of_2)"
   ]
  },
  {
   "cell_type": "code",
   "execution_count": 9,
   "id": "98cdd36a-532a-4ea3-a8d8-3593fc41819a",
   "metadata": {},
   "outputs": [
    {
     "data": {
      "text/plain": [
       "1"
      ]
     },
     "execution_count": 9,
     "metadata": {},
     "output_type": "execute_result"
    }
   ],
   "source": [
    "next(powers_of_2)"
   ]
  },
  {
   "cell_type": "code",
   "execution_count": 10,
   "id": "15fe07c8-6b86-43b6-b117-a9209f3e0713",
   "metadata": {},
   "outputs": [
    {
     "data": {
      "text/plain": [
       "4"
      ]
     },
     "execution_count": 10,
     "metadata": {},
     "output_type": "execute_result"
    }
   ],
   "source": [
    "next(powers_of_2)"
   ]
  },
  {
   "cell_type": "code",
   "execution_count": 11,
   "id": "07522acb-8b52-4795-9f4b-60fd8f84399d",
   "metadata": {},
   "outputs": [
    {
     "data": {
      "text/plain": [
       "9"
      ]
     },
     "execution_count": 11,
     "metadata": {},
     "output_type": "execute_result"
    }
   ],
   "source": [
    "next(powers_of_2)"
   ]
  },
  {
   "cell_type": "code",
   "execution_count": 12,
   "id": "d3f7bbfe-06fb-4a54-92c4-022b2146d7a6",
   "metadata": {},
   "outputs": [
    {
     "data": {
      "text/plain": [
       "16"
      ]
     },
     "execution_count": 12,
     "metadata": {},
     "output_type": "execute_result"
    }
   ],
   "source": [
    "next(powers_of_2)"
   ]
  },
  {
   "cell_type": "markdown",
   "id": "823d7c5a-f685-4700-9aa5-f3edafc8c147",
   "metadata": {},
   "source": [
    "#  7. Implement a generator function that reads a file line by line and yields each line as a string"
   ]
  },
  {
   "cell_type": "code",
   "execution_count": null,
   "id": "a520e79c-b96e-4318-823f-07b79756c7b7",
   "metadata": {},
   "outputs": [],
   "source": [
    "def file():\n",
    "    line_string = \" \"\n",
    "    "
   ]
  },
  {
   "cell_type": "markdown",
   "id": "fe4eed38-1df7-4a64-90ce-02e41e963832",
   "metadata": {},
   "source": [
    "# 8. Use a lambda function in Python to sort a list of tuples based on the second element of each tuple."
   ]
  },
  {
   "cell_type": "code",
   "execution_count": 15,
   "id": "d3ac4845-aacd-45e8-a62b-502caacad85c",
   "metadata": {},
   "outputs": [
    {
     "name": "stdout",
     "output_type": "stream",
     "text": [
      "[(4, 1), (5, 2), (1, 3), (2, 4)]\n"
     ]
    }
   ],
   "source": [
    "# Example list of tuples\n",
    "tuples_list = [(1, 3), (4, 1), (5, 2), (2, 4)]\n",
    "\n",
    "# Sorting the list of tuples based on the second element of each tuple\n",
    "sorted_list = sorted(tuples_list, key=lambda x: x[1])\n",
    "\n",
    "# Printing the sorted list\n",
    "print(sorted_list)\n"
   ]
  },
  {
   "cell_type": "markdown",
   "id": "5b37dfaa-15bd-4bb3-8bcf-d1f5f430217a",
   "metadata": {},
   "source": [
    "# 9. Write a Python program that uses `map()` to convert a list of temperatures from Celsius to Fahrenheit."
   ]
  },
  {
   "cell_type": "code",
   "execution_count": 24,
   "id": "36fee738-f285-41f2-9529-1ce187ee6bce",
   "metadata": {},
   "outputs": [
    {
     "name": "stdout",
     "output_type": "stream",
     "text": [
      "[32.0, 68.0, 77.0, 86.0, 98.6, 212.0]\n"
     ]
    }
   ],
   "source": [
    "# Function to convert Celsius to Fahrenheit\n",
    "def celsius_to_fahrenheit(celsius):\n",
    "    return (celsius * 9/5) + 32\n",
    "\n",
    "# List of temperatures in Celsius\n",
    "celsius_temperatures = [0, 20, 25, 30, 37, 100]\n",
    "\n",
    "# Use map() to apply the conversion function to each element in the list\n",
    "fahrenheit_temperatures = list(map(celsius_to_fahrenheit, celsius_temperatures))\n",
    "\n",
    "# Print the converted temperatures\n",
    "print(fahrenheit_temperatures)\n"
   ]
  },
  {
   "cell_type": "markdown",
   "id": "553e9f2b-26be-4722-bd34-3b7ada093da7",
   "metadata": {},
   "source": [
    "# 10. Create a Python program that uses `filter()` to remove all the vowels from a given string."
   ]
  },
  {
   "cell_type": "code",
   "execution_count": 27,
   "id": "6624e58f-fa65-4220-a274-d473012dbc56",
   "metadata": {},
   "outputs": [
    {
     "name": "stdout",
     "output_type": "stream",
     "text": [
      "Hll, Wrld!\n"
     ]
    }
   ],
   "source": [
    "# Function to check if a character is a vowel\n",
    "def is_not_vowel(char):\n",
    "    vowels = 'aeiouAEIOU'\n",
    "    return char not in vowels\n",
    "\n",
    "# Input string\n",
    "input_string = \"Hello, World!\"\n",
    "\n",
    "# Use filter() to remove vowels from the string\n",
    "filtered_string = ''.join(filter(is_not_vowel, input_string))\n",
    "\n",
    "# Print the result\n",
    "print(filtered_string)\n"
   ]
  },
  {
   "cell_type": "code",
   "execution_count": 28,
   "id": "a9f25293-c3f0-40bc-89f4-6534d13e1fd8",
   "metadata": {},
   "outputs": [
    {
     "name": "stdout",
     "output_type": "stream",
     "text": [
      "bhjt\n"
     ]
    }
   ],
   "source": [
    "def remove_vowels(char):\n",
    "    vowels = 'AEIOUaeiou'\n",
    "    return char not in vowels\n",
    "\n",
    "input_ = \"Abhijit\"\n",
    "filter_list = list(filter(remove_vowels, input_))\n",
    "print(''.join(filter_list))\n"
   ]
  },
  {
   "cell_type": "markdown",
   "id": "055ee65b-f351-4742-b68c-8d3b46722d9b",
   "metadata": {},
   "source": [
    "#  11) Imagine an accounting routine used in a book shop. It works on a list with sublists, which look like this:\n",
    "# Write a Python program, which returns a list with 2-tuples. Each tuple consists of the order number and the \n",
    "# product of the price per item and the quantity. The product should be increased by 10,- € if the value of the \n",
    "# order is smaller than 100,00 €.\n",
    "\n",
    "# Write a Python program using lambda and map"
   ]
  },
  {
   "cell_type": "code",
   "execution_count": 1,
   "id": "d08ab949-66ef-4e2c-8396-7dc67bc94e8a",
   "metadata": {},
   "outputs": [
    {
     "name": "stdout",
     "output_type": "stream",
     "text": [
      "[(34587, 163.8), (98762, 284.0), (77226, 108.85000000000001), (88112, 84.97)]\n"
     ]
    }
   ],
   "source": [
    "# Sample list of orders\n",
    "orders = [\n",
    "    [34587, \"Learning Python, Mark Lutz\", 4, 40.95],\n",
    "    [98762, \"Programming Python, Mark Lutz\", 5, 56.80],\n",
    "    [77226, \"Head First Python, Paul Barry\", 3, 32.95],\n",
    "    [88112, \"Einführung in Python3, Bernd Klein\", 3, 24.99]\n",
    "]\n",
    "\n",
    "# Function to calculate the total cost of an order\n",
    "calculate_total = lambda order: (order[0], order[2] * order[3] + (10 if order[2] * order[3] < 100 else 0))\n",
    "\n",
    "# Use map to apply the function to each order\n",
    "order_totals = list(map(calculate_total, orders))\n",
    "\n",
    "# Print the resulting list of 2-tuples\n",
    "print(order_totals)\n"
   ]
  },
  {
   "cell_type": "code",
   "execution_count": null,
   "id": "561cccb2-f62b-4db7-a0d7-48dbaf474c07",
   "metadata": {},
   "outputs": [],
   "source": []
  }
 ],
 "metadata": {
  "kernelspec": {
   "display_name": "Python 3 (ipykernel)",
   "language": "python",
   "name": "python3"
  },
  "language_info": {
   "codemirror_mode": {
    "name": "ipython",
    "version": 3
   },
   "file_extension": ".py",
   "mimetype": "text/x-python",
   "name": "python",
   "nbconvert_exporter": "python",
   "pygments_lexer": "ipython3",
   "version": "3.10.8"
  }
 },
 "nbformat": 4,
 "nbformat_minor": 5
}
