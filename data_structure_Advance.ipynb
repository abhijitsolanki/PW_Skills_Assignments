{
 "cells": [
  {
   "cell_type": "markdown",
   "id": "601eab29-ed98-4d1f-9741-65ed09ab624d",
   "metadata": {},
   "source": [
    "# 1. Write a code to reverse a string ."
   ]
  },
  {
   "cell_type": "code",
   "execution_count": 2,
   "id": "8eed421d-8ed5-4f28-8b0e-efe04246a674",
   "metadata": {},
   "outputs": [
    {
     "data": {
      "text/plain": [
       "'Abhi+pwskills'"
      ]
     },
     "execution_count": 2,
     "metadata": {},
     "output_type": "execute_result"
    }
   ],
   "source": [
    "string1 = \"Abhi\"\n",
    "string2 = \"pwskills\"\n",
    "string3 = string1+\"+\"+string2\n",
    "string3[::1] \n",
    "\n"
   ]
  },
  {
   "cell_type": "code",
   "execution_count": 3,
   "id": "36f96c9c-7742-478f-9848-f85b7ea5ceb6",
   "metadata": {},
   "outputs": [
    {
     "data": {
      "text/plain": [
       "'sllikswp+ihbA'"
      ]
     },
     "execution_count": 3,
     "metadata": {},
     "output_type": "execute_result"
    }
   ],
   "source": [
    "string1 = \"Abhi\"\n",
    "string2 = \"pwskills\"\n",
    "string3 = string1+\"+\"+string2\n",
    "string3[::-1] \n"
   ]
  },
  {
   "cell_type": "markdown",
   "id": "a211b7f2-5d0b-497d-bda5-3d4347fccc48",
   "metadata": {},
   "source": [
    "# 2. Write a code to count the number of vowels in string ."
   ]
  },
  {
   "cell_type": "code",
   "execution_count": 10,
   "id": "c68af034-d02b-47c5-9476-fa8e042b41c4",
   "metadata": {},
   "outputs": [
    {
     "name": "stdout",
     "output_type": "stream",
     "text": [
      "Abhi+pwskills\n",
      "The number of vowels in the string is: 3\n"
     ]
    }
   ],
   "source": [
    "def count_vowels(s):\n",
    "    # Define a set of vowels\n",
    "    vowels = \"AEIOUaeiou\"\n",
    "    \n",
    "    # Initialize the count to zero\n",
    "    count = 0\n",
    "    \n",
    "    # Iterate through each character in the string\n",
    "    for char in s:\n",
    "        # Check if the character is a vowel\n",
    "        if char in vowels:\n",
    "            count += 1\n",
    "    \n",
    "    return count\n",
    "\n",
    "# Example usage\n",
    "string1 = \"Abhi\"\n",
    "string2 = \"pwskills\"\n",
    "string3 = string1 + \"+\" + string2\n",
    "\n",
    "vowel_count = count_vowels(string3)\n",
    "print(string3)\n",
    "print(f\"The number of vowels in the string is: {vowel_count}\")\n"
   ]
  },
  {
   "cell_type": "markdown",
   "id": "e9fdab15-1cc7-42f8-83bb-815d99862345",
   "metadata": {},
   "source": [
    "# 3. Write a code to check if a given string is a palindrme or not ."
   ]
  },
  {
   "cell_type": "code",
   "execution_count": 12,
   "id": "f1d75922-a235-47e2-8f5e-dddbce844d67",
   "metadata": {},
   "outputs": [
    {
     "name": "stdout",
     "output_type": "stream",
     "text": [
      "\"A man, a plan, a canal, Panama!\" is a palindrome.\n"
     ]
    }
   ],
   "source": [
    "def is_palindrome(s):\n",
    "    # Remove spaces and convert to lowercase\n",
    "    cleaned_string = ''.join(e for e in s if e.isalnum()).lower()\n",
    "    \n",
    "    # Check if the cleaned string reads the same forward and backward\n",
    "    return cleaned_string == cleaned_string[::-1]\n",
    "\n",
    "# Example usage\n",
    "string = \"A man, a plan, a canal, Panama!\"\n",
    "if is_palindrome(string):\n",
    "    print(f'\"{string}\" is a palindrome.')\n",
    "else:\n",
    "    print(f'\"{string}\" is not a palindrome.')\n"
   ]
  },
  {
   "cell_type": "markdown",
   "id": "ef947903-ac75-4c45-8ba7-77f9c955a6f1",
   "metadata": {},
   "source": [
    "# 4.  Write a code to check if two given strings are anagrams of each other ."
   ]
  },
  {
   "cell_type": "code",
   "execution_count": 15,
   "id": "eb0b3aec-96f8-4a02-a3e3-2a40380393c7",
   "metadata": {},
   "outputs": [
    {
     "name": "stdout",
     "output_type": "stream",
     "text": [
      "\" A decimal point.\" and \"I'm a dot in place.\" are anagrams.\n"
     ]
    }
   ],
   "source": [
    "import string\n",
    "\n",
    "def is_anagram(str1, str2):\n",
    "    # Remove punctuation and spaces, and convert to lowercase\n",
    "    translator = str.maketrans('', '', string.punctuation + string.whitespace)\n",
    "    cleaned_str1 = str1.translate(translator).lower()\n",
    "    cleaned_str2 = str2.translate(translator).lower()\n",
    "    \n",
    "    # Compare sorted versions of the cleaned strings\n",
    "    return sorted(cleaned_str1) == sorted(cleaned_str2)\n",
    "\n",
    "# Example usage\n",
    "string1 = \" A decimal point.\"\n",
    "string2 = \"I'm a dot in place.\"\n",
    "\n",
    "if is_anagram(string1, string2):\n",
    "    print(f'\"{string1}\" and \"{string2}\" are anagrams.')\n",
    "else:\n",
    "    print(f'\"{string1}\" and \"{string2}\" are not anagrams.')\n"
   ]
  },
  {
   "cell_type": "markdown",
   "id": "438c45d3-de8c-48cc-83b5-f28f9b675477",
   "metadata": {},
   "source": [
    "# \t5.  Write a code to find all occurrences  of subsgiven substring within another string"
   ]
  },
  {
   "cell_type": "code",
   "execution_count": 16,
   "id": "e66dba9d-27a8-4486-8e6f-8377c32f1018",
   "metadata": {
    "tags": []
   },
   "outputs": [
    {
     "name": "stdout",
     "output_type": "stream",
     "text": [
      "The substring 'test' occurs 2 times in the main string.\n"
     ]
    }
   ],
   "source": [
    "def count_substring(main_string, substring):\n",
    "    # Use the count method to find occurrences of the substring\n",
    "    return main_string.count(substring)\n",
    "\n",
    "# Example usage\n",
    "main_string = \"This is a test. This test is simple.\"\n",
    "substring = \"test\"\n",
    "\n",
    "count = count_substring(main_string, substring)\n",
    "print(f\"The substring '{substring}' occurs {count} times in the main string.\")\n"
   ]
  },
  {
   "cell_type": "code",
   "execution_count": 19,
   "id": "7e0ad187-6225-4a2c-8ebc-043bfae9b1fc",
   "metadata": {},
   "outputs": [
    {
     "name": "stdout",
     "output_type": "stream",
     "text": [
      "The substring 'test' occurs 2 times in the main string.\n"
     ]
    }
   ],
   "source": [
    "# Example usage\n",
    "main_string = \"This is a test. This test is simple.\"\n",
    "substring = \"test\"\n",
    "\n",
    "count = main_string.count(substring)\n",
    "print(f\"The substring '{substring}' occurs {count} times in the main string.\")\n"
   ]
  },
  {
   "cell_type": "markdown",
   "id": "b4fbd4f9-53e2-41c5-8ecc-463649f006cf",
   "metadata": {},
   "source": [
    "# 6 Write a code to perform basic string compression using the counts of repeated characters ."
   ]
  },
  {
   "cell_type": "code",
   "execution_count": 2,
   "id": "d3805688-6534-45ab-af25-872276fe4172",
   "metadata": {},
   "outputs": [
    {
     "name": "stdout",
     "output_type": "stream",
     "text": [
      "a2b1c5a3\n"
     ]
    }
   ],
   "source": [
    "def compress_string(s):\n",
    "    if not s:\n",
    "        return s\n",
    "\n",
    "    compressed = []\n",
    "    count = 1\n",
    "\n",
    "    for i in range(1, len(s)):\n",
    "        if s[i] == s[i - 1]:\n",
    "            count += 1\n",
    "        else:\n",
    "            compressed.append(f\"{s[i - 1]}{count}\")\n",
    "            count = 1\n",
    "\n",
    "    compressed.append(f\"{s[-1]}{count}\")\n",
    "\n",
    "    compressed_string = ''.join(compressed)\n",
    "    return compressed_string if len(compressed_string) < len(s) else s\n",
    "\n",
    "# Example usage\n",
    "input_string = \"aabcccccaaa\"\n",
    "compressed_string = compress_string(input_string)\n",
    "print(compressed_string)  # Output: a2b1c5a3\n"
   ]
  },
  {
   "cell_type": "markdown",
   "id": "76e136f3-8523-4e78-8839-98406dcf5b37",
   "metadata": {},
   "source": [
    "# 7. Write a code to determine if a string has all unique characters ."
   ]
  },
  {
   "cell_type": "code",
   "execution_count": 9,
   "id": "9e08edcf-6628-4f17-9016-938bb0e192cb",
   "metadata": {},
   "outputs": [
    {
     "name": "stdout",
     "output_type": "stream",
     "text": [
      "All characters are unique: False\n"
     ]
    }
   ],
   "source": [
    "def has_all_unique_characters(s):\n",
    "    # Remove leading and trailing spaces and convert to lowercase\n",
    "    s = s.strip().lower()\n",
    "\n",
    "    # Use a set to track characters we've seen\n",
    "    seen_characters = set()\n",
    "\n",
    "    # Iterate through each character in the string\n",
    "    for char in s:\n",
    "        # If the character is already in the set, it is not unique\n",
    "        if char in seen_characters:\n",
    "            return False\n",
    "        # Add the character to the set\n",
    "        seen_characters.add(char)\n",
    "\n",
    "    # If we never found a duplicate, all characters are unique\n",
    "    return True\n",
    "\n",
    "# Example usage\n",
    "x = \" Write a code to determine if a string has all unique characters .\"\n",
    "\n",
    "result = has_all_unique_characters(x)\n",
    "print(f\"All characters are unique: {result}\")\n"
   ]
  },
  {
   "cell_type": "markdown",
   "id": "bdd8a13f-5c60-447a-99ab-d1c4e3fd3d86",
   "metadata": {},
   "source": [
    "# 8.  Write a code to convert a given string to uppercase or lowercase ."
   ]
  },
  {
   "cell_type": "code",
   "execution_count": 12,
   "id": "e49533bb-a144-4d74-a71b-f725018c1015",
   "metadata": {},
   "outputs": [
    {
     "name": "stdout",
     "output_type": "stream",
     "text": [
      "WRITE A CODE TO CONVERT A GIVEN STRING TO UPPERCASE OR LOWERCASE .\n",
      "write a code to convert a given string to uppercase or lowercase .\n"
     ]
    }
   ],
   "source": [
    "x = \"Write a code to convert a given string to uppercase or lowercase .\"\n",
    "x1 = x.upper() \n",
    "x2 = x.lower()\n",
    "print(x1) \n",
    "print(x2) "
   ]
  },
  {
   "cell_type": "markdown",
   "id": "eb85098c-9211-42c6-bc82-5edfac2b4e0c",
   "metadata": {},
   "source": [
    "# 9. Write a code to count the number of words in a string ."
   ]
  },
  {
   "cell_type": "code",
   "execution_count": 24,
   "id": "6049401a-29d5-4659-924c-d2bb15f2fba4",
   "metadata": {},
   "outputs": [
    {
     "data": {
      "text/plain": [
       "13"
      ]
     },
     "execution_count": 24,
     "metadata": {},
     "output_type": "execute_result"
    }
   ],
   "source": [
    "x = \"Write a code to count the number of words in a string .\"\n",
    "y = x.strip()\n",
    "word_count = len(y.split(\" \"))\n",
    "word_count\n"
   ]
  },
  {
   "cell_type": "markdown",
   "id": "3e55e022-b648-4160-9c7c-6b206e4b3c19",
   "metadata": {},
   "source": [
    "# \"10. Write a code to concatenate two strings without using the + operator ."
   ]
  },
  {
   "cell_type": "code",
   "execution_count": 1,
   "id": "210d87f0-809f-4b2b-8d87-533243f8d0d6",
   "metadata": {},
   "outputs": [
    {
     "name": "stdout",
     "output_type": "stream",
     "text": [
      "I am Abhi I am Pwskills\n"
     ]
    }
   ],
   "source": [
    "string1 = \"I am Abhi\"\n",
    "string2 = \"I am Pwskills\"\n",
    "print(f\"{string1} {string2}\")"
   ]
  },
  {
   "cell_type": "markdown",
   "id": "0cd9d957-1ff3-4cb5-b600-e726bf018615",
   "metadata": {},
   "source": [
    "# 11. Write a code to remove all occurrences of a specific element from a list ."
   ]
  },
  {
   "cell_type": "code",
   "execution_count": 8,
   "id": "a89fd00b-6996-4408-ae29-c27b196fc610",
   "metadata": {},
   "outputs": [
    {
     "name": "stdout",
     "output_type": "stream",
     "text": [
      "['I am Abhi', 'WIT', 'I am Pwskills']\n"
     ]
    }
   ],
   "source": [
    "# Initial lists\n",
    "list1 = [\"I am Abhi\", \"I am Pwskills\", \"WIT\", \"!\", \"<\", \">\", \"?\", \")\", \"(\", \"*\", \"&\", \"^\", \"%\", \"$\"]\n",
    "list2 = [\"!\", \"@\", \"#\", \"$\", \"%\", \"^\", \"&\", \"*\", \"(\", \")\", \"_\", \"+\", \"=\",\"?\",\">\",\"<\"]\n",
    "\n",
    "# Convert lists to sets\n",
    "set1 = set(list1)\n",
    "set2 = set(list2)\n",
    "\n",
    "# Find the difference between the sets\n",
    "set_difference = set1 - set2\n",
    "\n",
    "# Convert the result back to a list\n",
    "list3 = list(set_difference)\n",
    "\n",
    "# Print the result\n",
    "print(list3)\n"
   ]
  },
  {
   "cell_type": "markdown",
   "id": "b9c2862b-b871-41a8-922b-3d86d710a245",
   "metadata": {},
   "source": [
    "# 12. Implement a code to find the second largest number in a given list of integers ."
   ]
  },
  {
   "cell_type": "code",
   "execution_count": 18,
   "id": "72968831-df2e-449e-9c2f-64b4520c6967",
   "metadata": {},
   "outputs": [
    {
     "name": "stdout",
     "output_type": "stream",
     "text": [
      "Sorted list in descending order:\n",
      "5000\n",
      "4000\n",
      "3000\n",
      "2000\n",
      "1000\n",
      "The second largest number is: 4000\n"
     ]
    }
   ],
   "source": [
    "# Initial list\n",
    "list1 = [1000, 2000, 3000, 4000, 5000]\n",
    "n = len(list1)\n",
    "\n",
    "# Sort the list in descending order using bubble sort\n",
    "for i in range(n):\n",
    "    # Compare with the following elements\n",
    "    for j in range(i + 1, n):\n",
    "        if list1[i] < list1[j]:\n",
    "            # Swap the elements\n",
    "            temp = list1[i]\n",
    "            list1[i] = list1[j]\n",
    "            list1[j] = temp\n",
    "\n",
    "# Print the sorted list\n",
    "print(\"Sorted list in descending order:\")\n",
    "for number in list1:\n",
    "    print(number)\n",
    "\n",
    "# Print the second largest number\n",
    "print(\"The second largest number is:\", list1[1])\n"
   ]
  },
  {
   "cell_type": "markdown",
   "id": "e6ac8404-67dc-4222-9800-a6afd803cd60",
   "metadata": {},
   "source": [
    "# 13. Create a code to count the occurrennes of each element in a list and return a dictionar with elements keys and their counts as values .\n"
   ]
  },
  {
   "cell_type": "code",
   "execution_count": 19,
   "id": "26cb6f72-a7f9-4dbf-9bd1-7671be7c5ff8",
   "metadata": {},
   "outputs": [
    {
     "name": "stdout",
     "output_type": "stream",
     "text": [
      "Element counts: {1000: 3, 2000: 2, 3000: 1, 4000: 1, 5000: 1}\n"
     ]
    }
   ],
   "source": [
    "def count_occurrences(input_list):\n",
    "    # Initialize an empty dictionary to store element counts\n",
    "    count_dict = {}\n",
    "\n",
    "    # Iterate over each element in the list\n",
    "    for element in input_list:\n",
    "        # If the element is already in the dictionary, increment its count\n",
    "        if element in count_dict:\n",
    "            count_dict[element] += 1\n",
    "        # Otherwise, add the element to the dictionary with a count of 1\n",
    "        else:\n",
    "            count_dict[element] = 1\n",
    "\n",
    "    return count_dict\n",
    "\n",
    "# Example usage\n",
    "list1 = [1000, 2000, 3000, 4000, 5000, 1000, 2000, 1000]\n",
    "element_counts = count_occurrences(list1)\n",
    "print(\"Element counts:\", element_counts)\n"
   ]
  },
  {
   "cell_type": "markdown",
   "id": "e0429bc8-fb50-4358-8967-a7bd3f3de701",
   "metadata": {},
   "source": [
    "# 14. Write a code to reverse a list in-place without using any built-in-in reverse functions "
   ]
  },
  {
   "cell_type": "code",
   "execution_count": 25,
   "id": "2943cc76-023c-488f-a96d-c2569b359160",
   "metadata": {},
   "outputs": [
    {
     "name": "stdout",
     "output_type": "stream",
     "text": [
      "Original list: [1, 2, 3, 4, 5]\n",
      "Reversed list: [5, 4, 3, 2, 1]\n"
     ]
    }
   ],
   "source": [
    "def reverse_list_in_place(lst):\n",
    "    # Get the length of the list\n",
    "    n = len(lst)\n",
    "\n",
    "    # Use two pointers: one starting from the beginning and one from the end\n",
    "    left = 0\n",
    "    right = n - 1\n",
    "\n",
    "    # Swap elements until the pointers meet in the middle\n",
    "    while left < right:\n",
    "        # Swap the elements\n",
    "        lst[left], lst[right] = lst[right], lst[left]\n",
    "\n",
    "        # Move the pointers\n",
    "        left += 1\n",
    "        right -= 1\n",
    "\n",
    "# Example usage\n",
    "list1 = [1, 2, 3, 4, 5]\n",
    "print(\"Original list:\", list1)\n",
    "\n",
    "reverse_list_in_place(list1)\n",
    "print(\"Reversed list:\", list1)\n"
   ]
  },
  {
   "cell_type": "markdown",
   "id": "9b197baa-aa36-4711-aff4-e26525b67d78",
   "metadata": {},
   "source": [
    "# 15 Implement a code to find and remove duplicates from a list while preseving the original order of elements"
   ]
  },
  {
   "cell_type": "code",
   "execution_count": 7,
   "id": "05dd7489-e8c4-47a5-9d72-bf88aa785106",
   "metadata": {},
   "outputs": [
    {
     "name": "stdout",
     "output_type": "stream",
     "text": [
      "[1, 2, 3, 4, 5, 6]\n"
     ]
    }
   ],
   "source": [
    "def remove_duplicates(original_list):\n",
    "    seen = set()\n",
    "    result = []\n",
    "    for item in original_list:\n",
    "        if item not in seen:\n",
    "            result.append(item)\n",
    "            seen.add(item)\n",
    "    return result\n",
    "    \n",
    "# Example usage:\n",
    "my_list = [1, 2, 3, 2, 1, 4, 5, 3, 6]\n",
    "unique_list = remove_duplicates(my_list)\n",
    "print(unique_list)  \n"
   ]
  },
  {
   "cell_type": "code",
   "execution_count": 9,
   "id": "c38f8bff-9c4f-400b-8dd7-c6d772a4646e",
   "metadata": {},
   "outputs": [
    {
     "name": "stdout",
     "output_type": "stream",
     "text": [
      "[1]\n",
      "[1, 2]\n",
      "[1, 2, 3]\n",
      "[1, 2, 3, 2]\n",
      "[1, 2, 3, 2, 1]\n",
      "[1, 2, 3, 2, 1, 4]\n",
      "[1, 2, 3, 2, 1, 4, 5]\n",
      "[1, 2, 3, 2, 1, 4, 5, 3]\n",
      "[1, 2, 3, 2, 1, 4, 5, 3, 6]\n"
     ]
    }
   ],
   "source": [
    "my_list = [1, 2, 3, 2, 1, 4, 5, 3, 6]\n",
    "seen = set() \n",
    "result = []\n",
    "for item in my_list :\n",
    "     if item not in seen:\n",
    "            result.append(item) \n",
    "            print(result) \n",
    "    "
   ]
  },
  {
   "cell_type": "markdown",
   "id": "06400b40-c78d-472d-a639-0c0c91225c85",
   "metadata": {},
   "source": [
    "# 16. Create a code to check if a given list is sorted (either in ascending or descending order) or not ."
   ]
  },
  {
   "cell_type": "code",
   "execution_count": 10,
   "id": "65457547-cf11-4cf9-881f-8d3e315e4179",
   "metadata": {},
   "outputs": [
    {
     "name": "stdout",
     "output_type": "stream",
     "text": [
      "The list is sorted in ascending order.\n",
      "The list is sorted in descending order.\n",
      "The list is not sorted.\n"
     ]
    }
   ],
   "source": [
    "def is_sorted_efficient(lst):\n",
    "    ascending = all(lst[i] <= lst[i + 1] for i in range(len(lst) - 1))\n",
    "    descending = all(lst[i] >= lst[i + 1] for i in range(len(lst) - 1))\n",
    "    \n",
    "    if ascending:\n",
    "        return \"The list is sorted in ascending order.\"\n",
    "    elif descending:\n",
    "        return \"The list is sorted in descending order.\"\n",
    "    else:\n",
    "        return \"The list is not sorted.\"\n",
    "\n",
    "# Example usage:\n",
    "list1 = [1, 2, 3, 4, 5]\n",
    "list2 = [5, 4, 3, 2, 1]\n",
    "list3 = [1, 3, 2, 4, 5]\n",
    "\n",
    "print(is_sorted_efficient(list1))  \n",
    "print(is_sorted_efficient(list2))  \n",
    "print(is_sorted_efficient(list3))  \n"
   ]
  },
  {
   "cell_type": "markdown",
   "id": "29adfc08-b510-4df5-8e11-6d4c0f9aac1e",
   "metadata": {},
   "source": [
    "# 17. Write a code to merge two sorted lists into a single sorted list ."
   ]
  },
  {
   "cell_type": "code",
   "execution_count": 11,
   "id": "39bf620b-087e-46b0-9706-2dbf5a189903",
   "metadata": {},
   "outputs": [
    {
     "name": "stdout",
     "output_type": "stream",
     "text": [
      "[1, 2, 3, 4, 5, 6, 7, 8]\n"
     ]
    }
   ],
   "source": [
    "def merge_sorted_lists(list1, list2):\n",
    "    merged_list = []\n",
    "    i, j = 0, 0\n",
    "    \n",
    "    # Traverse both lists and merge them\n",
    "    while i < len(list1) and j < len(list2):\n",
    "        if list1[i] < list2[j]:\n",
    "            merged_list.append(list1[i])\n",
    "            i += 1\n",
    "        else:\n",
    "            merged_list.append(list2[j])\n",
    "            j += 1\n",
    "    \n",
    "    # If there are remaining elements in list1, add them to the merged list\n",
    "    while i < len(list1):\n",
    "        merged_list.append(list1[i])\n",
    "        i += 1\n",
    "    \n",
    "    # If there are remaining elements in list2, add them to the merged list\n",
    "    while j < len(list2):\n",
    "        merged_list.append(list2[j])\n",
    "        j += 1\n",
    "    \n",
    "    return merged_list\n",
    "\n",
    "# Example usage:\n",
    "list1 = [1, 3, 5, 7]\n",
    "list2 = [2, 4, 6, 8]\n",
    "result = merge_sorted_lists(list1, list2)\n",
    "print(result)  \n"
   ]
  },
  {
   "cell_type": "markdown",
   "id": "fb36ef57-8635-4740-900b-a1925e15bda6",
   "metadata": {},
   "source": [
    "# 18. Implement a code to find the intersection of two given list ."
   ]
  },
  {
   "cell_type": "code",
   "execution_count": 12,
   "id": "8f9a1651-e5bd-4085-b12b-4ab082533ede",
   "metadata": {},
   "outputs": [
    {
     "name": "stdout",
     "output_type": "stream",
     "text": [
      "[4, 5]\n"
     ]
    }
   ],
   "source": [
    "def intersection(list1, list2):\n",
    "    # Convert both lists to sets\n",
    "    set1 = set(list1)\n",
    "    set2 = set(list2) \n",
    "    set3 = set1 & set2\n",
    "    \n",
    "    \n",
    "    # Convert the resulting set back to a list\n",
    "    return list(set3)\n",
    "\n",
    "# Example usage:\n",
    "list1 = [1, 2, 3, 4, 5]\n",
    "list2 = [4, 5, 6, 7, 8]\n",
    "result = intersection(list1, list2)\n",
    "print(result)  \n"
   ]
  },
  {
   "cell_type": "markdown",
   "id": "f3d20c09-147b-4359-8631-06e38a8d9eff",
   "metadata": {},
   "source": [
    "# 19. Create a code to find the union of two lists without duplicates ."
   ]
  },
  {
   "cell_type": "code",
   "execution_count": 13,
   "id": "178147bc-a8fb-4480-aa6c-15c4c4dda39a",
   "metadata": {},
   "outputs": [
    {
     "name": "stdout",
     "output_type": "stream",
     "text": [
      "[1, 2, 3, 4, 5, 6, 7, 8]\n"
     ]
    }
   ],
   "source": [
    "def union(list1, list2):\n",
    "    # Convert both lists to sets and find their union\n",
    "    set1 = set(list1)\n",
    "    set2 = set(list2)\n",
    "    set3 = set1 | set2 \n",
    "    \n",
    "    # Convert the resulting set back to a list\n",
    "    return list(set3)\n",
    "\n",
    "# Example usage:\n",
    "list1 = [1, 2, 3, 4, 5]\n",
    "list2 = [4, 5, 6, 7, 8]\n",
    "result = union(list1, list2)\n",
    "print(result)  \n"
   ]
  },
  {
   "cell_type": "markdown",
   "id": "9c9d56eb-3bc9-440d-83c7-f4c500a5c9da",
   "metadata": {},
   "source": [
    "# 20. Write a  code to shuffle a given list randomly  without using any built-in shuffle functions ."
   ]
  },
  {
   "cell_type": "code",
   "execution_count": 15,
   "id": "bd459f61-7331-40be-b827-14181dac4243",
   "metadata": {},
   "outputs": [
    {
     "name": "stdout",
     "output_type": "stream",
     "text": [
      "[7, 9, 8, 10, 3, 4, 1, 5, 2, 6]\n"
     ]
    }
   ],
   "source": [
    "import random\n",
    "\n",
    "def shuffle_list(lst):\n",
    "    # Get the length of the list\n",
    "    n = len(lst)\n",
    "    \n",
    "    # Iterate over the list from the last element to the first\n",
    "    for i in range(n - 1, 0, -1):\n",
    "        # Generate a random index between 0 and i (inclusive)\n",
    "        j = random.randint(0, i)\n",
    "        \n",
    "        # Swap the current element with the element at the random index\n",
    "        lst[i], lst[j] = lst[j], lst[i]\n",
    "\n",
    "# Example usage:\n",
    "my_list = [1, 2, 3, 4, 5, 6, 7, 8, 9, 10]\n",
    "shuffle_list(my_list)\n",
    "print(my_list)\n"
   ]
  },
  {
   "cell_type": "markdown",
   "id": "7c7d469d-8300-47da-8f8e-86f975503821",
   "metadata": {},
   "source": [
    "# 21. Write a code that tkes two tuples as input and returns a new tuple containing elements that are common to both input tuples . \n"
   ]
  },
  {
   "cell_type": "code",
   "execution_count": 16,
   "id": "12661ad6-0941-4dca-a79f-7af954808462",
   "metadata": {},
   "outputs": [
    {
     "name": "stdout",
     "output_type": "stream",
     "text": [
      "(4, 5)\n"
     ]
    }
   ],
   "source": [
    "def common_elements(tuple1, tuple2):\n",
    "    # Convert tuples to sets\n",
    "    set1 = set(tuple1)\n",
    "    set2 = set(tuple2)\n",
    "    \n",
    "    # Find the intersection of both sets\n",
    "    common_set = set1.intersection(set2)\n",
    "    \n",
    "    # Convert the resulting set back to a tuple and return\n",
    "    return tuple(common_set)\n",
    "\n",
    "# Example usage:\n",
    "tuple1 = (1, 2, 3, 4, 5)\n",
    "tuple2 = (4, 5, 6, 7, 8)\n",
    "result = common_elements(tuple1, tuple2)\n",
    "print(result)  # Output: (4, 5)\n"
   ]
  },
  {
   "cell_type": "markdown",
   "id": "695eae26-f420-4466-8499-d51ec9fdf4e9",
   "metadata": {},
   "source": [
    "# 22. Create a code that prompts the user to enter two sets of integers separated by commas . then,print the intersection of these two sets . \n",
    " "
   ]
  },
  {
   "cell_type": "code",
   "execution_count": 1,
   "id": "a7bd7e6a-c6bc-4fee-865d-5d1615ba6b90",
   "metadata": {},
   "outputs": [
    {
     "name": "stdin",
     "output_type": "stream",
     "text": [
      "Enter the first set of integers, separated by commas:  1,2,3,4,5,6,7\n",
      "Enter the second set of integers, separated by commas:  3,5,7,8,99,999\n"
     ]
    },
    {
     "name": "stdout",
     "output_type": "stream",
     "text": [
      "The intersection of the two sets is: {3, 5, 7}\n"
     ]
    }
   ],
   "source": [
    "# Get two sets from user input\n",
    "set1 = input(\"Enter the first set of integers, separated by commas: \")\n",
    "set1 = [int(x.strip()) for x in set1.split(',')]\n",
    "set3 = set(set1)\n",
    "\n",
    "set2 = input(\"Enter the second set of integers, separated by commas: \")\n",
    "set2 = [int(x.strip()) for x in set2.split(',')]\n",
    "set4 = set(set2)\n",
    "\n",
    "# Find the intersection of the two sets\n",
    "intersection = set3.intersection(set4)\n",
    "\n",
    "# Print the result\n",
    "print(\"The intersection of the two sets is:\", intersection)\n"
   ]
  },
  {
   "cell_type": "markdown",
   "id": "19291a04-f53a-46f1-95cf-b2377b5b3037",
   "metadata": {},
   "source": [
    "# 23. Write a code to concatenate two tuples. The function should take two tuples as input and return a new tuple containing elements from  both input tuples .\n"
   ]
  },
  {
   "cell_type": "code",
   "execution_count": null,
   "id": "9b67a904-2b95-4a82-b7f9-652fdc4a0490",
   "metadata": {},
   "outputs": [],
   "source": []
  },
  {
   "cell_type": "code",
   "execution_count": null,
   "id": "a6dae9a8-ce92-4cbe-aa95-6af2cb053414",
   "metadata": {
    "jupyter": {
     "source_hidden": true
    },
    "tags": []
   },
   "outputs": [],
   "source": [
    "def concatenate_tuples(tuple1, tuple2):\n",
    "    # Concatenate the two tuples\n",
    "    result = tuple1 + tuple2\n",
    "    \n",
    "    # Return the new concatenated tuple\n",
    "    return result\n",
    "\n",
    "# Example usage:\n",
    "tuple1 = (1, 2, 3)\n",
    "tuple2 = (4, 5, 6)\n",
    "result = concatenate_tuples(tuple1, tuple2)\n",
    "print(result)  # Output: (1, 2, 3, 4, 5, 6)\n"
   ]
  },
  {
   "cell_type": "markdown",
   "id": "886b4154-adc1-4399-b9ec-25274993155a",
   "metadata": {},
   "source": [
    "# Develop a code that prompts the user to input two sets of strings. Then print the elements that are present in the first set but not in the second set .\n",
    "  \n",
    "\n"
   ]
  },
  {
   "cell_type": "code",
   "execution_count": 2,
   "id": "561fbb62-1359-4b27-98b0-c032bfb64ae7",
   "metadata": {},
   "outputs": [
    {
     "name": "stdin",
     "output_type": "stream",
     "text": [
      "Enter the first set of integers, separated by commas:  99,999,999,9999\n",
      "Enter the second set of integers, separated by commas:  99,9999,777,666\n"
     ]
    },
    {
     "name": "stdout",
     "output_type": "stream",
     "text": [
      "The difference of the two sets is: {999}\n"
     ]
    }
   ],
   "source": [
    "# Get two sets from user input\n",
    "set1 = input(\"Enter the first set of integers, separated by commas: \")\n",
    "set1 = [int(x.strip()) for x in set1.split(',')]\n",
    "set3 = set(set1)\n",
    "\n",
    "set2 = input(\"Enter the second set of integers, separated by commas: \")\n",
    "set2 = [int(x.strip()) for x in set2.split(',')]\n",
    "set4 = set(set2)\n",
    "\n",
    "# Find the intersection of the two sets\n",
    "difference = set3.difference(set4)\n",
    "\n",
    "# Print the result\n",
    "print(\"The difference of the two sets is:\", difference )\n"
   ]
  },
  {
   "cell_type": "markdown",
   "id": "3bbaa88b-b8bf-4810-9743-aafd9906ce7d",
   "metadata": {},
   "source": [
    "# 25. Create a code that takes a tuple and two integers as input. The function should return a new tuple containing elements from the original tuple within the specified range of indices .\n",
    "containing el"
   ]
  },
  {
   "cell_type": "code",
   "execution_count": 9,
   "id": "be9e2309-63d0-461b-8ece-6f309e9e9a6b",
   "metadata": {},
   "outputs": [
    {
     "name": "stdin",
     "output_type": "stream",
     "text": [
      "Enter a tuple of integers, separated by commas:  1,2,3,4,5,6,7\n",
      "Enter the start index:  2\n",
      "Enter the end index:  6\n"
     ]
    },
    {
     "name": "stdout",
     "output_type": "stream",
     "text": [
      "The new tuple containing elements within the specified range is: (3, 4, 5, 6)\n"
     ]
    }
   ],
   "source": [
    "def slice_tuple(tpl, start, end):\n",
    "    # Slice the tuple from start to end index (inclusive of start, exclusive of end)\n",
    "    sliced_tuple = tpl[start:end]\n",
    "    return sliced_tuple\n",
    "\n",
    "# Example usage:\n",
    "if __name__ == \"__main__\":\n",
    "    # Get user input for the tuple and indices\n",
    "    tpl = tuple(map(int, input(\"Enter a tuple of integers, separated by commas: \").split(',')))\n",
    "    start = int(input(\"Enter the start index: \"))\n",
    "    end = int(input(\"Enter the end index: \"))\n",
    "    \n",
    "    # Get the sliced tuple\n",
    "    result = slice_tuple(tpl, start, end)\n",
    "    \n",
    "    # Print the result\n",
    "    print(\"The new tuple containing elements within the specified range is:\", result)\n"
   ]
  },
  {
   "cell_type": "code",
   "execution_count": null,
   "id": "b1d95c74-fda0-455d-8141-3bf83991fd0e",
   "metadata": {},
   "outputs": [],
   "source": []
  },
  {
   "cell_type": "markdown",
   "id": "46d09a14-dbca-43f2-be90-add6e4081afb",
   "metadata": {},
   "source": [
    "# 26  Write a code that prompts the user to input two sets of characters. Then print the union of these two sets ."
   ]
  },
  {
   "cell_type": "code",
   "execution_count": 7,
   "id": "52a5baa4-e713-4036-8bf9-cbb647ee359f",
   "metadata": {},
   "outputs": [
    {
     "name": "stdin",
     "output_type": "stream",
     "text": [
      "Enter the first set of integers, separated by commas:  1,2,3,4,5\n",
      "Enter the second set of integers, separated by commas:  6,7,8,9,10\n"
     ]
    },
    {
     "name": "stdout",
     "output_type": "stream",
     "text": [
      "The union of the two sets is: {1, 2, 3, 4, 5, 6, 7, 8, 9, 10}\n"
     ]
    }
   ],
   "source": [
    "# Get two sets from user input\n",
    "set1 = input(\"Enter the first set of integers, separated by commas: \")\n",
    "set1 = [int(x.strip()) for x in set1.split(',')]\n",
    "set3 = set(set1)\n",
    "\n",
    "set2 = input(\"Enter the second set of integers, separated by commas: \")\n",
    "set2 = [int(y.strip()) for y in set2.split(',')]\n",
    "set4 = set(set2)\n",
    "\n",
    "# Find the intersection of the two sets\n",
    "union = set3.union(set4)\n",
    "\n",
    "# Print the result\n",
    "print(\"The union of the two sets is:\", union)\n"
   ]
  },
  {
   "cell_type": "markdown",
   "id": "a42da951-a478-412d-b77c-dfe13682106f",
   "metadata": {},
   "source": [
    "# 27. Develop a code that takes a tuple of integers as input. The function should return the maximum and minimum values from the tuple using tuple unpacking . \n"
   ]
  },
  {
   "cell_type": "code",
   "execution_count": 10,
   "id": "0575aa86-be9a-41ea-b326-dae021ce4ce1",
   "metadata": {},
   "outputs": [
    {
     "name": "stdin",
     "output_type": "stream",
     "text": [
      "Enter a tuple of integers, separated by commas:  1,2,3,4,5\n"
     ]
    },
    {
     "name": "stdout",
     "output_type": "stream",
     "text": [
      "The minimum value is: 1\n",
      "The maximum value is: 5\n"
     ]
    }
   ],
   "source": [
    "def min_max_from_tuple(tpl):\n",
    "    # Ensure the tuple is not empty\n",
    "    if not tpl:\n",
    "        raise ValueError(\"The tuple is empty and has no min or max values.\")\n",
    "    \n",
    "    # Unpack the tuple to find minimum and maximum values\n",
    "    min_val, max_val = min(tpl), max(tpl)\n",
    "    \n",
    "    # Return the results as a tuple\n",
    "    return min_val, max_val\n",
    "\n",
    "# Example usage:\n",
    "if __name__ == \"__main__\":\n",
    "    # Get user input for the tuple of integers\n",
    "    tpl = tuple(map(int, input(\"Enter a tuple of integers, separated by commas: \").split(',')))\n",
    "    \n",
    "    # Get the minimum and maximum values\n",
    "    min_val, max_val = min_max_from_tuple(tpl)\n",
    "    \n",
    "    # Print the result\n",
    "    print(f\"The minimum value is: {min_val}\")\n",
    "    print(f\"The maximum value is: {max_val}\")\n"
   ]
  },
  {
   "cell_type": "markdown",
   "id": "13dc9d39-b32f-4719-8396-bb664d3d1c4d",
   "metadata": {},
   "source": [
    "# 28. Create a code that defines two sets of integers. Then print the union intersection and differene of thse two sets . \n"
   ]
  },
  {
   "cell_type": "code",
   "execution_count": 11,
   "id": "b0d3f7de-bcd9-45e0-a704-f2728c1a2fdc",
   "metadata": {},
   "outputs": [
    {
     "name": "stdout",
     "output_type": "stream",
     "text": [
      "Union of the two sets: {1, 2, 3, 4, 5, 6, 7, 8}\n",
      "Intersection of the two sets: {4, 5}\n",
      "Difference of the two sets (set1 - set2): {1, 2, 3}\n"
     ]
    }
   ],
   "source": [
    "def set_operations(set1, set2):\n",
    "    # Compute the union of the two sets\n",
    "    union_set = set1.union(set2)\n",
    "    \n",
    "    # Compute the intersection of the two sets\n",
    "    intersection_set = set1.intersection(set2)\n",
    "    \n",
    "    # Compute the difference of the two sets (elements in set1 but not in set2)\n",
    "    difference_set = set1.difference(set2)\n",
    "    \n",
    "    return union_set, intersection_set, difference_set\n",
    "\n",
    "# Example usage:\n",
    "if __name__ == \"__main__\":\n",
    "    # Define two sets of integers\n",
    "    set1 = {1, 2, 3, 4, 5}\n",
    "    set2 = {4, 5, 6, 7, 8}\n",
    "    \n",
    "    # Get the results of set operations\n",
    "    union_set, intersection_set, difference_set = set_operations(set1, set2)\n",
    "    \n",
    "    # Print the results\n",
    "    print(\"Union of the two sets:\", union_set)\n",
    "    print(\"Intersection of the two sets:\", intersection_set)\n",
    "    print(\"Difference of the two sets (set1 - set2):\", difference_set)\n"
   ]
  },
  {
   "cell_type": "markdown",
   "id": "b4a212c9-f0ae-4cbc-846a-3f9a06903259",
   "metadata": {},
   "source": [
    "# 29. Write a code that takes a tuple and an element as input. The function should return the count of occurrences of the given element in the tuple . \n"
   ]
  },
  {
   "cell_type": "code",
   "execution_count": 13,
   "id": "d9d0df30-2125-403f-99e9-1e271e6085ac",
   "metadata": {},
   "outputs": [
    {
     "name": "stdin",
     "output_type": "stream",
     "text": [
      "Enter a tuple of integers, separated by commas:  1,1,1,2,2,2,3,4,5\n",
      "Enter the element to count:  1\n"
     ]
    },
    {
     "name": "stdout",
     "output_type": "stream",
     "text": [
      "The count of occurrences of 1 in the tuple is: 3\n"
     ]
    }
   ],
   "source": [
    "def count_occurrences(tpl, element):\n",
    "    # Count the occurrences of the element in the tuple\n",
    "    count = tpl.count(element)\n",
    "    return count\n",
    "\n",
    "# Example usage:\n",
    "if __name__ == \"__main__\":\n",
    "    # Get user input for the tuple of integers\n",
    "    tpl = tuple(map(int, input(\"Enter a tuple of integers, separated by commas: \").split(',')))\n",
    "    \n",
    "    # Get user input for the element to count\n",
    "    element = int(input(\"Enter the element to count: \"))\n",
    "    \n",
    "    # Get the count of occurrences of the element\n",
    "    count = count_occurrences(tpl, element)\n",
    "    \n",
    "    # Print the result\n",
    "    print(f\"The count of occurrences of {element} in the tuple is: {count}\")\n"
   ]
  },
  {
   "cell_type": "markdown",
   "id": "676a8032-a7fd-4dfc-a9b1-7d8d517578e8",
   "metadata": {},
   "source": [
    "# 30. Develop a code that prompts the user to input two sets of strings. Then print the symmetric difference of these two sets \n"
   ]
  },
  {
   "cell_type": "code",
   "execution_count": 15,
   "id": "59d61b04-5372-4f38-b9a4-47c0371edf3c",
   "metadata": {},
   "outputs": [
    {
     "name": "stdin",
     "output_type": "stream",
     "text": [
      "Enter the first set of strings, separated by commas:  1,2,3\n",
      "Enter the second set of strings, separated by commas:  2,3,23\n"
     ]
    },
    {
     "name": "stdout",
     "output_type": "stream",
     "text": [
      "The symmetric difference of the two sets is: {'23', '1'}\n"
     ]
    }
   ],
   "source": [
    "def get_set_from_input(prompt):\n",
    "    # Prompt the user for input and split the input string into elements\n",
    "    input_str = input(prompt)\n",
    "    \n",
    "    # Convert the input string to a set of strings\n",
    "    input_set = set(x.strip() for x in input_str.split(','))\n",
    "    \n",
    "    return input_set\n",
    "\n",
    "def main():\n",
    "    # Get two sets of strings from user input\n",
    "    set1 = get_set_from_input(\"Enter the first set of strings, separated by commas: \")\n",
    "    set2 = get_set_from_input(\"Enter the second set of strings, separated by commas: \")\n",
    "    \n",
    "    # Compute the symmetric difference of the two sets\n",
    "    symmetric_difference = set1.symmetric_difference(set2)\n",
    "    \n",
    "    # Print the result\n",
    "    print(\"The symmetric difference of the two sets is:\", symmetric_difference)\n",
    "\n",
    "if __name__ == \"__main__\":\n",
    "    main()\n"
   ]
  },
  {
   "cell_type": "markdown",
   "id": "6faccec3-e8c5-462a-9204-bec7b353a3c3",
   "metadata": {},
   "source": [
    " # 31. Write a code that takes a list of words as input and returns a dictionary where the keys are unique words and the values are the frequencies of those words in the input list ."
   ]
  },
  {
   "cell_type": "code",
   "execution_count": 16,
   "id": "4ed92203-723b-4523-b4f6-24fac04e3323",
   "metadata": {},
   "outputs": [
    {
     "name": "stdout",
     "output_type": "stream",
     "text": [
      "{'apple': 3, 'banana': 2, 'orange': 1}\n"
     ]
    }
   ],
   "source": [
    "def word_frequencies(word_list):\n",
    "    # Create an empty dictionary to store word frequencies\n",
    "    frequency_dict = {}\n",
    "    \n",
    "    # Iterate over each word in the input list\n",
    "    for word in word_list:\n",
    "        # If the word is already in the dictionary, increment its frequency\n",
    "        if word in frequency_dict:\n",
    "            frequency_dict[word] += 1\n",
    "        # If the word is not in the dictionary, add it with a frequency of 1\n",
    "        else:\n",
    "            frequency_dict[word] = 1\n",
    "    \n",
    "    # Return the dictionary with word frequencies\n",
    "    return frequency_dict\n",
    "\n",
    "# Example usage\n",
    "words = [\"apple\", \"banana\", \"apple\", \"orange\", \"banana\", \"apple\"]\n",
    "frequencies = word_frequencies(words)\n",
    "print(frequencies)\n"
   ]
  },
  {
   "cell_type": "markdown",
   "id": "040b0899-0181-400a-a10d-464a872a7bbf",
   "metadata": {},
   "source": [
    "# 32. Write a code that takes two diction+ries as input and merges them into a single dictionere . If there are common keys the values should be a add together . "
   ]
  },
  {
   "cell_type": "code",
   "execution_count": 17,
   "id": "10558eb1-abb1-4cfe-9a80-edafbc709730",
   "metadata": {},
   "outputs": [
    {
     "name": "stdout",
     "output_type": "stream",
     "text": [
      "{'apple': 3, 'banana': 3, 'orange': 3, 'grape': 4}\n"
     ]
    }
   ],
   "source": [
    "def merge_dictionaries(dict1, dict2):\n",
    "    # Create a new dictionary to store the merged result\n",
    "    merged_dict = dict1.copy()  # Start with a copy of the first dictionary\n",
    "    \n",
    "    # Iterate over each key-value pair in the second dictionary\n",
    "    for key, value in dict2.items():\n",
    "        # If the key is already in the merged dictionary, add the values\n",
    "        if key in merged_dict:\n",
    "            merged_dict[key] += value\n",
    "        # If the key is not in the merged dictionary, add the key-value pair\n",
    "        else:\n",
    "            merged_dict[key] = value\n",
    "    \n",
    "    # Return the merged dictionary\n",
    "    return merged_dict\n",
    "\n",
    "# Example usage\n",
    "dict1 = {'apple': 3, 'banana': 2, 'orange': 1}\n",
    "dict2 = {'banana': 1, 'orange': 2, 'grape': 4}\n",
    "\n",
    "merged = merge_dictionaries(dict1, dict2)\n",
    "print(merged)\n"
   ]
  },
  {
   "cell_type": "code",
   "execution_count": null,
   "id": "e7e6ab5b-6fa0-4f73-884f-03bcc162ee4c",
   "metadata": {},
   "outputs": [],
   "source": []
  }
 ],
 "metadata": {
  "kernelspec": {
   "display_name": "Python 3 (ipykernel)",
   "language": "python",
   "name": "python3"
  },
  "language_info": {
   "codemirror_mode": {
    "name": "ipython",
    "version": 3
   },
   "file_extension": ".py",
   "mimetype": "text/x-python",
   "name": "python",
   "nbconvert_exporter": "python",
   "pygments_lexer": "ipython3",
   "version": "3.10.8"
  }
 },
 "nbformat": 4,
 "nbformat_minor": 5
}
