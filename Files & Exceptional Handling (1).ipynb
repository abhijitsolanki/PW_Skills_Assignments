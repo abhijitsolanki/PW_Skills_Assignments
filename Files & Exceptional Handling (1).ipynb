{
 "cells": [
  {
   "cell_type": "markdown",
   "id": "50c5d183-8525-4731-8e91-02805fdc7e24",
   "metadata": {},
   "source": [
    "# 1. Discuss the scenarios where multithreading is preferable to multiprocessing and scenarios where multiprocessing is a better choice.\n"
   ]
  },
  {
   "cell_type": "markdown",
   "id": "4a3361fd-ca37-4a8e-89f3-353bf5f8942e",
   "metadata": {},
   "source": [
    "# 1. Multithreading vs. Multiprocessing\n",
    "# Multithreading is preferable when:\n",
    "# The program is I/O-bound (e.g., reading/writing files, network operations).\n",
    "# Tasks involve waiting for external resources (disk, network) rather than CPU-intensive work.\n",
    "# Threads share memory space, making data sharing easier between threads.\n",
    "# Multiprocessing is better when:\n",
    "# The program is CPU-bound (e.g., large computations, mathematical tasks).\n",
    "# You want full parallelism since each process runs on a separate core, and the Global Interpreter Lock (GIL) in Python does not affect performance in multiple processes.\n",
    "# Each process has its own memory space, isolating tasks to avoid memory contention.\n"
   ]
  },
  {
   "cell_type": "markdown",
   "id": "7cdff4ad-bfcc-4872-9ceb-dca7bf96d68e",
   "metadata": {},
   "source": [
    "# 2. Describe what a process pool is and how it helps in managing multiple processes efficiently."
   ]
  },
  {
   "cell_type": "markdown",
   "id": "242df9c2-443b-4edf-b507-ef3bc275e1db",
   "metadata": {},
   "source": [
    "2. Process Pool\n",
    " # A Process Pool is a mechanism to manage a group of worker processes efficiently.\n",
    "# It allows you to specify a fixed number of processes that can be reused to execute tasks.\n",
    "# Instead of spawning new processes for each task, the pool keeps a set of processes ready for reuse, reducing the overhead of process creation. \n",
    "# This helps improve performance, especially when dealing with a large number of short-running tasks. \n",
    "# Tools like multiprocessing.Pool or concurrent.futures.ProcessPoolExecutor provide interfaces to manage process pools."
   ]
  },
  {
   "cell_type": "markdown",
   "id": "ddb793ca-1818-4b7e-a0e5-6f7ffe4ae75d",
   "metadata": {},
   "source": [
    "# 3. Explain what multiprocessing is and why it is used in Python programs."
   ]
  },
  {
   "cell_type": "markdown",
   "id": "43b09cbb-6c9f-419f-a335-478aeefd4c9d",
   "metadata": {},
   "source": [
    ".# Multiprocessing in Python\n",
    "# Multiprocessing involves running multiple processes simultaneously to execute tasks.\n",
    "# Each process has its own memory space, so the GIL (Global Interpreter Lock) in Python doesn't prevent processes from running in parallel,\n",
    "# unlike threads. This is especially useful for CPU-bound tasks that can be distributed across multiple cores. \n",
    "# It’s used to take full advantage of multi-core processors and improve performance in compute-heavy programs.\n",
    "\n"
   ]
  },
  {
   "cell_type": "markdown",
   "id": "f7841156-ce12-4fe8-808e-95945b329ad9",
   "metadata": {},
   "source": [
    "# 4. Write a Python program using multithreading where one thread adds numbers to a list, and another thread removes numbers from the list. Implement a mechanism to avoid race conditions using threading.Lock.\n"
   ]
  },
  {
   "cell_type": "code",
   "execution_count": 1,
   "id": "bb406664-4f8f-4e05-859c-f3201796189a",
   "metadata": {},
   "outputs": [
    {
     "name": "stdout",
     "output_type": "stream",
     "text": [
      "Added 0\n",
      "Removed 0\n",
      "Added 1\n",
      "Removed 1\n",
      "Added 2\n",
      "Added 3\n",
      "Removed 2\n",
      "Added 4\n",
      "Removed 3\n",
      "Added 5\n",
      "Added 6\n",
      "Removed 4\n",
      "Added 7\n",
      "Removed 5\n",
      "Added 8\n",
      "Added 9\n",
      "Removed 6\n",
      "Removed 7\n",
      "Removed 8\n",
      "Removed 9\n"
     ]
    }
   ],
   "source": [
    "import threading\n",
    "import time\n",
    "\n",
    "class NumberList:\n",
    "    def __init__(self):\n",
    "        self.numbers = []\n",
    "        self.lock = threading.Lock()\n",
    "\n",
    "    def add_numbers(self):\n",
    "        for i in range(10):\n",
    "            with self.lock:\n",
    "                self.numbers.append(i)\n",
    "                print(f\"Added {i}\")\n",
    "            time.sleep(0.1)\n",
    "\n",
    "    def remove_numbers(self):\n",
    "        for i in range(10):\n",
    "            with self.lock:\n",
    "                if self.numbers:\n",
    "                    removed = self.numbers.pop(0)\n",
    "                    print(f\"Removed {removed}\")\n",
    "            time.sleep(0.15)\n",
    "\n",
    "number_list = NumberList()\n",
    "\n",
    "# Creating threads\n",
    "t1 = threading.Thread(target=number_list.add_numbers)\n",
    "t2 = threading.Thread(target=number_list.remove_numbers)\n",
    "\n",
    "# Starting threads\n",
    "t1.start()\n",
    "t2.start()\n",
    "\n",
    "# Waiting for threads to finish\n",
    "t1.join()\n",
    "t2.join()\n"
   ]
  },
  {
   "cell_type": "markdown",
   "id": "2c40d9fe-00f9-409e-a0dd-6263b0d88a42",
   "metadata": {},
   "source": [
    "# 5. Describe the methods and tools available in Python for safely sharing data between threads and processes.\n"
   ]
  },
  {
   "cell_type": "raw",
   "id": "6b6c4a17-d1ee-4559-96ad-b52313b23611",
   "metadata": {},
   "source": [
    "For Threads:\n",
    "\n",
    "# threading.Lock, threading.RLock, threading.Event, and threading.Condition can be used to ensure thread-safe operations.\n",
    "Queue: The queue.Queue class provides a thread-safe way to share data between threads, ensuring no data is lost or duplicated.\n",
    "For Processes:\n",
    "\n",
    "multiprocessing.Queue: Like queue.Queue but designed for inter-process communication (IPC).\n",
    "multiprocessing.Manager: This offers shared memory objects like lists, dictionaries, etc., that can be safely shared across processes.\n",
    "multiprocessing.Value and multiprocessing.Array: These are simpler shared memory constructs used for basic data types."
   ]
  },
  {
   "cell_type": "markdown",
   "id": "9e13b514-6e3b-49f6-92dd-6e8961a078f1",
   "metadata": {},
   "source": [
    " # 6. Discuss why it’s crucial to handle exceptions in concurrent programs and the techniques available for doing so.\n"
   ]
  },
  {
   "cell_type": "raw",
   "id": "652d4ea7-fafc-43d3-9653-e450ac6d6354",
   "metadata": {},
   "source": [
    "6. Handling Exceptions in Concurrent Programs\n",
    "It is critical to handle exceptions in concurrent programs to avoid unexpected program behavior and ensure all threads/processes complete gracefully. Techniques include:\n",
    "\n",
    "Try-Except Blocks: Wrapping thread/process execution logic with try-except blocks to catch and handle exceptions.\n",
    "concurrent.futures: Using concurrent.futures allows you to submit tasks and get exceptions thrown by worker threads or processes.\n",
    "Threading/Process cleanup: Ensure that resources such as files, network connections, and locks are properly released, even if an exception occurs."
   ]
  },
  {
   "cell_type": "markdown",
   "id": "50cdc6a6-cf81-48ea-8fb0-51e862343fab",
   "metadata": {},
   "source": [
    "# 7. Create a program that uses a thread pool to calculate the factorial of numbers from 1 to 10 concurrently. \n",
    " # Use concurrent.futures.ThreadPoolExecutor to manage the threads."
   ]
  },
  {
   "cell_type": "code",
   "execution_count": 2,
   "id": "d1cd478c-f423-4da6-a332-6a433b4dd541",
   "metadata": {},
   "outputs": [
    {
     "name": "stdout",
     "output_type": "stream",
     "text": [
      "Factorials: [1, 2, 6, 24, 120, 720, 5040, 40320, 362880, 3628800]\n"
     ]
    }
   ],
   "source": [
    "from concurrent.futures import ThreadPoolExecutor\n",
    "import math\n",
    "\n",
    "def factorial(n):\n",
    "    return math.factorial(n)\n",
    "\n",
    "numbers = range(1, 11)\n",
    "\n",
    "with ThreadPoolExecutor() as executor:\n",
    "    results = list(executor.map(factorial, numbers))\n",
    "\n",
    "print(\"Factorials:\", results)\n"
   ]
  },
  {
   "cell_type": "markdown",
   "id": "2eaad281-d9b9-4144-90ec-a4c7eb45d93b",
   "metadata": {},
   "source": [
    "# 8. Create a Python program that uses multiprocessing.Pool to compute the square of numbers from 1 to 10 in \n",
    " # parallel. Measure the time taken to perform this computation using a pool of different sizes (e.g., 2, 4, 8 processes)\n"
   ]
  },
  {
   "cell_type": "code",
   "execution_count": 3,
   "id": "6cc10c09-2c05-4616-b98c-2473bc6d223a",
   "metadata": {},
   "outputs": [
    {
     "name": "stdout",
     "output_type": "stream",
     "text": [
      "Pool Size: 2, Results: [1, 4, 9, 16, 25, 36, 49, 64, 81, 100], Time taken: 0.027871131896972656 seconds\n",
      "Pool Size: 4, Results: [1, 4, 9, 16, 25, 36, 49, 64, 81, 100], Time taken: 0.04325604438781738 seconds\n",
      "Pool Size: 8, Results: [1, 4, 9, 16, 25, 36, 49, 64, 81, 100], Time taken: 0.07290363311767578 seconds\n"
     ]
    }
   ],
   "source": [
    "from multiprocessing import Pool\n",
    "import time\n",
    "\n",
    "def square(n):\n",
    "    return n * n\n",
    "\n",
    "if __name__ == \"__main__\":\n",
    "    numbers = range(1, 11)\n",
    "\n",
    "    for pool_size in [2, 4, 8]:\n",
    "        start_time = time.time()\n",
    "        with Pool(pool_size) as pool:\n",
    "            results = pool.map(square, numbers)\n",
    "        end_time = time.time()\n",
    "\n",
    "        print(f\"Pool Size: {pool_size}, Results: {results}, Time taken: {end_time - start_time} seconds\")\n"
   ]
  },
  {
   "cell_type": "code",
   "execution_count": null,
   "id": "85340d76-d99c-4591-94bd-29ddefbd5d15",
   "metadata": {},
   "outputs": [],
   "source": []
  }
 ],
 "metadata": {
  "kernelspec": {
   "display_name": "Python 3 (ipykernel)",
   "language": "python",
   "name": "python3"
  },
  "language_info": {
   "codemirror_mode": {
    "name": "ipython",
    "version": 3
   },
   "file_extension": ".py",
   "mimetype": "text/x-python",
   "name": "python",
   "nbconvert_exporter": "python",
   "pygments_lexer": "ipython3",
   "version": "3.10.8"
  }
 },
 "nbformat": 4,
 "nbformat_minor": 5
}
