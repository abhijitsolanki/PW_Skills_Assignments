{
  "nbformat": 4,
  "nbformat_minor": 0,
  "metadata": {
    "colab": {
      "provenance": []
    },
    "kernelspec": {
      "name": "python3",
      "display_name": "Python 3"
    },
    "language_info": {
      "name": "python"
    }
  },
  "cells": [
    {
      "cell_type": "markdown",
      "source": [
        "Q1. What are the five key concepts of Object-Oriented Programming (OOP)?"
      ],
      "metadata": {
        "id": "vfobXoYBSuHB"
      }
    },
    {
      "cell_type": "markdown",
      "source": [
        "The five key concepts of Object-Oriented Programming (OOP) are:\n",
        "\n",
        "1. **Encapsulation**  \n",
        "   Encapsulation involves bundling the data (attributes) and the methods (functions) that operate on the data into a single unit or class. It restricts direct access to some of an object's components, which is essential for protecting the integrity of the object’s data. This is achieved by using access modifiers like private, protected, and public.\n",
        "\n",
        "2. **Abstraction**  \n",
        "   Abstraction simplifies complex systems by modeling classes appropriate to the problem and working only with relevant features, hiding unnecessary details. This allows developers to focus on high-level functionality without worrying about the complex internal workings.\n",
        "\n",
        "3. **Inheritance**  \n",
        "   Inheritance enables new classes to inherit attributes and methods from existing classes. This creates a hierarchy where subclasses inherit and reuse code from their parent classes, promoting code reusability and establishing a relationship between the parent (base) and child (derived) classes.\n",
        "\n",
        "4. **Polymorphism**  \n",
        "   Polymorphism allows methods to do different things based on the object it is acting upon. In practice, this means you can have methods with the same name but different behaviors, typically achieved through method overloading and method overriding. It enables flexibility and extensibility in the code, as objects can be treated as instances of their parent class rather than their specific class.\n",
        "\n",
        "5. **Classes and Objects**  \n",
        "   A class is a blueprint for creating objects (specific instances of a class). Classes define properties (attributes) and behaviors (methods) that the objects created from them can have. Objects, on the other hand, are instances of classes and represent specific data with the behaviors and properties defined by their class.\n",
        "\n",
        "These five principles form the foundation of OOP, making code modular, extensible, and easier to manage."
      ],
      "metadata": {
        "id": "dG8lJRFgTBwz"
      }
    },
    {
      "cell_type": "markdown",
      "source": [
        "Q 2. Write a Python class for a `Car` with attributes for `make`, `model`, and `year`. Include a method to display\n",
        "the car's information."
      ],
      "metadata": {
        "id": "hvt_8_v8X-f0"
      }
    },
    {
      "cell_type": "code",
      "execution_count": 3,
      "metadata": {
        "colab": {
          "base_uri": "https://localhost:8080/"
        },
        "id": "5SMnBUTJSXbj",
        "outputId": "22289995-c449-470c-d30a-d286e2126c09"
      },
      "outputs": [
        {
          "output_type": "stream",
          "name": "stdout",
          "text": [
            "Car Information: 2019 audi R18\n"
          ]
        }
      ],
      "source": [
        "class Car:\n",
        "  def __init__(self,make,model,year):\n",
        "    self.make = make\n",
        "    self.model = model\n",
        "    self.year = year\n",
        "\n",
        "  def info_display(self):\n",
        "    print(f\"Car Information: {self.year} {self.make} {self.model}\")\n",
        "\n",
        "my_car = Car(\"audi\",\"R18\",2019)\n",
        "my_car.info_display()\n"
      ]
    },
    {
      "cell_type": "markdown",
      "source": [
        "Q 3. Explain the difference between instance methods and class methods. Provide an example of each."
      ],
      "metadata": {
        "id": "UWIKrgAibNh_"
      }
    },
    {
      "cell_type": "markdown",
      "source": [
        "Instance Variables vs Class Variables:\n",
        "\n",
        "Instance variables (like self.name, self.breed) are unique to each object. Each object has its own copy of these variables.\n",
        "\n",
        "Class variables are shared across all instances of a class. They are defined within the class but outside any methods, and they are accessed using the class name.\n",
        ""
      ],
      "metadata": {
        "id": "8_hrm5uHbc7f"
      }
    },
    {
      "cell_type": "code",
      "source": [
        "class Person:\n",
        "    def __init__(self, name, age):\n",
        "        self.name = name    # Instance attribute\n",
        "        self.age = age      # Instance attribute\n",
        "\n",
        "    def greet(self):        # Instance method\n",
        "        return f\"Hello, my name is {self.name} and I am {self.age} years old.\"\n",
        "\n",
        "# Example usage:\n",
        "person1 = Person(\"Alice\", 25)\n",
        "print(person1.greet())  # Output: Hello, my name is Alice and I am 25 years old.\n"
      ],
      "metadata": {
        "colab": {
          "base_uri": "https://localhost:8080/"
        },
        "id": "ldnAK8cudABQ",
        "outputId": "998da6d0-504b-45c8-d5d7-ba062f038985"
      },
      "execution_count": 6,
      "outputs": [
        {
          "output_type": "stream",
          "name": "stdout",
          "text": [
            "Hello, my name is Alice and I am 25 years old.\n"
          ]
        }
      ]
    },
    {
      "cell_type": "code",
      "source": [
        "class Circle:\n",
        "    pi = 3.14159  # Class attribute\n",
        "\n",
        "    def __init__(self, radius):\n",
        "        self.radius = radius  # Instance attribute\n",
        "\n",
        "    @classmethod\n",
        "    def from_diameter(cls, diameter):  # Class method\n",
        "        radius = diameter / 2\n",
        "        return cls(radius)\n",
        "\n",
        "# Example usage:\n",
        "circle1 = Circle(5)             # Creating an instance using the normal constructor\n",
        "circle2 = Circle.from_diameter(10)  # Creating an instance using the class method\n",
        "\n",
        "print(circle1.radius)  # Output: 5\n",
        "print(circle2.radius)  # Output: 5 (since diameter was 10, radius is diameter / 2)\n"
      ],
      "metadata": {
        "colab": {
          "base_uri": "https://localhost:8080/"
        },
        "id": "ZdTevFUkdM4N",
        "outputId": "e11ac5c1-1f8d-4f43-ffa2-d26f3988b0ab"
      },
      "execution_count": 7,
      "outputs": [
        {
          "output_type": "stream",
          "name": "stdout",
          "text": [
            "5\n",
            "5.0\n"
          ]
        }
      ]
    },
    {
      "cell_type": "markdown",
      "source": [
        "Q 4. How does Python implement method overloading? Give an example."
      ],
      "metadata": {
        "id": "S4gG6FrQeFNa"
      }
    },
    {
      "cell_type": "markdown",
      "source": [
        "Python does not support traditional method overloading as seen in languages like Java or C++. In Python, you cannot define multiple methods with the same name but different parameters in a single class. Instead, Python uses default arguments or variable-length arguments (*args and **kwargs) to simulate the behavior of method overloading.\n",
        "\n",
        "Example of Simulated Method Overloading Using Default Arguments\n",
        "Using default arguments, you can provide flexibility to a method to handle different numbers of arguments."
      ],
      "metadata": {
        "id": "Ajh8gWUGeGM-"
      }
    },
    {
      "cell_type": "code",
      "source": [
        "class MathOperations:\n",
        "    def add(self, a, b=0, c=0):\n",
        "        return a + b + c\n",
        "\n",
        "# Example usage:\n",
        "math_op = MathOperations()\n",
        "\n",
        "print(math_op.add(5))         # Output: 5  (a is 5, b and c are defaulted to 0)\n",
        "print(math_op.add(5, 10))     # Output: 15 (a is 5, b is 10, c is defaulted to 0)\n",
        "print(math_op.add(5, 10, 15)) # Output: 30 (a is 5, b is 10, c is 15)\n"
      ],
      "metadata": {
        "colab": {
          "base_uri": "https://localhost:8080/"
        },
        "id": "-QEKg3_3eIoW",
        "outputId": "81bde623-390e-476d-a793-2ad6d2893dfb"
      },
      "execution_count": 8,
      "outputs": [
        {
          "output_type": "stream",
          "name": "stdout",
          "text": [
            "5\n",
            "15\n",
            "30\n"
          ]
        }
      ]
    },
    {
      "cell_type": "code",
      "source": [
        "class MathOperations:\n",
        "    def add(self, *args):\n",
        "        return sum(args)\n",
        "\n",
        "# Example usage:\n",
        "math_op = MathOperations()\n",
        "\n",
        "print(math_op.add(5))         # Output: 5\n",
        "print(math_op.add(5, 10))     # Output: 15\n",
        "print(math_op.add(5, 10, 15)) # Output: 30\n"
      ],
      "metadata": {
        "colab": {
          "base_uri": "https://localhost:8080/"
        },
        "id": "uCYG-WmVeNXd",
        "outputId": "59dbcf48-d7ff-4085-8025-a7654de1f71f"
      },
      "execution_count": 9,
      "outputs": [
        {
          "output_type": "stream",
          "name": "stdout",
          "text": [
            "5\n",
            "15\n",
            "30\n"
          ]
        }
      ]
    },
    {
      "cell_type": "markdown",
      "source": [
        "Q 5. What are the three types of access modifiers in Python? How are they denoted?"
      ],
      "metadata": {
        "id": "wpUoT1zGekE9"
      }
    },
    {
      "cell_type": "markdown",
      "source": [
        "1. Public\n",
        "\n",
        "Definition: Public members are accessible from anywhere (inside or outside the class).\n",
        "\n",
        "Denotation: Attributes or methods are public by default, with no special notation."
      ],
      "metadata": {
        "id": "f3Jbz25DfRU5"
      }
    },
    {
      "cell_type": "code",
      "source": [
        "class Example:\n",
        "    def __init__(self):\n",
        "        self.public_var = \"I am public\"  # Public attribute\n",
        "\n",
        "    def public_method(self):\n",
        "        return \"This is a public method\"\n",
        "\n",
        "obj = Example()\n",
        "print(obj.public_var)         # Accessible\n",
        "print(obj.public_method())     # Accessible\n"
      ],
      "metadata": {
        "colab": {
          "base_uri": "https://localhost:8080/"
        },
        "id": "Nh-1ENmkfETL",
        "outputId": "ee8bbc60-8644-4cf1-81c4-508b3f9273f6"
      },
      "execution_count": 10,
      "outputs": [
        {
          "output_type": "stream",
          "name": "stdout",
          "text": [
            "I am public\n",
            "This is a public method\n"
          ]
        }
      ]
    },
    {
      "cell_type": "markdown",
      "source": [
        "2. Protected\n",
        "\n",
        "Definition: Protected members are intended for internal use within the class and its subclasses but are accessible from outside with a warning that they are not part of the public API.\n",
        "\n",
        "Denotation: Prefix with a single underscore (_)."
      ],
      "metadata": {
        "id": "qh5gHaujfnmJ"
      }
    },
    {
      "cell_type": "code",
      "source": [
        "class Example:\n",
        "    def __init__(self):\n",
        "        self._protected_var = \"I am protected\"  # Protected attribute\n",
        "\n",
        "    def _protected_method(self):\n",
        "        return \"This is a protected method\"\n",
        "\n",
        "obj = Example()\n",
        "print(obj._protected_var)         # Accessible (though discouraged)\n",
        "print(obj._protected_method())    # Accessible (though discouraged)\n"
      ],
      "metadata": {
        "colab": {
          "base_uri": "https://localhost:8080/"
        },
        "id": "f1CHQK81fvs3",
        "outputId": "027bd290-3a3a-4dce-943b-903497e55b5c"
      },
      "execution_count": 11,
      "outputs": [
        {
          "output_type": "stream",
          "name": "stdout",
          "text": [
            "I am protected\n",
            "This is a protected method\n"
          ]
        }
      ]
    },
    {
      "cell_type": "markdown",
      "source": [
        "3. Private\n",
        "\n",
        "Definition: Private members are intended to be accessible only within the class itself, preventing direct access from outside. In practice, Python uses name mangling to make private variables harder to access from outside the class.\n",
        "\n",
        "Denotation: Prefix with a double underscore (__)."
      ],
      "metadata": {
        "id": "K5ve3Oftgwyv"
      }
    },
    {
      "cell_type": "code",
      "source": [
        "class Example:\n",
        "    def __init__(self):\n",
        "        self.__private_var = \"I am private\"  # Private attribute\n",
        "\n",
        "    def __private_method(self):\n",
        "        return \"This is a private method\"\n",
        "\n",
        "obj = Example()\n",
        "# print(obj.__private_var)           # Will raise AttributeError\n",
        "# print(obj.__private_method())      # Will raise AttributeError\n",
        "\n",
        "# Accessing private variables through name mangling\n",
        "print(obj._Example__private_var)        # Accessible using name mangling\n",
        "print(obj._Example__private_method())   # Accessible using name mangling\n"
      ],
      "metadata": {
        "colab": {
          "base_uri": "https://localhost:8080/"
        },
        "id": "VHrc-Pzug20t",
        "outputId": "b7874aba-0d31-4a06-a52b-79081a30e94d"
      },
      "execution_count": 12,
      "outputs": [
        {
          "output_type": "stream",
          "name": "stdout",
          "text": [
            "I am private\n",
            "This is a private method\n"
          ]
        }
      ]
    },
    {
      "cell_type": "markdown",
      "source": [
        "Q 6. Describe the five types of inheritance in Python. Provide a simple example of multiple inheritance"
      ],
      "metadata": {
        "id": "OyJh0wzChV66"
      }
    },
    {
      "cell_type": "code",
      "source": [
        "# In Python, there are five types of inheritance, which define different ways in which classes can inherit properties and methods from one or more parent classes.\n",
        "\n",
        "# 1. Single Inheritance\n",
        "# A derived (child) class inherits from only one base (parent) class.\n",
        "\n",
        "class Animal:\n",
        "    def sound(self):\n",
        "        return \"Some sound\"\n",
        "\n",
        "class Dog(Animal):  # Dog inherits from Animal\n",
        "    def bark(self):\n",
        "        return \"Woof!\"\n",
        "\n",
        "dog = Dog()\n",
        "print(dog.sound())  # Output: Some sound\n",
        "print(dog.bark())   # Output: Woof!\n",
        "\n",
        "\n",
        "# 2. Multiple Inheritance\n",
        "# A derived class inherits from more than one base class, combining properties and methods from multiple sources.\n",
        "\n",
        "class Engine:\n",
        "    def start(self):\n",
        "        return \"Engine started\"\n",
        "\n",
        "class Wheels:\n",
        "    def rotate(self):\n",
        "        return \"Wheels are rotating\"\n",
        "\n",
        "class Car(Engine, Wheels):  # Car inherits from both Engine and Wheels\n",
        "    def drive(self):\n",
        "        return \"Car is driving\"\n",
        "\n",
        "my_car = Car()\n",
        "print(my_car.start())   # Output: Engine started\n",
        "print(my_car.rotate())  # Output: Wheels are rotating\n",
        "print(my_car.drive())   # Output: Car is driving\n",
        "\n",
        "# 3. Multilevel Inheritance\n",
        "# A chain of inheritance where a class inherits from a derived class, creating a\n",
        "# multi-level hierarchy.\n",
        "\n",
        "class Vehicle:\n",
        "    def mode_of_transport(self):\n",
        "        return \"Land\"\n",
        "\n",
        "class Car(Vehicle):  # Car inherits from Vehicle\n",
        "    def wheels(self):\n",
        "        return 4\n",
        "\n",
        "class SportsCar(Car):  # SportsCar inherits from Car\n",
        "    def max_speed(self):\n",
        "        return \"250 km/h\"\n",
        "\n",
        "my_sports_car = SportsCar()\n",
        "print(my_sports_car.mode_of_transport())  # Output: Land\n",
        "print(my_sports_car.wheels())             # Output: 4\n",
        "print(my_sports_car.max_speed())          # Output: 250 km/h\n",
        "\n",
        "\n",
        "# 4. Hierarchical Inheritance\n",
        "# Multiple classes inherit from the same base class.\n",
        "\n",
        "class Animal:\n",
        "    def sound(self):\n",
        "        return \"Some sound\"\n",
        "\n",
        "class Dog(Animal):  # Dog inherits from Animal\n",
        "    def bark(self):\n",
        "        return \"Woof!\"\n",
        "\n",
        "class Cat(Animal):  # Cat also inherits from Animal\n",
        "    def meow(self):\n",
        "        return \"Meow!\"\n",
        "\n",
        "dog = Dog()\n",
        "cat = Cat()\n",
        "print(dog.sound())  # Output: Some sound\n",
        "print(dog.bark())   # Output: Woof!\n",
        "print(cat.sound())  # Output: Some sound\n",
        "print(cat.meow())   # Output: Meow!\n",
        "\n",
        "# 5. Hybrid Inheritance\n",
        "# A combination of two or more types of inheritance, typically combining multiple and multilevel inheritance.\n",
        "\n",
        "class Animal:\n",
        "    def sound(self):\n",
        "        return \"Some sound\"\n",
        "\n",
        "class Dog(Animal):\n",
        "    def bark(self):\n",
        "        return \"Woof!\"\n",
        "\n",
        "class Bird(Animal):\n",
        "    def chirp(self):\n",
        "        return \"Chirp!\"\n",
        "\n",
        "class Hybrid(Dog, Bird):  # Multiple inheritance combining Dog and Bird\n",
        "    def hybrid_sound(self):\n",
        "        return \"Woof! Chirp!\"\n",
        "\n",
        "hybrid_animal = Hybrid()\n",
        "print(hybrid_animal.sound())      # Output: Some sound\n",
        "print(hybrid_animal.bark())       # Output: Woof!\n",
        "print(hybrid_animal.chirp())      # Output: Chirp!\n",
        "print(hybrid_animal.hybrid_sound())  # Output: Woof! Chirp!\n",
        "\n",
        "\n",
        "# In this **Hybrid Inheritance** example, `Hybrid` inherits from both `Dog` and `Bird`,\n",
        "# which themselves inherit from `Animal`.\n",
        "\n",
        "### Summary of Example for Multiple Inheritance\n",
        "# In the **Multiple Inheritance** example above, the `Car` class inherits from both `Engine` and `Wheels`,\n",
        "# allowing it to use methods from both classes.\n",
        "# This flexibility is often used to combine functionality from multiple parent classes."
      ],
      "metadata": {
        "colab": {
          "base_uri": "https://localhost:8080/"
        },
        "id": "A3OhaDWXiewZ",
        "outputId": "62655ec9-bf51-424c-d3e2-e9fd4e231770"
      },
      "execution_count": 16,
      "outputs": [
        {
          "output_type": "stream",
          "name": "stdout",
          "text": [
            "Some sound\n",
            "Woof!\n",
            "Engine started\n",
            "Wheels are rotating\n",
            "Car is driving\n",
            "Land\n",
            "4\n",
            "250 km/h\n",
            "Some sound\n",
            "Woof!\n",
            "Some sound\n",
            "Meow!\n",
            "Some sound\n",
            "Woof!\n",
            "Chirp!\n",
            "Woof! Chirp!\n"
          ]
        }
      ]
    },
    {
      "cell_type": "markdown",
      "source": [
        "Q 7. What is the Method Resolution Order (MRO) in Python? How can you retrieve it programmatically?"
      ],
      "metadata": {
        "id": "FSGUMPiUlpmI"
      }
    },
    {
      "cell_type": "markdown",
      "source": [
        "Method Resolution Order (MRO) in Python is the order in which base classes are searched when executing a method or accessing an attribute. MRO is particularly important in the context of multiple inheritance, as it defines the sequence in which classes are looked up for a method or attribute when the same method or attribute exists in multiple base classes.\n",
        "\n",
        "C3 Linearization\n",
        "Python uses an algorithm called C3 linearization to determine the MRO. This algorithm ensures that:\n",
        "\n",
        "A class appears before its parents in the MRO.\n",
        "If a class is inherited from multiple classes, the order in which those classes are listed is respected.\n",
        "Retrieving MRO Programmatically\n",
        "You can retrieve the MRO of a class using the __mro__ attribute or the mro() method. Here’s how to do it:\n",
        "\n",
        "Using the __mro__ attribute: This attribute is a tuple that contains the classes in the order they will be searched.\n",
        "\n",
        "Using the mro() method: This method returns a list of classes in the order they will be searched.\n",
        "\n",
        "When looking for a method in class D, Python will first check D itself, then B, then C, then A, and finally the built-in object class.\n",
        "The MRO ensures that all base classes are considered while respecting the inheritance hierarchy."
      ],
      "metadata": {
        "id": "wFjpIbQ6mQZ0"
      }
    },
    {
      "cell_type": "code",
      "source": [
        "class A:\n",
        "    pass\n",
        "\n",
        "class B(A):\n",
        "    pass\n",
        "\n",
        "class C(A):\n",
        "    pass\n",
        "\n",
        "class D(B, C):  # D inherits from B and C\n",
        "    pass\n",
        "\n",
        "# Retrieving the MRO\n",
        "print(D.__mro__)   # Output: (<class '__main__.D'>, <class '__main__.B'>, <class '__main__.C'>, <class '__main__.A'>, <class 'object'>)\n",
        "print(D.mro())     # Output: [<class '__main__.D'>, <class '__main__.B'>, <class '__main__.C'>, <class '__main__.A'>, <class 'object'>]\n"
      ],
      "metadata": {
        "colab": {
          "base_uri": "https://localhost:8080/"
        },
        "id": "U-tFEZVrlx5p",
        "outputId": "bde4c8dd-1cea-4265-f4fe-e13eb4134195"
      },
      "execution_count": 17,
      "outputs": [
        {
          "output_type": "stream",
          "name": "stdout",
          "text": [
            "(<class '__main__.D'>, <class '__main__.B'>, <class '__main__.C'>, <class '__main__.A'>, <class 'object'>)\n",
            "[<class '__main__.D'>, <class '__main__.B'>, <class '__main__.C'>, <class '__main__.A'>, <class 'object'>]\n"
          ]
        }
      ]
    },
    {
      "cell_type": "markdown",
      "source": [
        "Q 8. Create an abstract base class `Shape` with an abstract method `area()`. Then create two subclasses\n",
        "`Circle` and `Rectangle` that implement the `area()` method."
      ],
      "metadata": {
        "id": "n8E-9s8emjUQ"
      }
    },
    {
      "cell_type": "code",
      "source": [
        "from abc import ABC, abstractmethod\n",
        "import math\n",
        "\n",
        "# Abstract Base Class\n",
        "class Shape(ABC):\n",
        "    @abstractmethod\n",
        "    def area(self):\n",
        "        pass\n",
        "\n",
        "# Subclass for Circle\n",
        "class Circle(Shape):\n",
        "    def __init__(self, radius):\n",
        "        self.radius = radius\n",
        "\n",
        "    def area(self):\n",
        "        return math.pi * (self.radius ** 2)\n",
        "\n",
        "# Subclass for Rectangle\n",
        "class Rectangle(Shape):\n",
        "    def __init__(self, width, height):\n",
        "        self.width = width\n",
        "        self.height = height\n",
        "\n",
        "    def area(self):\n",
        "        return self.width * self.height\n",
        "\n",
        "# Example usage\n",
        "circle = Circle(5)\n",
        "rectangle = Rectangle(4, 6)\n",
        "\n",
        "print(f\"Area of Circle: {circle.area():}\")      # Output: Area of Circle: 78.54\n",
        "print(f\"Area of Rectangle: {rectangle.area()}\")     # Output: Area of Rectangle: 24\n"
      ],
      "metadata": {
        "colab": {
          "base_uri": "https://localhost:8080/"
        },
        "id": "W1AAjb82m7CJ",
        "outputId": "993c05ad-6701-4cc6-ae83-c401b15659ef"
      },
      "execution_count": 19,
      "outputs": [
        {
          "output_type": "stream",
          "name": "stdout",
          "text": [
            "Area of Circle: 78.53981633974483\n",
            "Area of Rectangle: 24\n"
          ]
        }
      ]
    },
    {
      "cell_type": "markdown",
      "source": [
        "Q 9. Demonstrate polymorphism by creating a function that can work with different shape objects to calculate\n",
        "and print their areas."
      ],
      "metadata": {
        "id": "tOmiWphAo3PC"
      }
    },
    {
      "cell_type": "code",
      "source": [
        "from abc import ABC, abstractmethod\n",
        "import math\n",
        "\n",
        "# Abstract Base Class\n",
        "class Shape(ABC):\n",
        "    @abstractmethod\n",
        "    def area(self):\n",
        "        pass\n",
        "\n",
        "# Subclass for Circle\n",
        "class Circle(Shape):\n",
        "    def __init__(self, radius):\n",
        "        self.radius = radius\n",
        "\n",
        "    def area(self):\n",
        "        return math.pi * (self.radius ** 2)\n",
        "\n",
        "# Subclass for Rectangle\n",
        "class Rectangle(Shape):\n",
        "    def __init__(self, width, height):\n",
        "        self.width = width\n",
        "        self.height = height\n",
        "\n",
        "    def area(self):\n",
        "        return self.width * self.height\n",
        "\n",
        "# Subclass for Triangle\n",
        "class Triangle(Shape):\n",
        "    def __init__(self, base, height):\n",
        "        self.base = base\n",
        "        self.height = height\n",
        "\n",
        "    def area(self):\n",
        "        return 0.5 * self.base * self.height\n",
        "\n",
        "# Polymorphic function to calculate and print area\n",
        "def print_area(shape : Shape):\n",
        "    print(f\"Area: {shape.area():.2f}\")\n",
        "\n",
        "# Example usage\n",
        "circle = Circle(5)\n",
        "rectangle = Rectangle(4, 6)\n",
        "triangle = Triangle(4, 3)\n",
        "\n",
        "print_area(circle)     # Output: Area: 78.54\n",
        "print_area(rectangle)  # Output: Area: 24.00\n",
        "print_area(triangle)   # Output: Area: 6.00\n"
      ],
      "metadata": {
        "colab": {
          "base_uri": "https://localhost:8080/"
        },
        "id": "WEAd5x1Oo8UR",
        "outputId": "412e2ad7-33f7-46b9-dad6-4f0662f96fc0"
      },
      "execution_count": 25,
      "outputs": [
        {
          "output_type": "stream",
          "name": "stdout",
          "text": [
            "Area: 78.54\n",
            "Area: 24.00\n",
            "Area: 6.00\n"
          ]
        }
      ]
    },
    {
      "cell_type": "markdown",
      "source": [
        "Q 10. Implement encapsulation in a `BankAccount` class with private attributes for `balance` and\n",
        "`account_number`. Include methods for deposit, withdrawal, and balance inquiry."
      ],
      "metadata": {
        "id": "EdGfPq28rYUC"
      }
    },
    {
      "cell_type": "code",
      "source": [
        "class BankAccount:\n",
        "    def __init__(self, account_number, initial_balance=0):\n",
        "        self.__account_number = account_number  # Private attribute\n",
        "        self.__balance = initial_balance  # Private attribute\n",
        "\n",
        "    def deposit(self, amount):\n",
        "        if amount > 0:\n",
        "            self.__balance += amount\n",
        "            print(f\"Deposited: {amount}. New balance: {self.__balance:.2f}\")\n",
        "        else:\n",
        "            print(\"Deposit amount must be positive.\")\n",
        "\n",
        "    def withdraw(self, amount):\n",
        "        if 0 < amount <= self.__balance:\n",
        "            self.__balance -= amount\n",
        "            print(f\"Withdrew: {amount}. New balance: {self.__balance:.2f}\")\n",
        "        else:\n",
        "            print(\"Insufficient funds or invalid withdrawal amount.\")\n",
        "\n",
        "    def get_balance(self):\n",
        "        return self.__balance\n",
        "\n",
        "    def get_account_number(self):\n",
        "        return self.__account_number\n",
        "\n",
        "# Example usage\n",
        "account = BankAccount(\"123456789\", 1000)  # Create a BankAccount with initial balance\n",
        "\n",
        "# Perform some transactions\n",
        "account.deposit(500)          # Output: Deposited: 500. New balance: 1500.00\n",
        "account.withdraw(200)         # Output: Withdrew: 200. New balance: 1300.00\n",
        "print(f\"Account Balance: {account.get_balance():.2f}\")  # Output: Account Balance: 1300.00\n",
        "print(f\"Account Number: {account.get_account_number()}\")  # Output: Account Number: 123456789\n"
      ],
      "metadata": {
        "colab": {
          "base_uri": "https://localhost:8080/"
        },
        "id": "ojyhQCncrc_r",
        "outputId": "786c21bc-6e6c-46fb-ff18-08ed58e2d663"
      },
      "execution_count": 26,
      "outputs": [
        {
          "output_type": "stream",
          "name": "stdout",
          "text": [
            "Deposited: 500. New balance: 1500.00\n",
            "Withdrew: 200. New balance: 1300.00\n",
            "Account Balance: 1300.00\n",
            "Account Number: 123456789\n"
          ]
        }
      ]
    },
    {
      "cell_type": "markdown",
      "source": [
        "Q 11. Write a class that overrides the `__str__` and `__add__` magic methods. What will these methods allow\n",
        "you to do?"
      ],
      "metadata": {
        "id": "E0Wmnl5ptBjD"
      }
    },
    {
      "cell_type": "code",
      "source": [
        "class Vector:\n",
        "    def __init__(self, x, y):\n",
        "        self.x = x\n",
        "        self.y = y\n",
        "\n",
        "    def __str__(self):\n",
        "        return f\"Vector({self.x}, {self.y})\"\n",
        "\n",
        "    def __add__(self, other):\n",
        "        if isinstance(other, Vector):\n",
        "            return Vector(self.x + other.x, self.y + other.y)\n",
        "        return NotImplemented\n",
        "\n",
        "# Example usage\n",
        "v1 = Vector(2, 3)\n",
        "v2 = Vector(4, 5)\n",
        "\n",
        "# Printing the vector using __str__ method\n",
        "print(v1)  # Output: Vector(2, 3)\n",
        "print(v2)  # Output: Vector(4, 5)\n",
        "\n",
        "# Adding two vectors using __add__ method\n",
        "v3 = v1 + v2\n",
        "print(v3)  # Output: Vector(6, 8)\n"
      ],
      "metadata": {
        "colab": {
          "base_uri": "https://localhost:8080/"
        },
        "id": "E6zvMHEMtG8a",
        "outputId": "67a77083-c153-41cd-fde6-13c8d01c3e84"
      },
      "execution_count": 27,
      "outputs": [
        {
          "output_type": "stream",
          "name": "stdout",
          "text": [
            "Vector(2, 3)\n",
            "Vector(4, 5)\n",
            "Vector(6, 8)\n"
          ]
        }
      ]
    },
    {
      "cell_type": "markdown",
      "source": [
        "Q 12. Create a decorator that measures and prints the execution time of a function"
      ],
      "metadata": {
        "id": "6UqXJh6Xt9wd"
      }
    },
    {
      "cell_type": "code",
      "source": [
        "import time\n",
        "def timer_decorator(func):\n",
        "    def timer():\n",
        "        start = time.time()\n",
        "        func()\n",
        "        end = time.time()\n",
        "        print(\"The time for executing the code\", end-start)\n",
        "    return timer"
      ],
      "metadata": {
        "id": "M-q-MMk_uEHu"
      },
      "execution_count": 31,
      "outputs": []
    },
    {
      "cell_type": "code",
      "source": [
        "@timer_decorator\n",
        "def func_test1():\n",
        "    print(1100000 + 1000* 231)\n",
        "\n",
        "func_test1()"
      ],
      "metadata": {
        "colab": {
          "base_uri": "https://localhost:8080/"
        },
        "id": "OiLoMefmw4A3",
        "outputId": "2c2dd4f6-f16f-4d54-e730-a44d80f10617"
      },
      "execution_count": 32,
      "outputs": [
        {
          "output_type": "stream",
          "name": "stdout",
          "text": [
            "1331000\n",
            "The time for executing the code 0.0018513202667236328\n"
          ]
        }
      ]
    },
    {
      "cell_type": "markdown",
      "source": [
        "Q 13. Explain the concept of the Diamond Problem in multiple inheritance. How does Python resolve it?"
      ],
      "metadata": {
        "id": "-4p3kQQouWJX"
      }
    },
    {
      "cell_type": "code",
      "source": [
        "class A:\n",
        "    def show(self):\n",
        "        print(\"Method from class A\")\n",
        "\n",
        "class B(A):\n",
        "    def show(self):\n",
        "        print(\"Method from class B\")\n",
        "\n",
        "class C(A):\n",
        "    def show(self):\n",
        "        print(\"Method from class C\")\n",
        "\n",
        "class D(B, C):\n",
        "    pass\n",
        "\n",
        "# Example usage\n",
        "d = D()\n",
        "d.show()  # Which method will be called?\n"
      ],
      "metadata": {
        "colab": {
          "base_uri": "https://localhost:8080/"
        },
        "id": "pOSSy6Zqucis",
        "outputId": "dbe11b09-83c8-4743-d27e-d9c128e0c064"
      },
      "execution_count": 28,
      "outputs": [
        {
          "output_type": "stream",
          "name": "stdout",
          "text": [
            "Method from class B\n"
          ]
        }
      ]
    },
    {
      "cell_type": "markdown",
      "source": [
        "Q 14. Write a class method that keeps track of the number of instances created from a class."
      ],
      "metadata": {
        "id": "WDjpNerOuqV3"
      }
    },
    {
      "cell_type": "code",
      "source": [
        "class InstanceCounter:\n",
        "    count = 0  # Class variable to keep track of the number of instances\n",
        "\n",
        "    def __init__(self):\n",
        "        InstanceCounter.count += 1  # Increment count on each instance creation\n",
        "\n",
        "    @classmethod\n",
        "    def get_instance_count(cls):\n",
        "        \"\"\"Class method to get the current instance count.\"\"\"\n",
        "        return cls.count\n",
        "\n",
        "# Example usage\n",
        "instance1 = InstanceCounter()\n",
        "instance2 = InstanceCounter()\n",
        "instance3 = InstanceCounter()\n",
        "\n",
        "# Get the number of instances created\n",
        "print(f\"Number of instances created: {InstanceCounter.get_instance_count()}\")  # Output: 3\n"
      ],
      "metadata": {
        "colab": {
          "base_uri": "https://localhost:8080/"
        },
        "id": "PqjxqP3quunb",
        "outputId": "28efcab5-3e07-4b95-947c-9dac298d65e7"
      },
      "execution_count": 29,
      "outputs": [
        {
          "output_type": "stream",
          "name": "stdout",
          "text": [
            "Number of instances created: 3\n"
          ]
        }
      ]
    },
    {
      "cell_type": "markdown",
      "source": [
        "Q 15. Implement a static method in a class that checks if a given year is a leap year."
      ],
      "metadata": {
        "id": "XDnL8GDWveSn"
      }
    },
    {
      "cell_type": "code",
      "source": [
        "class YearChecker:\n",
        "    @staticmethod\n",
        "    def is_leap_year(year):\n",
        "        \"\"\"Static method to check if a given year is a leap year.\"\"\"\n",
        "        if (year % 4 == 0 and year % 100 != 0) or (year % 400 == 0):\n",
        "            return True\n",
        "        return False\n",
        "\n",
        "# Example usage\n",
        "year = 2024\n",
        "if YearChecker.is_leap_year(year):\n",
        "    print(f\"{year} is a leap year.\")\n",
        "else:\n",
        "    print(f\"{year} is not a leap year.\")\n",
        "\n",
        "# Checking other years\n",
        "years_to_check = [1900, 2000, 2023, 2028]\n",
        "for y in years_to_check:\n",
        "    if YearChecker.is_leap_year(y):\n",
        "        print(f\"{y} is a leap year.\")\n",
        "    else:\n",
        "        print(f\"{y} is not a leap year.\")\n"
      ],
      "metadata": {
        "colab": {
          "base_uri": "https://localhost:8080/"
        },
        "id": "eSefCNT6vaeC",
        "outputId": "915d1faa-fa6a-42c2-e6a9-7a37da45e077"
      },
      "execution_count": 30,
      "outputs": [
        {
          "output_type": "stream",
          "name": "stdout",
          "text": [
            "2024 is a leap year.\n",
            "1900 is not a leap year.\n",
            "2000 is a leap year.\n",
            "2023 is not a leap year.\n",
            "2028 is a leap year.\n"
          ]
        }
      ]
    }
  ]
}