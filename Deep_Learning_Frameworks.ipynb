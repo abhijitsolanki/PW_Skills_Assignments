{
  "cells": [
    {
      "cell_type": "markdown",
      "source": [
        "\n",
        "\n",
        "-----\n",
        "\n",
        "### **Theoretical Questions**\n",
        "\n",
        "#### **1. [cite\\_start]What is TensorFlow 2.0, and how is it different from TensorFlow 1.x?** [cite: 41]\n",
        "\n",
        "TensorFlow 2.0 is a major version of the open-source machine learning platform developed by Google. It was redesigned to be more user-friendly, intuitive, and easier to debug than its predecessor, TensorFlow 1.x.\n",
        "\n",
        "Key differences include:\n",
        "\n",
        "  * **Eager Execution by Default:** In TensorFlow 1.x, you had to define a static computation graph first and then execute it within a `tf.Session`. TensorFlow 2.0 enables eager execution by default, which means operations are evaluated immediately, just like regular Python code. This makes debugging much easier.\n",
        "  * **Keras as the High-Level API:** TensorFlow 2.0 has adopted Keras (`tf.keras`) as its official high-level API for building and training models. This provides a simpler, more modular, and user-friendly interface.\n",
        "  * **`tf.function` Decorator:** To retain the performance benefits of graph-based execution, TensorFlow 2.0 introduced the `@tf.function` decorator. This decorator converts a Python function into a high-performance, portable TensorFlow graph.\n",
        "  * **API Cleanup:** Many redundant and confusing APIs from TensorFlow 1.x were removed or consolidated, leading to a cleaner and more consistent API surface. The need to manually manage sessions and variable scopes is eliminated.\n",
        "\n",
        "#### **2. [cite\\_start]How do you install TensorFlow 2.0?** [cite: 41]\n",
        "\n",
        "You can install TensorFlow 2.0 using the `pip` package manager. It is recommended to install it within a virtual environment.\n",
        "\n",
        "Open your terminal or command prompt and run the following command:\n",
        "\n",
        "```bash\n",
        "pip install tensorflow\n",
        "```\n",
        "\n",
        "This command installs the latest stable version of TensorFlow, which includes support for both CPU and GPU (if a compatible NVIDIA GPU, CUDA, and cuDNN are configured on your system).\n",
        "\n",
        "#### **3. [cite\\_start]What is the primary function of the tf.function in TensorFlow 2.0?** [cite: 42]\n",
        "\n",
        "The primary function of `tf.function` is to transform a standard Python function into a callable TensorFlow graph. It acts as a decorator (`@tf.function`) that compiles the Python code into a highly optimized, portable, and framework-agnostic computation graph. This allows developers to write intuitive Python code (using Eager Execution) while getting the performance benefits of static graphs, such as optimizations and faster execution, which were the hallmark of TensorFlow 1.x.\n",
        "\n",
        "#### **4. [cite\\_start]What is the purpose of the Model class in TensorFlow 2.0?** [cite: 43]\n",
        "\n",
        "In TensorFlow 2.0, the `tf.keras.Model` class is a powerful tool for creating custom neural network architectures. While the `tf.keras.Sequential` class is perfect for simple models where layers are stacked one after another, the `Model` class (used via subclassing) provides the flexibility to build complex models with multiple inputs/outputs, shared layers, or intricate data flow paths. By subclassing `tf.keras.Model`, you define the layers in the `__init__` method and specify the forward pass logic in the `call` method, giving you full control over the model's architecture.\n",
        "\n",
        "#### **5. [cite\\_start]How do you create a neural network using TensorFlow 2.0?** [cite: 44]\n",
        "\n",
        "There are two primary ways to create a neural network in TensorFlow 2.0 using the Keras API:\n",
        "\n",
        "1.  **Using the `Sequential` API:** This is the simplest method, used for building models with a linear stack of layers."
      ],
      "metadata": {
        "id": "RQ22cOIoZTJn"
      }
    },
    {
      "cell_type": "code",
      "source": [
        "import tensorflow as tf\n",
        "    model = tf.keras.Sequential([\n",
        "        tf.keras.layers.Dense(128, activation='relu', input_shape=(784,)),\n",
        "        tf.keras.layers.Dense(10, activation='softmax')\n",
        "    ])"
      ],
      "outputs": [
        {
          "output_type": "error",
          "ename": "IndentationError",
          "evalue": "unexpected indent (ipython-input-3926455538.py, line 2)",
          "traceback": [
            "\u001b[0;36m  File \u001b[0;32m\"/tmp/ipython-input-3926455538.py\"\u001b[0;36m, line \u001b[0;32m2\u001b[0m\n\u001b[0;31m    model = tf.keras.Sequential([\u001b[0m\n\u001b[0m    ^\u001b[0m\n\u001b[0;31mIndentationError\u001b[0m\u001b[0;31m:\u001b[0m unexpected indent\n"
          ]
        }
      ],
      "execution_count": 5,
      "metadata": {
        "colab": {
          "base_uri": "https://localhost:8080/",
          "height": 106
        },
        "id": "bGbTD9AJZTJq",
        "outputId": "c618c05b-b412-41fd-f928-d41b59d8a05a"
      }
    },
    {
      "cell_type": "markdown",
      "source": [
        "2.  **Using the Functional API or Model Subclassing:** For more complex models, you can use the Functional API or subclass `tf.keras.Model` to define the architecture.\n",
        "\n",
        "#### **6. [cite\\_start]What is the importance of Tensor Space in TensorFlow?** [cite: 45]\n",
        "\n",
        "The term \"Tensor Space\" generally refers to the concept that all data and operations within TensorFlow revolve around **tensors**. A tensor is the fundamental data structure in TensorFlow—a multi-dimensional array that generalizes scalars (0-D tensor), vectors (1-D tensor), and matrices (2-D tensor).\n",
        "\n",
        "The importance of tensors is that they provide a unified way to represent all kinds of data (images, text, numerical data) and flow this data through the computation graph. The operations (or `ops`) in TensorFlow are functions that consume and produce tensors. This tensor-based framework is what allows TensorFlow to perform complex mathematical computations efficiently, especially on hardware accelerators like GPUs and TPUs.\n",
        "\n",
        "#### **7. [cite\\_start]How can TensorBoard be integrated with TensorFlow 2.0?** [cite: 46]\n",
        "\n",
        "TensorBoard is a visualization toolkit for TensorFlow. It can be integrated easily into a TensorFlow 2.0 training workflow using the `tf.keras.callbacks.TensorBoard` callback.\n",
        "\n",
        "1.  **Instantiate the Callback:** Create an instance of the `TensorBoard` callback, specifying a log directory."
      ],
      "metadata": {
        "id": "UWLuq2gFZTJs"
      }
    },
    {
      "cell_type": "code",
      "source": [
        "tensorboard_callback = tf.keras.callbacks.TensorBoard(log_dir=\"./logs\")"
      ],
      "outputs": [],
      "execution_count": 6,
      "metadata": {
        "id": "l4YPj9yqZTJt"
      }
    },
    {
      "cell_type": "markdown",
      "source": [
        "2.  **Pass to `model.fit()`:** Pass the callback to the `callbacks` list during model training."
      ],
      "metadata": {
        "id": "yRuLYMnnZTJt"
      }
    },
    {
      "cell_type": "code",
      "source": [
        "model.fit(x_train, y_train, epochs=10, callbacks=[tensorboard_callback])"
      ],
      "outputs": [
        {
          "output_type": "error",
          "ename": "NameError",
          "evalue": "name 'x_train' is not defined",
          "traceback": [
            "\u001b[0;31m---------------------------------------------------------------------------\u001b[0m",
            "\u001b[0;31mNameError\u001b[0m                                 Traceback (most recent call last)",
            "\u001b[0;32m/tmp/ipython-input-2743461692.py\u001b[0m in \u001b[0;36m<cell line: 0>\u001b[0;34m()\u001b[0m\n\u001b[0;32m----> 1\u001b[0;31m \u001b[0mmodel\u001b[0m\u001b[0;34m.\u001b[0m\u001b[0mfit\u001b[0m\u001b[0;34m(\u001b[0m\u001b[0mx_train\u001b[0m\u001b[0;34m,\u001b[0m \u001b[0my_train\u001b[0m\u001b[0;34m,\u001b[0m \u001b[0mepochs\u001b[0m\u001b[0;34m=\u001b[0m\u001b[0;36m10\u001b[0m\u001b[0;34m,\u001b[0m \u001b[0mcallbacks\u001b[0m\u001b[0;34m=\u001b[0m\u001b[0;34m[\u001b[0m\u001b[0mtensorboard_callback\u001b[0m\u001b[0;34m]\u001b[0m\u001b[0;34m)\u001b[0m\u001b[0;34m\u001b[0m\u001b[0;34m\u001b[0m\u001b[0m\n\u001b[0m",
            "\u001b[0;31mNameError\u001b[0m: name 'x_train' is not defined"
          ]
        }
      ],
      "execution_count": 7,
      "metadata": {
        "colab": {
          "base_uri": "https://localhost:8080/",
          "height": 141
        },
        "id": "b5LIrRlEZTJu",
        "outputId": "ec43b44d-eee0-45a7-e443-2d315a58dbb0"
      }
    },
    {
      "cell_type": "markdown",
      "source": [
        "3.  **Launch TensorBoard:** Run TensorBoard from the command line, pointing it to the log directory.\n",
        "    ```bash\n",
        "    tensorboard --logdir ./logs\n",
        "    ```\n",
        "\n",
        "This will allow you to visualize metrics like loss and accuracy, view the model graph, and analyze histograms of weights and biases in your web browser.\n",
        "\n",
        "#### **8. [cite\\_start]What is the purpose of TensorFlow Playground?** [cite: 47]\n",
        "\n",
        "TensorFlow Playground is an interactive, web-based neural network visualizer. Its purpose is educational: it allows users to experiment with a simple neural network in their browser without writing any code. Users can adjust hyperparameters like the learning rate, number of hidden layers, number of neurons, activation function, and input features, and then watch in real-time how these changes affect the network's learning process and its ability to classify data. It is an excellent tool for building an intuitive understanding of how neural networks work.\n",
        "\n",
        "#### **9. [cite\\_start]What is Netron, and how is it useful for deep learning models?** [cite: 48]\n",
        "\n",
        "Netron is a visualizer for neural network, deep learning, and machine learning models. It is a desktop application and web-based tool that can open and display the architecture of models saved in various formats, such as TensorFlow (`.pb`, `.h5`), ONNX (`.onnx`), PyTorch (`.pth`), and Keras (`.keras`).\n",
        "\n",
        "Netron is useful because it provides a clear, interactive graph of the model's architecture. You can click on individual layers to inspect their properties, such as weights, biases, activation functions, and input/output shapes. This is incredibly helpful for debugging models, understanding complex architectures, and verifying that a model has been saved or converted correctly.\n",
        "\n",
        "#### **10. [cite\\_start]What is the difference between TensorFlow and PyTorch?** [cite: 49]\n",
        "\n",
        "TensorFlow and PyTorch are the two most popular deep learning frameworks. The key differences are:\n",
        "\n",
        "  * **Graph Definition:** PyTorch primarily uses a dynamic computation graph (Define-by-Run), where the graph is built on the fly as operations are executed. TensorFlow 2.0 uses Eager Execution by default but encourages using `@tf.function` to create static graphs (Define-and-Run) for performance.\n",
        "  * **API Style:** PyTorch's API is often described as more \"Pythonic\" and object-oriented, making it popular in research for its flexibility. TensorFlow 2.0, with its Keras integration, offers a high-level, user-friendly API that is often favored for production deployment.\n",
        "  * **Deployment:** TensorFlow has a more mature and extensive ecosystem for deploying models in production, including tools like TensorFlow Serving for servers, TensorFlow Lite for mobile/embedded devices, and TensorFlow.js for browsers. PyTorch's deployment ecosystem, with tools like TorchServe, is rapidly maturing.\n",
        "  * **Visualization:** TensorFlow comes with its own powerful visualization tool, TensorBoard. While TensorBoard can be used with PyTorch, it's a native part of the TensorFlow ecosystem.\n",
        "\n",
        "#### **11. [cite\\_start]How do you install PyTorch?** [cite: 50]\n",
        "\n",
        "The recommended way to install PyTorch is by using the command generator on the official PyTorch website (`pytorch.org`). You select your operating system, package manager (pip or conda), programming language, and desired CUDA version.\n",
        "\n",
        "For example, a typical installation command using pip for a system with CUDA 11.8 would be:\n",
        "\n",
        "```bash\n",
        "pip3 install torch torchvision torchaudio --index-url https://download.pytorch.org/whl/cu118\n",
        "```\n",
        "\n",
        "For a CPU-only version:\n",
        "\n",
        "```bash\n",
        "pip3 install torch torchvision torchaudio\n",
        "```\n",
        "\n",
        "#### **12. [cite\\_start]What is the basic structure of a PyTorch neural network?** [cite: 51]\n",
        "\n",
        "A neural network in PyTorch is typically defined as a Python class that inherits from `torch.nn.Module`. The basic structure involves two main methods:\n",
        "\n",
        "1.  **`__init__(self)`:** The constructor where you define and initialize the layers of the network (e.g., `nn.Linear`, `nn.Conv2d`).\n",
        "2.  **`forward(self, x)`:** This method defines the forward pass of the network. It takes an input tensor `x` and specifies how it should flow through the layers defined in `__init__`.\n",
        "\n",
        "Example:"
      ],
      "metadata": {
        "id": "DGkE1_iGZTJu"
      }
    },
    {
      "cell_type": "code",
      "source": [
        "import torch\n",
        "import torch.nn as nn\n",
        "\n",
        "class SimpleNet(nn.Module):\n",
        "    def __init__(self):\n",
        "        super(SimpleNet, self).__init__()\n",
        "        self.layer1 = nn.Linear(784, 128) # Input features=784, Output features=128\n",
        "        self.activation = nn.ReLU()\n",
        "        self.layer2 = nn.Linear(128, 10)  # Output features=10 (for 10 classes)\n",
        "\n",
        "    def forward(self, x):\n",
        "        x = self.layer1(x)\n",
        "        x = self.activation(x)\n",
        "        x = self.layer2(x)\n",
        "        return x"
      ],
      "outputs": [],
      "execution_count": null,
      "metadata": {
        "id": "RO_GgVOBZTJv"
      }
    },
    {
      "cell_type": "markdown",
      "source": [
        "#### **13. [cite\\_start]What is the significance of tensors in PyTorch?** [cite: 52]\n",
        "\n",
        "Similar to TensorFlow, tensors are the fundamental building block in PyTorch. A `torch.Tensor` is a multi-dimensional array. Their significance lies in:\n",
        "\n",
        "  * **Data Representation:** They are used to encode all model inputs, outputs, and parameters (weights and biases).\n",
        "  * **Computational Core:** All mathematical operations in PyTorch are performed on tensors.\n",
        "  * **GPU Acceleration:** Tensors can be easily moved to a GPU (`.to('cuda')`) to leverage parallel processing for massive speedups in training.\n",
        "  * **Automatic Differentiation:** PyTorch's autograd engine (`torch.autograd`) tracks operations on tensors that have `requires_grad=True`, allowing it to automatically compute gradients, which is essential for backpropagation.\n",
        "\n",
        "#### **14. [cite\\_start]What is the difference between torch.Tensor and torch.cuda.Tensor in PyTorch?** [cite: 53]\n",
        "\n",
        "  * **`torch.Tensor`:** This is the main tensor class. By default, it creates a tensor that resides on the CPU and has a data type of `float32` (`torch.FloatTensor`).\n",
        "  * **`torch.cuda.Tensor`:** This is a specialized tensor type that resides on a CUDA-enabled NVIDIA GPU. Operations on these tensors are executed on the GPU.\n",
        "\n",
        "In modern PyTorch, you rarely use `torch.cuda.Tensor` directly. The standard practice is to create a regular `torch.Tensor` and then move it to the desired device (CPU or GPU) using the `.to(device)` method. For example: `my_tensor.to('cuda')`.\n",
        "\n",
        "#### **15. [cite\\_start]What is the purpose of the torch.optim module in PyTorch?** [cite: 54]\n",
        "\n",
        "The `torch.optim` module provides implementations of various optimization algorithms (optimizers) used for training neural networks. The purpose of an optimizer is to update the model's parameters (weights and biases) based on the gradients computed during backpropagation. After calculating the loss and calling `loss.backward()`, you use an optimizer's `step()` method (`optimizer.step()`) to apply the gradients and update the weights, thereby minimizing the loss function. Common optimizers available in this module include `torch.optim.SGD`, `torch.optim.Adam`, and `torch.optim.RMSprop`.\n",
        "\n",
        "#### **16. [cite\\_start]What are some common activation functions used in neural networks?** [cite: 55]\n",
        "\n",
        "Common activation functions include:\n",
        "\n",
        "  * **ReLU (Rectified Linear Unit):** The most popular activation function. It outputs the input if it's positive, and zero otherwise. $f(x) = \\max(0, x)$.\n",
        "  * **Sigmoid:** Maps values to a range between 0 and 1. Used for binary classification output layers. $f(x) = \\frac{1}{1 + e^{-x}}$.\n",
        "  * **Tanh (Hyperbolic Tangent):** Maps values to a range between -1 and 1.\n",
        "  * **Softmax:** Used in the output layer for multi-class classification. It converts a vector of numbers into a probability distribution.\n",
        "  * **Leaky ReLU:** A variant of ReLU that allows a small, non-zero gradient for negative inputs to prevent \"dying ReLU\" issues.\n",
        "\n",
        "#### **17. [cite\\_start]What is the difference between torch.nn.Module and torch.nn.Sequential in PyTorch?** [cite: 56]\n",
        "\n",
        "  * **`torch.nn.Module`:** This is the base class for all neural network modules in PyTorch. Any custom network or layer you build must be a subclass of `nn.Module`. It provides the core functionality, such as parameter tracking and device management, but requires you to explicitly define the forward pass logic in a `forward` method. It is used for creating models of any complexity.\n",
        "  * **`torch.nn.Sequential`:** This is a container that holds other modules and applies them in the order they are passed to the constructor. It is a convenient and simple way to build models that have a straightforward, linear flow of data from one layer to the next. It does not require you to write a `forward` method, as the forward pass is implicitly defined by the sequence of layers. It is less flexible than subclassing `nn.Module`.\n",
        "\n",
        "#### **18. [cite\\_start]How can you monitor training progress in TensorFlow 2.0?** [cite: 57]\n",
        "\n",
        "You can monitor training progress in TensorFlow 2.0 in several ways:\n",
        "\n",
        "1.  **Console Output:** The `model.fit()` method prints the loss and any specified metrics for each epoch to the console by default.\n",
        "2.  **History Object:** `model.fit()` returns a `History` object that contains a record of the loss and metric values for each epoch. This can be used for plotting.\n",
        "3.  **Keras Callbacks:**\n",
        "      * `tf.keras.callbacks.TensorBoard`: Logs metrics for visualization in TensorBoard.\n",
        "      * `tf.keras.callbacks.ModelCheckpoint`: Saves the model periodically (e.g., only when validation performance improves).\n",
        "      * `tf.keras.callbacks.EarlyStopping`: Stops training when a monitored metric has stopped improving.\n",
        "      * `tf.keras.callbacks.CSVLogger`: Streams epoch results to a CSV file.\n",
        "\n",
        "#### **19. [cite\\_start]How does the Keras API fit into TensorFlow 2.0?** [cite: 58]\n",
        "\n",
        "In TensorFlow 2.0, Keras is not just a wrapper but the official, tightly integrated high-level API, accessible as `tf.keras`. It is the recommended way for most users to build and train deep learning models. This integration means you can seamlessly use Keras's user-friendly interface while still having access to all the low-level functionalities of TensorFlow, such as custom layers, loss functions, and the `tf.data` pipeline for efficient data loading.\n",
        "\n",
        "#### **20. [cite\\_start]What is an example of a deep learning project that can be implemented using TensorFlow 2.0?** [cite: 59]\n",
        "\n",
        "An excellent example is an **Image Classification project**, such as classifying images of cats and dogs.\n",
        "The steps would be:\n",
        "\n",
        "1.  **Data Loading and Preprocessing:** Use `tf.keras.utils.image_dataset_from_directory` to load images from folders and `tf.data` to create an efficient input pipeline. Normalize pixel values.\n",
        "2.  **Model Building:** Build a Convolutional Neural Network (CNN) using `tf.keras.Sequential`. The model would consist of `Conv2D` and `MaxPooling2D` layers to extract features, followed by `Dense` layers for classification.\n",
        "3.  **Model Compilation:** Compile the model using `model.compile()`, specifying an optimizer (e.g., `'adam'`), a loss function (`'binary_crossentropy'`), and metrics (`['accuracy']`).\n",
        "4.  **Training:** Train the model using `model.fit()`, passing in the training and validation datasets.\n",
        "5.  **Evaluation:** Evaluate the trained model's performance on a separate test dataset using `model.evaluate()`.\n",
        "\n",
        "#### **21. [cite\\_start]What is the main advantage of using pre-trained models in TensorFlow and PyTorch?** [cite: 60]\n",
        "\n",
        "The main advantage is **Transfer Learning**. Pre-trained models (like VGG16, ResNet, or BERT) have already been trained on massive datasets (e.g., ImageNet for images, Wikipedia for text). This means they have learned a rich set of features that are broadly useful. By using a pre-trained model, you can:\n",
        "\n",
        "  * **Save Time and Resources:** You don't have to spend days or weeks training a large model from scratch.\n",
        "  * **Achieve Higher Accuracy:** Especially when you have a small dataset, a pre-trained model provides a much better starting point, often leading to better performance than a model trained only on your data.\n",
        "  * **Utilize State-of-the-Art Architectures:** You get access to proven, high-performing model architectures without having to design them yourself.\n",
        "\n",
        "-----\n",
        "\n",
        "### **Practical Questions**\n",
        "\n",
        "#### **1. [cite\\_start]How do you install and verify that TensorFlow 2.0 was installed successfully?** [cite: 62]\n",
        "\n",
        "**1. Installation:** Open your terminal or command prompt and run:\n",
        "\n",
        "```bash\n",
        "pip install tensorflow\n",
        "```\n",
        "\n",
        "**2. Verification:** Create a Python script or open a Python interpreter and run the following code:"
      ],
      "metadata": {
        "id": "nGVY2G7mZTJv"
      }
    },
    {
      "cell_type": "code",
      "source": [
        "import tensorflow as tf\n",
        "\n",
        "# Check the version\n",
        "print(\"TensorFlow Version:\", tf.__version__)\n",
        "\n",
        "# Check if a GPU is available\n",
        "gpu_devices = tf.config.list_physical_devices('GPU')\n",
        "if gpu_devices:\n",
        "    print(f\"GPU is available: {gpu_devices}\")\n",
        "else:\n",
        "    print(\"GPU not available, TensorFlow is using CPU.\")"
      ],
      "outputs": [
        {
          "output_type": "stream",
          "name": "stdout",
          "text": [
            "TensorFlow Version: 2.19.0\n",
            "GPU not available, TensorFlow is using CPU.\n"
          ]
        }
      ],
      "execution_count": 8,
      "metadata": {
        "colab": {
          "base_uri": "https://localhost:8080/"
        },
        "id": "nUF8wwL_ZTJw",
        "outputId": "a416939d-39b0-4d69-bc16-8c4707ea4db0"
      }
    },
    {
      "cell_type": "markdown",
      "source": [
        "If the script runs without errors and prints the version number, the installation was successful.\n",
        "\n",
        "#### **2. [cite\\_start]How can you define a simple function in TensorFlow 2.0 to perform addition?** [cite: 63]\n",
        "\n",
        "You can define a simple Python function and use the `@tf.function` decorator to convert it into an optimized TensorFlow graph."
      ],
      "metadata": {
        "id": "5_k3t9uyZTJw"
      }
    },
    {
      "cell_type": "code",
      "source": [
        "import tensorflow as tf\n",
        "\n",
        "# Define the function with the decorator\n",
        "@tf.function\n",
        "def add_tensors(a, b):\n",
        "  \"\"\"Adds two tensors.\"\"\"\n",
        "  return tf.add(a, b)\n",
        "\n",
        "# Create two constant tensors\n",
        "tensor_a = tf.constant([1, 2, 3])\n",
        "tensor_b = tf.constant([4, 5, 6])\n",
        "\n",
        "# Call the function\n",
        "result = add_tensors(tensor_a, tensor_b)\n",
        "\n",
        "print(\"Input A:\", tensor_a.numpy())\n",
        "print(\"Input B:\", tensor_b.numpy())\n",
        "print(\"Result of addition:\", result.numpy())"
      ],
      "outputs": [
        {
          "output_type": "stream",
          "name": "stdout",
          "text": [
            "Input A: [1 2 3]\n",
            "Input B: [4 5 6]\n",
            "Result of addition: [5 7 9]\n"
          ]
        }
      ],
      "execution_count": 9,
      "metadata": {
        "colab": {
          "base_uri": "https://localhost:8080/"
        },
        "id": "TjYL-pY2ZTJx",
        "outputId": "967c93c2-666d-4807-a341-cc3920101939"
      }
    },
    {
      "cell_type": "markdown",
      "source": [
        "#### **3. [cite\\_start]How can you create a simple neural network in TensorFlow 2.0 with one hidden layer?** [cite: 64]\n",
        "\n",
        "You can use the `tf.keras.Sequential` API for this."
      ],
      "metadata": {
        "id": "v813NzZIZTJx"
      }
    },
    {
      "cell_type": "code",
      "source": [
        "import tensorflow as tf\n",
        "from tensorflow import keras\n",
        "\n",
        "# Define the model\n",
        "model = keras.Sequential([\n",
        "    # Input layer: specified by input_shape in the first layer\n",
        "    # Flatten layer to convert 28x28 images to a 1D array of 784\n",
        "    keras.layers.Flatten(input_shape=(28, 28)),\n",
        "\n",
        "    # Hidden layer with 128 neurons and ReLU activation\n",
        "    keras.layers.Dense(128, activation='relu'),\n",
        "\n",
        "    # Output layer with 10 neurons (for 10 classes) and softmax activation\n",
        "    keras.layers.Dense(10, activation='softmax')\n",
        "])\n",
        "\n",
        "# Print the model summary\n",
        "model.summary()"
      ],
      "outputs": [
        {
          "output_type": "stream",
          "name": "stderr",
          "text": [
            "/usr/local/lib/python3.12/dist-packages/keras/src/layers/reshaping/flatten.py:37: UserWarning: Do not pass an `input_shape`/`input_dim` argument to a layer. When using Sequential models, prefer using an `Input(shape)` object as the first layer in the model instead.\n",
            "  super().__init__(**kwargs)\n"
          ]
        },
        {
          "output_type": "display_data",
          "data": {
            "text/plain": [
              "\u001b[1mModel: \"sequential_1\"\u001b[0m\n"
            ],
            "text/html": [
              "<pre style=\"white-space:pre;overflow-x:auto;line-height:normal;font-family:Menlo,'DejaVu Sans Mono',consolas,'Courier New',monospace\"><span style=\"font-weight: bold\">Model: \"sequential_1\"</span>\n",
              "</pre>\n"
            ]
          },
          "metadata": {}
        },
        {
          "output_type": "display_data",
          "data": {
            "text/plain": [
              "┏━━━━━━━━━━━━━━━━━━━━━━━━━━━━━━━━━┳━━━━━━━━━━━━━━━━━━━━━━━━┳━━━━━━━━━━━━━━━┓\n",
              "┃\u001b[1m \u001b[0m\u001b[1mLayer (type)                   \u001b[0m\u001b[1m \u001b[0m┃\u001b[1m \u001b[0m\u001b[1mOutput Shape          \u001b[0m\u001b[1m \u001b[0m┃\u001b[1m \u001b[0m\u001b[1m      Param #\u001b[0m\u001b[1m \u001b[0m┃\n",
              "┡━━━━━━━━━━━━━━━━━━━━━━━━━━━━━━━━━╇━━━━━━━━━━━━━━━━━━━━━━━━╇━━━━━━━━━━━━━━━┩\n",
              "│ flatten (\u001b[38;5;33mFlatten\u001b[0m)               │ (\u001b[38;5;45mNone\u001b[0m, \u001b[38;5;34m784\u001b[0m)            │             \u001b[38;5;34m0\u001b[0m │\n",
              "├─────────────────────────────────┼────────────────────────┼───────────────┤\n",
              "│ dense_1 (\u001b[38;5;33mDense\u001b[0m)                 │ (\u001b[38;5;45mNone\u001b[0m, \u001b[38;5;34m128\u001b[0m)            │       \u001b[38;5;34m100,480\u001b[0m │\n",
              "├─────────────────────────────────┼────────────────────────┼───────────────┤\n",
              "│ dense_2 (\u001b[38;5;33mDense\u001b[0m)                 │ (\u001b[38;5;45mNone\u001b[0m, \u001b[38;5;34m10\u001b[0m)             │         \u001b[38;5;34m1,290\u001b[0m │\n",
              "└─────────────────────────────────┴────────────────────────┴───────────────┘\n"
            ],
            "text/html": [
              "<pre style=\"white-space:pre;overflow-x:auto;line-height:normal;font-family:Menlo,'DejaVu Sans Mono',consolas,'Courier New',monospace\">┏━━━━━━━━━━━━━━━━━━━━━━━━━━━━━━━━━┳━━━━━━━━━━━━━━━━━━━━━━━━┳━━━━━━━━━━━━━━━┓\n",
              "┃<span style=\"font-weight: bold\"> Layer (type)                    </span>┃<span style=\"font-weight: bold\"> Output Shape           </span>┃<span style=\"font-weight: bold\">       Param # </span>┃\n",
              "┡━━━━━━━━━━━━━━━━━━━━━━━━━━━━━━━━━╇━━━━━━━━━━━━━━━━━━━━━━━━╇━━━━━━━━━━━━━━━┩\n",
              "│ flatten (<span style=\"color: #0087ff; text-decoration-color: #0087ff\">Flatten</span>)               │ (<span style=\"color: #00d7ff; text-decoration-color: #00d7ff\">None</span>, <span style=\"color: #00af00; text-decoration-color: #00af00\">784</span>)            │             <span style=\"color: #00af00; text-decoration-color: #00af00\">0</span> │\n",
              "├─────────────────────────────────┼────────────────────────┼───────────────┤\n",
              "│ dense_1 (<span style=\"color: #0087ff; text-decoration-color: #0087ff\">Dense</span>)                 │ (<span style=\"color: #00d7ff; text-decoration-color: #00d7ff\">None</span>, <span style=\"color: #00af00; text-decoration-color: #00af00\">128</span>)            │       <span style=\"color: #00af00; text-decoration-color: #00af00\">100,480</span> │\n",
              "├─────────────────────────────────┼────────────────────────┼───────────────┤\n",
              "│ dense_2 (<span style=\"color: #0087ff; text-decoration-color: #0087ff\">Dense</span>)                 │ (<span style=\"color: #00d7ff; text-decoration-color: #00d7ff\">None</span>, <span style=\"color: #00af00; text-decoration-color: #00af00\">10</span>)             │         <span style=\"color: #00af00; text-decoration-color: #00af00\">1,290</span> │\n",
              "└─────────────────────────────────┴────────────────────────┴───────────────┘\n",
              "</pre>\n"
            ]
          },
          "metadata": {}
        },
        {
          "output_type": "display_data",
          "data": {
            "text/plain": [
              "\u001b[1m Total params: \u001b[0m\u001b[38;5;34m101,770\u001b[0m (397.54 KB)\n"
            ],
            "text/html": [
              "<pre style=\"white-space:pre;overflow-x:auto;line-height:normal;font-family:Menlo,'DejaVu Sans Mono',consolas,'Courier New',monospace\"><span style=\"font-weight: bold\"> Total params: </span><span style=\"color: #00af00; text-decoration-color: #00af00\">101,770</span> (397.54 KB)\n",
              "</pre>\n"
            ]
          },
          "metadata": {}
        },
        {
          "output_type": "display_data",
          "data": {
            "text/plain": [
              "\u001b[1m Trainable params: \u001b[0m\u001b[38;5;34m101,770\u001b[0m (397.54 KB)\n"
            ],
            "text/html": [
              "<pre style=\"white-space:pre;overflow-x:auto;line-height:normal;font-family:Menlo,'DejaVu Sans Mono',consolas,'Courier New',monospace\"><span style=\"font-weight: bold\"> Trainable params: </span><span style=\"color: #00af00; text-decoration-color: #00af00\">101,770</span> (397.54 KB)\n",
              "</pre>\n"
            ]
          },
          "metadata": {}
        },
        {
          "output_type": "display_data",
          "data": {
            "text/plain": [
              "\u001b[1m Non-trainable params: \u001b[0m\u001b[38;5;34m0\u001b[0m (0.00 B)\n"
            ],
            "text/html": [
              "<pre style=\"white-space:pre;overflow-x:auto;line-height:normal;font-family:Menlo,'DejaVu Sans Mono',consolas,'Courier New',monospace\"><span style=\"font-weight: bold\"> Non-trainable params: </span><span style=\"color: #00af00; text-decoration-color: #00af00\">0</span> (0.00 B)\n",
              "</pre>\n"
            ]
          },
          "metadata": {}
        }
      ],
      "execution_count": 10,
      "metadata": {
        "colab": {
          "base_uri": "https://localhost:8080/",
          "height": 280
        },
        "id": "WpLW9aoDZTJx",
        "outputId": "d0d19431-e845-4f12-ddc1-24c5612fafe8"
      }
    },
    {
      "cell_type": "markdown",
      "source": [
        "#### **4. [cite\\_start]How can you visualize the training progress using TensorFlow and Matplotlib?** [cite: 65]\n",
        "\n",
        "You can plot the data stored in the `History` object returned by the `model.fit()` method."
      ],
      "metadata": {
        "id": "nWF1zlobZTJx"
      }
    },
    {
      "cell_type": "code",
      "source": [
        "import tensorflow as tf\n",
        "from tensorflow import keras\n",
        "import matplotlib.pyplot as plt\n",
        "\n",
        "# Assume 'model' is a compiled Keras model and you have training data\n",
        "# (x_train, y_train), (x_val, y_val)\n",
        "\n",
        "# history = model.fit(x_train, y_train, epochs=10, validation_data=(x_val, y_val))\n",
        "\n",
        "# --- Dummy history object for demonstration ---\n",
        "class DummyHistory:\n",
        "    history = {\n",
        "        'accuracy': [0.85, 0.90, 0.92, 0.93, 0.94],\n",
        "        'val_accuracy': [0.86, 0.91, 0.91, 0.92, 0.93],\n",
        "        'loss': [0.5, 0.3, 0.25, 0.2, 0.18],\n",
        "        'val_loss': [0.45, 0.28, 0.26, 0.24, 0.22]\n",
        "    }\n",
        "history = DummyHistory()\n",
        "# ---------------------------------------------\n",
        "\n",
        "# Plot training & validation accuracy values\n",
        "plt.figure(figsize=(12, 5))\n",
        "plt.subplot(1, 2, 1)\n",
        "plt.plot(history.history['accuracy'])\n",
        "plt.plot(history.history['val_accuracy'])\n",
        "plt.title('Model Accuracy')\n",
        "plt.ylabel('Accuracy')\n",
        "plt.xlabel('Epoch')\n",
        "plt.legend(['Train', 'Validation'], loc='upper left')\n",
        "\n",
        "# Plot training & validation loss values\n",
        "plt.subplot(1, 2, 2)\n",
        "plt.plot(history.history['loss'])\n",
        "plt.plot(history.history['val_loss'])\n",
        "plt.title('Model Loss')\n",
        "plt.ylabel('Loss')\n",
        "plt.xlabel('Epoch')\n",
        "plt.legend(['Train', 'Validation'], loc='upper left')\n",
        "\n",
        "plt.tight_layout()\n",
        "plt.show()"
      ],
      "outputs": [
        {
          "output_type": "display_data",
          "data": {
            "text/plain": [
              "<Figure size 1200x500 with 2 Axes>"
            ],
            "image/png": "[encoded data removed]"
          },
          "metadata": {}
        }
      ],
      "execution_count": 11,
      "metadata": {
        "colab": {
          "base_uri": "https://localhost:8080/",
          "height": 507
        },
        "id": "W9o8U6sJZTJx",
        "outputId": "4ab1c507-bf63-45ab-8129-32b4b769e0dc"
      }
    },
    {
      "cell_type": "markdown",
      "source": [
        "#### **5. [cite\\_start]How do you install PyTorch and verify the PyTorch installation?** [cite: 66]\n",
        "\n",
        "**1. Installation:** Go to the official PyTorch website (`pytorch.org`) and use the generated command. For a standard pip installation on a machine without a dedicated NVIDIA GPU, the command is:\n",
        "\n",
        "```bash\n",
        "pip3 install torch torchvision torchaudio\n",
        "```\n",
        "\n",
        "**2. Verification:** Open a Python interpreter or script and run:"
      ],
      "metadata": {
        "id": "NfpldTF9ZTJy"
      }
    },
    {
      "cell_type": "code",
      "source": [
        "import torch\n",
        "\n",
        "# Check the version\n",
        "print(\"PyTorch Version:\", torch.__version__)\n",
        "\n",
        "# Check if CUDA (for GPU support) is available\n",
        "is_cuda_available = torch.cuda.is_available()\n",
        "if is_cuda_available:\n",
        "    print(\"CUDA is available. PyTorch is using GPU.\")\n",
        "else:\n",
        "    print(\"CUDA not available. PyTorch is using CPU.\")"
      ],
      "outputs": [
        {
          "output_type": "stream",
          "name": "stdout",
          "text": [
            "PyTorch Version: 2.8.0+cu126\n",
            "CUDA not available. PyTorch is using CPU.\n"
          ]
        }
      ],
      "execution_count": 12,
      "metadata": {
        "colab": {
          "base_uri": "https://localhost:8080/"
        },
        "id": "z_DRDSH1ZTJy",
        "outputId": "3d33c869-8eba-4fdb-c3ff-7edb402d41e7"
      }
    },
    {
      "cell_type": "markdown",
      "source": [
        "Successful execution without errors confirms the installation.\n",
        "\n",
        "#### **6. [cite\\_start]How do you create a simple neural network in PyTorch?** [cite: 67]\n",
        "\n",
        "You create a class that inherits from `torch.nn.Module`."
      ],
      "metadata": {
        "id": "1ZwGqPERZTJy"
      }
    },
    {
      "cell_type": "code",
      "source": [
        "import torch\n",
        "import torch.nn as nn\n",
        "import torch.nn.functional as F\n",
        "\n",
        "class SimpleNet(nn.Module):\n",
        "    def __init__(self):\n",
        "        # Call the constructor of the parent class\n",
        "        super(SimpleNet, self).__init__()\n",
        "\n",
        "        # Define the layers\n",
        "        self.fc1 = nn.Linear(784, 128)  # Hidden layer\n",
        "        self.fc2 = nn.Linear(128, 10)   # Output layer\n",
        "\n",
        "    def forward(self, x):\n",
        "        # Define the forward pass\n",
        "        x = x.view(-1, 784)  # Flatten the input tensor\n",
        "        x = F.relu(self.fc1(x)) # Apply ReLU activation to the hidden layer\n",
        "        x = self.fc2(x)\n",
        "        return x\n",
        "\n",
        "# Instantiate the network\n",
        "net = SimpleNet()\n",
        "print(net)"
      ],
      "outputs": [
        {
          "output_type": "stream",
          "name": "stdout",
          "text": [
            "SimpleNet(\n",
            "  (fc1): Linear(in_features=784, out_features=128, bias=True)\n",
            "  (fc2): Linear(in_features=128, out_features=10, bias=True)\n",
            ")\n"
          ]
        }
      ],
      "execution_count": 13,
      "metadata": {
        "colab": {
          "base_uri": "https://localhost:8080/"
        },
        "id": "1FTa1h3_ZTJy",
        "outputId": "52ca92fd-13b6-457a-f40a-73d2508fb629"
      }
    },
    {
      "cell_type": "markdown",
      "source": [
        "#### **7. [cite\\_start]How do you define a loss function and optimizer in PyTorch?** [cite: 68]\n",
        "\n",
        "You instantiate them from the `torch.nn` and `torch.optim` modules, respectively."
      ],
      "metadata": {
        "id": "C5mrgTjeZTJz"
      }
    },
    {
      "cell_type": "code",
      "source": [
        "import torch\n",
        "import torch.nn as nn\n",
        "import torch.optim as optim\n",
        "\n",
        "# Assume 'model' is an instance of your neural network class (e.g., SimpleNet)\n",
        "# model = SimpleNet()\n",
        "\n",
        "# --- Dummy model for demonstration ---\n",
        "model = nn.Sequential(nn.Linear(10, 5), nn.ReLU(), nn.Linear(5, 1))\n",
        "# ------------------------------------\n",
        "\n",
        "# 1. Define the loss function (e.g., Cross-Entropy for classification)\n",
        "criterion = nn.CrossEntropyLoss()\n",
        "\n",
        "# Or Mean Squared Error for regression\n",
        "# criterion = nn.MSELoss()\n",
        "\n",
        "# 2. Define the optimizer (e.g., Adam)\n",
        "# You pass the model's parameters and a learning rate\n",
        "optimizer = optim.Adam(model.parameters(), lr=0.001)\n",
        "\n",
        "print(\"Loss Function:\", criterion)\n",
        "print(\"Optimizer:\", optimizer)"
      ],
      "outputs": [
        {
          "output_type": "stream",
          "name": "stdout",
          "text": [
            "Loss Function: CrossEntropyLoss()\n",
            "Optimizer: Adam (\n",
            "Parameter Group 0\n",
            "    amsgrad: False\n",
            "    betas: (0.9, 0.999)\n",
            "    capturable: False\n",
            "    decoupled_weight_decay: False\n",
            "    differentiable: False\n",
            "    eps: 1e-08\n",
            "    foreach: None\n",
            "    fused: None\n",
            "    lr: 0.001\n",
            "    maximize: False\n",
            "    weight_decay: 0\n",
            ")\n"
          ]
        }
      ],
      "execution_count": 2,
      "metadata": {
        "colab": {
          "base_uri": "https://localhost:8080/"
        },
        "id": "e86pN-IEZTJz",
        "outputId": "623f8488-4462-431d-b65b-f7d666360410"
      }
    },
    {
      "cell_type": "markdown",
      "source": [
        "#### **8. [cite\\_start]How do you implement a custom loss function in PyTorch?** [cite: 69]\n",
        "\n",
        "You can create a custom loss function by defining a Python function that takes predictions and true labels as input and returns a scalar loss value."
      ],
      "metadata": {
        "id": "6iCqIryYZTJz"
      }
    },
    {
      "cell_type": "code",
      "source": [
        "import torch\n",
        "import torch.nn as nn\n",
        "\n",
        "def custom_mae_loss(y_pred, y_true):\n",
        "  \"\"\"Custom Mean Absolute Error loss function.\"\"\"\n",
        "  # Calculate the absolute difference\n",
        "  abs_diff = torch.abs(y_pred - y_true)\n",
        "  # Return the mean of the differences\n",
        "  return torch.mean(abs_diff)\n",
        "\n",
        "# --- Example Usage ---\n",
        "# Dummy predictions and true labels\n",
        "predictions = torch.randn(10, 1, requires_grad=True)\n",
        "targets = torch.randn(10, 1)\n",
        "\n",
        "# Calculate loss using the custom function\n",
        "loss = custom_mae_loss(predictions, targets)\n",
        "print(f\"Custom MAE Loss: {loss.item()}\")\n",
        "\n",
        "# You can also create a class-based loss\n",
        "class MyCustomLoss(nn.Module):\n",
        "    def __init__(self):\n",
        "        super().__init__()\n",
        "\n",
        "    def forward(self, y_pred, y_true):\n",
        "        return torch.mean(torch.abs(y_pred - y_true))\n",
        "\n",
        "criterion = MyCustomLoss()\n",
        "loss_class_based = criterion(predictions, targets)\n",
        "print(f\"Class-based Custom MAE Loss: {loss_class_based.item()}\")"
      ],
      "outputs": [
        {
          "output_type": "stream",
          "name": "stdout",
          "text": [
            "Custom MAE Loss: 1.0199053287506104\n",
            "Class-based Custom MAE Loss: 1.0199053287506104\n"
          ]
        }
      ],
      "execution_count": 3,
      "metadata": {
        "colab": {
          "base_uri": "https://localhost:8080/"
        },
        "id": "dqcD8xeBZTJz",
        "outputId": "26f78aa8-6db6-471a-b7b4-4f15b5067d43"
      }
    },
    {
      "cell_type": "markdown",
      "source": [
        "#### **9. [cite\\_start]How do you save and load a TensorFlow model?** [cite: 70]\n",
        "\n",
        "You can save the entire model (architecture, weights, and optimizer state) using `model.save()`. You can then load it back using `keras.models.load_model()`."
      ],
      "metadata": {
        "id": "7mIS5344ZTJz"
      }
    },
    {
      "cell_type": "code",
      "source": [
        "import tensorflow as tf\n",
        "from tensorflow import keras\n",
        "import numpy as np\n",
        "\n",
        "# 1. Create and train a simple model\n",
        "model = keras.Sequential([keras.layers.Dense(1, input_shape=[1])])\n",
        "model.compile(optimizer='sgd', loss='mean_squared_error')\n",
        "model.fit(np.array([1, 2]), np.array([1, 2]), epochs=1, verbose=0)\n",
        "\n",
        "# 2. Save the model\n",
        "# The '.h5' extension saves it in the HDF5 format.\n",
        "model.save('my_simple_model.h5')\n",
        "print(\"Model saved to my_simple_model.h5\")\n",
        "\n",
        "# 3. Load the model from the file\n",
        "loaded_model = keras.models.load_model('my_simple_model.h5')\n",
        "print(\"\\nModel loaded successfully!\")\n",
        "\n",
        "# Verify the loaded model\n",
        "print(\"\\nPrediction using loaded model for input [3.0]:\")\n",
        "print(loaded_model.predict(np.array([3.0])))"
      ],
      "outputs": [
        {
          "output_type": "stream",
          "name": "stderr",
          "text": [
            "/usr/local/lib/python3.12/dist-packages/keras/src/layers/core/dense.py:93: UserWarning: Do not pass an `input_shape`/`input_dim` argument to a layer. When using Sequential models, prefer using an `Input(shape)` object as the first layer in the model instead.\n",
            "  super().__init__(activity_regularizer=activity_regularizer, **kwargs)\n",
            "WARNING:absl:You are saving your model as an HDF5 file via `model.save()` or `keras.saving.save_model(model)`. This file format is considered legacy. We recommend using instead the native Keras format, e.g. `model.save('my_model.keras')` or `keras.saving.save_model(model, 'my_model.keras')`. \n",
            "WARNING:absl:Compiled the loaded model, but the compiled metrics have yet to be built. `model.compile_metrics` will be empty until you train or evaluate the model.\n"
          ]
        },
        {
          "output_type": "stream",
          "name": "stdout",
          "text": [
            "Model saved to my_simple_model.h5\n",
            "\n",
            "Model loaded successfully!\n",
            "\n",
            "Prediction using loaded model for input [3.0]:\n",
            "\u001b[1m1/1\u001b[0m \u001b[32m━━━━━━━━━━━━━━━━━━━━\u001b[0m\u001b[37m\u001b[0m \u001b[1m0s\u001b[0m 56ms/step\n",
            "[[0.6387143]]\n"
          ]
        }
      ],
      "execution_count": 4,
      "metadata": {
        "colab": {
          "base_uri": "https://localhost:8080/"
        },
        "id": "7bAbVa8xZTJz",
        "outputId": "da088086-32ff-41ab-f1b6-3e508b4295b0"
      }
    }
  ],
  "metadata": {
    "colab": {
      "provenance": []
    },
    "kernelspec": {
      "display_name": "Python 3",
      "name": "python3"
    }
  },
  "nbformat": 4,
  "nbformat_minor": 0
}