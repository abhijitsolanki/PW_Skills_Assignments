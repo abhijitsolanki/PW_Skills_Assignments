{
 "cells": [
  {
   "cell_type": "markdown",
   "id": "6af9cb29-15f7-4a4c-b676-bc4959d163fc",
   "metadata": {},
   "source": [
    "# 1. Discuss string slicing and provide examples"
   ]
  },
  {
   "cell_type": "markdown",
   "id": "20ae403c-abe6-4529-a594-b50ec6d20fc0",
   "metadata": {},
   "source": [
    "Description : Character arranged in an unchangeble order . Consider writting a sentence , a paeagraph ,or a piece of material ."
   ]
  },
  {
   "cell_type": "markdown",
   "id": "ba827f3e-2676-4f5c-9b8f-c029140804ac",
   "metadata": {},
   "source": [
    "Operations : Each character in the string can be accessed by its index ,or postion .substrings can be extracted using a \n",
    "variety of techniques(find ,replace,len,lower,upper,swapcase,.title,.capitalize,.strip,.format,.startswith,.endswith,.isalnum ) etc"
   ]
  },
  {
   "cell_type": "code",
   "execution_count": 13,
   "id": "0fd06554-e9e2-4d09-9bcc-09195e4c48dc",
   "metadata": {},
   "outputs": [
    {
     "data": {
      "text/plain": [
       "'Abhi+pwskills'"
      ]
     },
     "execution_count": 13,
     "metadata": {},
     "output_type": "execute_result"
    }
   ],
   "source": [
    "# 1. Example of string \n",
    "string1 = \"Abhi\"\n",
    "string2 = \"pwskills\"\n",
    "string3 = string1+\"+\"+string2\n",
    "string3\n"
   ]
  },
  {
   "cell_type": "code",
   "execution_count": 14,
   "id": "0c6708a5-2a3f-4f2c-b96d-2c0a2b308fe5",
   "metadata": {},
   "outputs": [
    {
     "data": {
      "text/plain": [
       "'A'"
      ]
     },
     "execution_count": 14,
     "metadata": {},
     "output_type": "execute_result"
    }
   ],
   "source": [
    "# 2. Example of string \n",
    "string1 = \"Abhi\"\n",
    "string2 = \"pwskills\"\n",
    "string3 = string1+\"+\"+string2\n",
    "string3[0] \n"
   ]
  },
  {
   "cell_type": "code",
   "execution_count": 15,
   "id": "0f3f80c9-377a-4fa9-936c-8dc8dcb6c586",
   "metadata": {},
   "outputs": [
    {
     "data": {
      "text/plain": [
       "'h+w'"
      ]
     },
     "execution_count": 15,
     "metadata": {},
     "output_type": "execute_result"
    }
   ],
   "source": [
    "# 3. Example of string \n",
    "string1 = \"Abhi\"\n",
    "string2 = \"pwskills\"\n",
    "string3 = string1+\"+\"+string2\n",
    "string3[2:7:2] \n"
   ]
  },
  {
   "cell_type": "code",
   "execution_count": 16,
   "id": "866a5ef4-096e-49cb-9c8f-a8a30c38eaab",
   "metadata": {},
   "outputs": [
    {
     "data": {
      "text/plain": [
       "13"
      ]
     },
     "execution_count": 16,
     "metadata": {},
     "output_type": "execute_result"
    }
   ],
   "source": [
    "# 4. Example of string \n",
    "string1 = \"Abhi\"\n",
    "string2 = \"pwskills\"\n",
    "string3 = string1+\"+\"+string2\n",
    "len(string3)\n"
   ]
  },
  {
   "cell_type": "code",
   "execution_count": 18,
   "id": "1719b0de-5ba1-4b71-a68f-4ab70ad9ef2d",
   "metadata": {},
   "outputs": [
    {
     "data": {
      "text/plain": [
       "'abhi+pwskills'"
      ]
     },
     "execution_count": 18,
     "metadata": {},
     "output_type": "execute_result"
    }
   ],
   "source": [
    "# 5. Example of string \n",
    "string1 = \"Abhi\"\n",
    "string2 = \"pwskills\"\n",
    "string3 = string1+\"+\"+string2\n",
    "string3.lower()\n"
   ]
  },
  {
   "cell_type": "code",
   "execution_count": 19,
   "id": "bc477f72-110a-46c9-a678-d35f7492800c",
   "metadata": {},
   "outputs": [
    {
     "data": {
      "text/plain": [
       "'ABHI+PWSKILLS'"
      ]
     },
     "execution_count": 19,
     "metadata": {},
     "output_type": "execute_result"
    }
   ],
   "source": [
    "# 6. Example of string \n",
    "string1 = \"Abhi\"\n",
    "string2 = \"pwskills\"\n",
    "string3 = string1+\"+\"+string2\n",
    "string3.upper()\n"
   ]
  },
  {
   "cell_type": "code",
   "execution_count": 21,
   "id": "603a4bcd-15bb-4232-a56b-9c44a52e4518",
   "metadata": {},
   "outputs": [
    {
     "data": {
      "text/plain": [
       "'Abhi+Pwskills'"
      ]
     },
     "execution_count": 21,
     "metadata": {},
     "output_type": "execute_result"
    }
   ],
   "source": [
    "# 7. Example of string \n",
    "string1 = \"Abhi\"\n",
    "string2 = \"pwskills\"\n",
    "string3 = string1+\"+\"+string2\n",
    "string3.title()\n",
    "\n"
   ]
  },
  {
   "cell_type": "code",
   "execution_count": 24,
   "id": "d680ee28-bdd3-46b0-8216-43214d6be23c",
   "metadata": {},
   "outputs": [
    {
     "data": {
      "text/plain": [
       "'Abhi'"
      ]
     },
     "execution_count": 24,
     "metadata": {},
     "output_type": "execute_result"
    }
   ],
   "source": [
    "# 8. Example of string \n",
    "string1 = \"   Abhi   \"\n",
    "string2 = \"pwskills\"\n",
    "string3 = string1+\"+\"+string2\n",
    "string1.strip()"
   ]
  },
  {
   "cell_type": "code",
   "execution_count": 30,
   "id": "fdd88dfd-366c-4af2-81f5-50dcd1eb2036",
   "metadata": {},
   "outputs": [
    {
     "data": {
      "text/plain": [
       "'ABHHI+pwskills'"
      ]
     },
     "execution_count": 30,
     "metadata": {},
     "output_type": "execute_result"
    }
   ],
   "source": [
    "# 9. Example of string \n",
    "string1 = \"Abhi\"\n",
    "string2 = \"pwskills\"\n",
    "string3 = string1+\"+\"+string2\n",
    "string3.replace(\"Abhi\" ,\"ABHHI\")"
   ]
  },
  {
   "cell_type": "code",
   "execution_count": 1,
   "id": "1a4b40d6-6794-41e5-a3c4-9728fa3223a7",
   "metadata": {},
   "outputs": [
    {
     "data": {
      "text/plain": [
       "['Abhi', 'pwskills']"
      ]
     },
     "execution_count": 1,
     "metadata": {},
     "output_type": "execute_result"
    }
   ],
   "source": [
    "# 10. Example of string \n",
    "string1 = \"Abhi\"\n",
    "string2 = \"pwskills\"\n",
    "string3 = string1+\"+\"+string2 \n",
    "string3.split(\"+\")\n"
   ]
  },
  {
   "cell_type": "code",
   "execution_count": 2,
   "id": "5ab34971-14eb-4878-8a67-d516cc47f84f",
   "metadata": {},
   "outputs": [
    {
     "data": {
      "text/plain": [
       "'Abhi is studend of pwskills so it Abhi+pwskills .'"
      ]
     },
     "execution_count": 2,
     "metadata": {},
     "output_type": "execute_result"
    }
   ],
   "source": [
    "# 11. Example of string \n",
    "string1 = \"Abhi\"\n",
    "string2 = \"pwskills\"\n",
    "string3 = string1+\"+\"+string2 \n",
    "f\"{string1} is studend of {string2} so it {string3} .\"\n"
   ]
  },
  {
   "cell_type": "code",
   "execution_count": 3,
   "id": "09d3d1ce-bbb0-436f-be70-56a883f680b6",
   "metadata": {},
   "outputs": [
    {
     "data": {
      "text/plain": [
       "True"
      ]
     },
     "execution_count": 3,
     "metadata": {},
     "output_type": "execute_result"
    }
   ],
   "source": [
    "# 11. Example of string \n",
    "string1 = \"Abhi\"\n",
    "string2 = \"pwskills\"\n",
    "string3 = string1+\"+\"+string2 \n",
    "string3.startswith(\"Ab\")"
   ]
  },
  {
   "cell_type": "code",
   "execution_count": 4,
   "id": "3a24d7e2-eb30-4c9b-9d34-1bf4823dfe46",
   "metadata": {},
   "outputs": [
    {
     "data": {
      "text/plain": [
       "True"
      ]
     },
     "execution_count": 4,
     "metadata": {},
     "output_type": "execute_result"
    }
   ],
   "source": [
    "# 11. Example of string \n",
    "string1 = \"Abhi\"\n",
    "string2 = \"pwskills\"\n",
    "string3 = string1+\"+\"+string2 \n",
    "string3.endswith(\"lls\")"
   ]
  },
  {
   "cell_type": "markdown",
   "id": "98a3f7b3-6ab4-4449-bd14-c624d56ba54d",
   "metadata": {},
   "source": [
    "# Most of the example of string are mention above (Q no-1)"
   ]
  },
  {
   "cell_type": "markdown",
   "id": "571cdd86-a667-48dd-8675-d1d8dbdc4537",
   "metadata": {},
   "source": [
    "# Explain the key features of lists in python ."
   ]
  },
  {
   "cell_type": "markdown",
   "id": "df65f188-7d99-4453-9a97-9b8ffbd9fab6",
   "metadata": {},
   "source": [
    "Lists in Python are a fundamental data structure used to store a collection of items, which can be of varying types (such as integers, strings, or even other lists). Here are the key features of lists in Python:\n",
    "\n",
    "1 Mutable: Lists are mutable, meaning their elements can be changed after they are created. You can modify, add, or remove elements from a list.\n",
    "\n",
    "2 Ordered: Lists maintain the order of elements as they are inserted. The order of items in a list is preserved unless explicitly changed.\n",
    "\n",
    "3 Indexed: Elements in a list are accessed using a zero-based index. You can retrieve individual elements by their position in the list.\n",
    "\n",
    "4 Heterogeneous Elements: Lists can contain elements of different data types. For example, a single list can contain integers, strings, and other lists.\n",
    "\n",
    "5 Dynamic: Lists in Python are dynamic arrays, meaning they automatically resize when elements are added or removed. There's no need to specify the size beforehand.\n",
    "\n",
    "6 Iterable: Lists are iterable, so you can iterate over all elements in a list using a loop or comprehension.\n",
    "\n",
    "7 Common Operations: Lists support common operations such as appending (append()), extending (extend()), inserting (insert()), deleting (del or remove()), and slicing (list[start:end]) to create sublists."
   ]
  },
  {
   "cell_type": "code",
   "execution_count": 6,
   "id": "6a573f85-4bab-45b2-8c71-bd662ba320a3",
   "metadata": {},
   "outputs": [
    {
     "data": {
      "text/plain": [
       "list"
      ]
     },
     "execution_count": 6,
     "metadata": {},
     "output_type": "execute_result"
    }
   ],
   "source": [
    "# Some example of lists are below \n",
    "\n",
    "# 1. Example of lists \n",
    "type([])"
   ]
  },
  {
   "cell_type": "code",
   "execution_count": 7,
   "id": "4e6511c5-5d65-48fd-9184-de3e6383279d",
   "metadata": {},
   "outputs": [
    {
     "name": "stdout",
     "output_type": "stream",
     "text": [
      "Vegetable Grocery List:\n",
      "- carrots\n",
      "- broccoli\n",
      "- spinach\n",
      "- tomatoes\n",
      "- bell peppers\n"
     ]
    }
   ],
   "source": [
    "# 2. Example of lists \n",
    "# Creating a grocery list of vegetables\n",
    "vegetables = ['carrots', 'broccoli', 'spinach', 'tomatoes', 'bell peppers']\n",
    "\n",
    "# Displaying the list\n",
    "print(\"Vegetable Grocery List:\")\n",
    "for veg in vegetables:\n",
    "    print(\"- \" + veg)\n"
   ]
  },
  {
   "cell_type": "code",
   "execution_count": 8,
   "id": "ed53df0a-07f6-47b8-9597-6ff796140a77",
   "metadata": {},
   "outputs": [
    {
     "data": {
      "text/plain": [
       "list"
      ]
     },
     "execution_count": 8,
     "metadata": {},
     "output_type": "execute_result"
    }
   ],
   "source": [
    "# 3. Example of lists \n",
    "# Creating a grocery list of vegetables\n",
    "vegetables = ['carrots', 'broccoli', 'spinach', 'tomatoes', 'bell peppers']\n",
    "type(vegetables)\n"
   ]
  },
  {
   "cell_type": "code",
   "execution_count": 9,
   "id": "73966f8f-6790-48c3-8701-64f70464ccf4",
   "metadata": {},
   "outputs": [
    {
     "data": {
      "text/plain": [
       "['spinach', 'tomatoes', 'bell peppers']"
      ]
     },
     "execution_count": 9,
     "metadata": {},
     "output_type": "execute_result"
    }
   ],
   "source": [
    "# 4. Example of lists \n",
    "# Creating a grocery list of vegetables\n",
    "vegetables = ['carrots', 'broccoli', 'spinach', 'tomatoes', 'bell peppers']\n",
    "vegetables[2:]"
   ]
  },
  {
   "cell_type": "code",
   "execution_count": 10,
   "id": "06032e4c-7c15-479e-bc63-f609db82196c",
   "metadata": {},
   "outputs": [
    {
     "data": {
      "text/plain": [
       "['carrots', 'broccoli', 'spinach']"
      ]
     },
     "execution_count": 10,
     "metadata": {},
     "output_type": "execute_result"
    }
   ],
   "source": [
    "# 5. Example of lists \n",
    "# Creating a grocery list of vegetables\n",
    "vegetables = ['carrots', 'broccoli', 'spinach', 'tomatoes', 'bell peppers']\n",
    "vegetables[:-2]"
   ]
  },
  {
   "cell_type": "code",
   "execution_count": 11,
   "id": "91ac1328-544c-4f74-9043-962c668d3137",
   "metadata": {},
   "outputs": [
    {
     "data": {
      "text/plain": [
       "'tomatoes'"
      ]
     },
     "execution_count": 11,
     "metadata": {},
     "output_type": "execute_result"
    }
   ],
   "source": [
    "# 6. Example of lists \n",
    "# Creating a grocery list of vegetables\n",
    "vegetables = ['carrots', 'broccoli', 'spinach', 'tomatoes', 'bell peppers']\n",
    "vegetables[-2]"
   ]
  },
  {
   "cell_type": "code",
   "execution_count": 13,
   "id": "e2a05cb7-a273-49e4-ae59-5eb67d707f90",
   "metadata": {},
   "outputs": [
    {
     "data": {
      "text/plain": [
       "['carrots', 'broccoli', 'spinach', 'tomatoes', 'bell peppers', 'Apple']"
      ]
     },
     "execution_count": 13,
     "metadata": {},
     "output_type": "execute_result"
    }
   ],
   "source": [
    "# 7. Example of lists \n",
    "# Creating a grocery list of vegetables\n",
    "vegetables = ['carrots', 'broccoli', 'spinach', 'tomatoes', 'bell peppers']\n",
    "vegetables.append(\"Apple\")\n",
    "vegetables"
   ]
  },
  {
   "cell_type": "code",
   "execution_count": 18,
   "id": "390de311-3dbf-4a2b-b5d3-cc74b37659f3",
   "metadata": {},
   "outputs": [],
   "source": [
    "# 8. Example of lists \n",
    "# Creating a grocery list of vegetables\n",
    "vegetables = ['carrots', 'broccoli', 'spinach', 'tomatoes', 'bell peppers']\n",
    "vegetables.remove(\"carrots\")"
   ]
  },
  {
   "cell_type": "code",
   "execution_count": 14,
   "id": "f56956d4-7cde-4b6c-8d96-90d81a8a872c",
   "metadata": {},
   "outputs": [
    {
     "data": {
      "text/plain": [
       "['Mango', 'broccoli', 'spinach', 'tomatoes', 'bell peppers']"
      ]
     },
     "execution_count": 14,
     "metadata": {},
     "output_type": "execute_result"
    }
   ],
   "source": [
    "# 9. Example of lists \n",
    "# Creating a grocery list of vegetables\n",
    "vegetables = ['carrots', 'broccoli', 'spinach', 'tomatoes', 'bell peppers']\n",
    "vegetables[0] = \"Mango\"\n",
    "vegetables"
   ]
  },
  {
   "cell_type": "code",
   "execution_count": 20,
   "id": "56e65f2c-9e6b-4f61-9b8c-698ef05008b1",
   "metadata": {},
   "outputs": [
    {
     "data": {
      "text/plain": [
       "['carrots', 'broccoli', 'Potato', 'spinach', 'tomatoes', 'bell peppers']"
      ]
     },
     "execution_count": 20,
     "metadata": {},
     "output_type": "execute_result"
    }
   ],
   "source": [
    "# 10. Example of lists \n",
    "# Creating a grocery list of vegetables\n",
    "vegetables = ['carrots', 'broccoli', 'spinach', 'tomatoes', 'bell peppers']\n",
    "vegetables.insert(2,\"Potato\")\n",
    "vegetables"
   ]
  },
  {
   "cell_type": "code",
   "execution_count": 24,
   "id": "fc873fb5-e96e-4b7a-8902-b1bd629caa78",
   "metadata": {},
   "outputs": [
    {
     "data": {
      "text/plain": [
       "['carrots',\n",
       " 'broccoli',\n",
       " 'spinach',\n",
       " 'tomatoes',\n",
       " 'bell peppers',\n",
       " 'brinjal',\n",
       " 'Orange']"
      ]
     },
     "execution_count": 24,
     "metadata": {},
     "output_type": "execute_result"
    }
   ],
   "source": [
    "# 12. Example of lists \n",
    "# Creating a grocery list of vegetables\n",
    "vegetables = ['carrots', 'broccoli', 'spinach', 'tomatoes', 'bell peppers']\n",
    "brothers_list = [\"brinjal\",\"Orange\"]\n",
    "vegetables.extend(brothers_list)\n",
    "vegetables"
   ]
  },
  {
   "cell_type": "code",
   "execution_count": 26,
   "id": "b6e255a5-fa47-4e8a-86d6-bef2d94032d9",
   "metadata": {},
   "outputs": [
    {
     "data": {
      "text/plain": [
       "True"
      ]
     },
     "execution_count": 26,
     "metadata": {},
     "output_type": "execute_result"
    }
   ],
   "source": [
    "# 13. Example of lists \n",
    "# Creating a grocery list of vegetables\n",
    "vegetables = ['carrots', 'broccoli', 'spinach', 'tomatoes', 'bell peppers']\n",
    "\"carrots\" in vegetables"
   ]
  },
  {
   "cell_type": "code",
   "execution_count": 27,
   "id": "5883e74f-578f-4bc5-b53e-fd70e0720d4b",
   "metadata": {},
   "outputs": [
    {
     "data": {
      "text/plain": [
       "['carrots', 'broccoli', 'spinach', 'tomatoes', 'bell peppers']"
      ]
     },
     "execution_count": 27,
     "metadata": {},
     "output_type": "execute_result"
    }
   ],
   "source": [
    "# 14. Example of lists \n",
    "# Creating a grocery list of vegetables\n",
    "vegetables = ['carrots', 'broccoli', 'spinach', 'tomatoes', 'bell peppers']\n",
    "vegetables.copy()"
   ]
  },
  {
   "cell_type": "code",
   "execution_count": 29,
   "id": "f0faeb78-019d-4c5e-a272-3611766c2821",
   "metadata": {},
   "outputs": [
    {
     "data": {
      "text/plain": [
       "['bell peppers', 'broccoli', 'carrots', 'spinach', 'tomatoes']"
      ]
     },
     "execution_count": 29,
     "metadata": {},
     "output_type": "execute_result"
    }
   ],
   "source": [
    "# 15. Example of lists \n",
    "# Creating a grocery list of vegetables\n",
    "vegetables = ['carrots', 'broccoli', 'spinach', 'tomatoes', 'bell peppers']\n",
    "sorted(vegetables)"
   ]
  },
  {
   "cell_type": "code",
   "execution_count": 30,
   "id": "58840e24-af2b-43fe-acb1-b6d82017702b",
   "metadata": {},
   "outputs": [
    {
     "data": {
      "text/plain": [
       "5"
      ]
     },
     "execution_count": 30,
     "metadata": {},
     "output_type": "execute_result"
    }
   ],
   "source": [
    "# 16. Example of lists \n",
    "# Creating a grocery list of vegetables\n",
    "vegetables = ['carrots', 'broccoli', 'spinach', 'tomatoes', 'bell peppers']\n",
    "len(vegetables)"
   ]
  },
  {
   "cell_type": "code",
   "execution_count": 31,
   "id": "3b598d77-5be0-40de-b0de-24b531714665",
   "metadata": {},
   "outputs": [
    {
     "data": {
      "text/plain": [
       "1"
      ]
     },
     "execution_count": 31,
     "metadata": {},
     "output_type": "execute_result"
    }
   ],
   "source": [
    "# 17. Example of lists \n",
    "# Creating a grocery list of vegetables\n",
    "vegetables = ['carrots', 'broccoli', 'spinach', 'tomatoes', 'bell peppers']\n",
    "vegetables.count(\"tomatoes\")"
   ]
  },
  {
   "cell_type": "code",
   "execution_count": 33,
   "id": "9c6a4f2d-1a03-4846-a3e5-36050d75b479",
   "metadata": {},
   "outputs": [
    {
     "data": {
      "text/plain": [
       "[]"
      ]
     },
     "execution_count": 33,
     "metadata": {},
     "output_type": "execute_result"
    }
   ],
   "source": [
    "# 18. Example of lists \n",
    "# Creating a grocery list of vegetables\n",
    "vegetables = ['carrots', 'broccoli', 'spinach', 'tomatoes', 'bell peppers']\n",
    "vegetables.clear()\n",
    "vegetables"
   ]
  },
  {
   "cell_type": "code",
   "execution_count": 35,
   "id": "31774357-3e52-4c5d-8c14-147ad65bcea8",
   "metadata": {},
   "outputs": [
    {
     "data": {
      "text/plain": [
       "'bell peppers'"
      ]
     },
     "execution_count": 35,
     "metadata": {},
     "output_type": "execute_result"
    }
   ],
   "source": [
    "# 19. Example of lists \n",
    "# Creating a grocery list of vegetables\n",
    "vegetables = ['carrots', 'broccoli', 'spinach', 'tomatoes', 'bell peppers']\n",
    "vegetables.pop()"
   ]
  },
  {
   "cell_type": "code",
   "execution_count": 36,
   "id": "1da51ba7-66f8-4c15-a13b-40ca3ebf9b9e",
   "metadata": {},
   "outputs": [
    {
     "data": {
      "text/plain": [
       "[[1, 4], [1, 5], [1, 6], [2, 4], [2, 5], [2, 6], [3, 4], [3, 5], [3, 6]]"
      ]
     },
     "execution_count": 36,
     "metadata": {},
     "output_type": "execute_result"
    }
   ],
   "source": [
    "pairs = []\n",
    "for x in [1 ,2,3]:\n",
    "    for y in [4,5,6]:\n",
    "        pairs.append([x,y])\n",
    "pairs"
   ]
  },
  {
   "cell_type": "markdown",
   "id": "19137964-b42c-46e9-b632-faca7c624506",
   "metadata": {},
   "source": [
    "# Most of the example of lists are mention above (Q no-2)"
   ]
  },
  {
   "cell_type": "markdown",
   "id": "e553510b-c5ac-4824-9649-801afbbeb9a8",
   "metadata": {},
   "source": [
    "# Describe how to access , modify , and delete elements in a list with examples ."
   ]
  },
  {
   "cell_type": "raw",
   "id": "0c45fc6f-f965-461d-8812-12cd23104049",
   "metadata": {},
   "source": [
    "1. Accessing Elements\n",
    "You can access elements in a list using their index. Python lists are zero-indexed,\n",
    "meaning the first element has an index of 0,the second element has an index of 1, and so on .\n",
    "\n",
    "2.Modifying Elements\n",
    "Lists in Python are mutable, so you can change the value of elements using their index .\n",
    "\n",
    "3.Deleting Elements\n",
    "You can delete elements from a list using the del keyword or the remove() method. \n",
    "\n",
    "Notes:\n",
    "If you attempt to access an index that doesn't exist in the list, Python will raise an IndexError.\n",
    "If you use remove() and the element does not exist in the list, Python will raise a ValueError."
   ]
  },
  {
   "cell_type": "code",
   "execution_count": 38,
   "id": "f1a8573b-8ce0-48d8-826a-e03213bf0560",
   "metadata": {},
   "outputs": [],
   "source": [
    "# Example of access , modify and delete of list "
   ]
  },
  {
   "cell_type": "code",
   "execution_count": 39,
   "id": "76f52a1d-9714-4d8b-a46b-a8e23748a65a",
   "metadata": {},
   "outputs": [
    {
     "data": {
      "text/plain": [
       "'carrots'"
      ]
     },
     "execution_count": 39,
     "metadata": {},
     "output_type": "execute_result"
    }
   ],
   "source": [
    "# 1. Example of lists \n",
    "# Creating a grocery list of vegetables\n",
    "vegetables = ['carrots', 'broccoli', 'spinach', 'tomatoes', 'bell peppers']\n",
    "vegetables[0] \n"
   ]
  },
  {
   "cell_type": "code",
   "execution_count": 40,
   "id": "d9315a3f-230f-41b6-839a-9bd8456c5d2f",
   "metadata": {},
   "outputs": [
    {
     "data": {
      "text/plain": [
       "['Mango', 'broccoli', 'spinach', 'tomatoes', 'bell peppers']"
      ]
     },
     "execution_count": 40,
     "metadata": {},
     "output_type": "execute_result"
    }
   ],
   "source": [
    "# 2. Example of lists \n",
    "# Creating a grocery list of vegetables\n",
    "vegetables = ['carrots', 'broccoli', 'spinach', 'tomatoes', 'bell peppers']\n",
    "vegetables[0] = \"Mango\"\n",
    "vegetables"
   ]
  },
  {
   "cell_type": "code",
   "execution_count": 43,
   "id": "715d7bd2-871c-4013-b4c5-8fe582735a8e",
   "metadata": {},
   "outputs": [
    {
     "ename": "IndentationError",
     "evalue": "unexpected indent (1644495347.py, line 5)",
     "output_type": "error",
     "traceback": [
      "\u001b[0;36m  Cell \u001b[0;32mIn[43], line 5\u001b[0;36m\u001b[0m\n\u001b[0;31m    vegetables\u001b[0m\n\u001b[0m    ^\u001b[0m\n\u001b[0;31mIndentationError\u001b[0m\u001b[0;31m:\u001b[0m unexpected indent\n"
     ]
    }
   ],
   "source": [
    "# 3. Example of lists \n",
    "# Creating a grocery list of vegetables\n",
    "vegetables = ['carrots', 'broccoli', 'spinach', 'tomatoes', 'bell peppers']\n",
    "del vegetables \n",
    "    vegetables"
   ]
  },
  {
   "cell_type": "code",
   "execution_count": 44,
   "id": "b000ecb4-7f74-4b0e-a75d-e0d2debe7efc",
   "metadata": {},
   "outputs": [
    {
     "data": {
      "text/plain": [
       "[]"
      ]
     },
     "execution_count": 44,
     "metadata": {},
     "output_type": "execute_result"
    }
   ],
   "source": [
    "# 4. Example of lists \n",
    "# Creating a grocery list of vegetables\n",
    "vegetables = ['carrots', 'broccoli', 'spinach', 'tomatoes', 'bell peppers']\n",
    "vegetables.clear()\n",
    "vegetables"
   ]
  },
  {
   "cell_type": "code",
   "execution_count": 45,
   "id": "9640123b-6936-4821-9d81-c15d8f38707e",
   "metadata": {},
   "outputs": [
    {
     "data": {
      "text/plain": [
       "['carrots', 'broccoli', 'spinach', 'tomatoes', 'bell peppers', 'Apple']"
      ]
     },
     "execution_count": 45,
     "metadata": {},
     "output_type": "execute_result"
    }
   ],
   "source": [
    "# 5. Example of lists \n",
    "# Creating a grocery list of vegetables\n",
    "vegetables = ['carrots', 'broccoli', 'spinach', 'tomatoes', 'bell peppers']\n",
    "vegetables.append(\"Apple\")\n",
    "vegetables"
   ]
  },
  {
   "cell_type": "code",
   "execution_count": 47,
   "id": "83419e45-a7b0-47bc-a9b5-4b54cf65df16",
   "metadata": {},
   "outputs": [
    {
     "data": {
      "text/plain": [
       "['broccoli', 'spinach', 'tomatoes', 'bell peppers']"
      ]
     },
     "execution_count": 47,
     "metadata": {},
     "output_type": "execute_result"
    }
   ],
   "source": [
    "# 6. Example of lists \n",
    "# Creating a grocery list of vegetables\n",
    "vegetables = ['carrots', 'broccoli', 'spinach', 'tomatoes', 'bell peppers']\n",
    "vegetables.remove(\"carrots\")\n",
    "vegetables"
   ]
  },
  {
   "cell_type": "markdown",
   "id": "a47df63e-5898-4df6-a77c-389864a5b0ea",
   "metadata": {},
   "source": [
    " # Most of the example of lists are mention above (Q no-3)"
   ]
  },
  {
   "cell_type": "markdown",
   "id": "1fafb2ed-94c1-426f-a936-e87177b2fc47",
   "metadata": {},
   "source": [
    "# compare and contrast tuples and lists with examples ."
   ]
  },
  {
   "cell_type": "raw",
   "id": "c1cd01d9-5e08-4c8c-b787-8577364deb65",
   "metadata": {},
   "source": [
    "Tuples and lists are both data structures in Python used to store collections of items,\n",
    "but they have several key differences in terms of mutability, syntax, and intended usage.\n",
    "Here’s a comparison followed by examples illustrating these points: \n",
    "    \n",
    "Tuples:\n",
    "Immutable: Tuples are immutable, meaning once they are created, you cannot change, add, or remove elements.\n",
    "You can only create a new tuple or use existing tuples.\n",
    "\n",
    "Syntax: Tuples are defined using parentheses () and elements are separated by commas ,.\n",
    "\n",
    "Intended Use: Tuples are typically used for heterogeneous data types and for cases where immutability\n",
    "is desired (e.g., coordinates, database records).\n",
    "\n",
    "Lists:\n",
    "Mutable: Lists are mutable, allowing you to modify, add, or remove elements after creation.\n",
    "\n",
    "Syntax: Lists are defined using square brackets [] and elements are separated by commas ,.\n",
    "\n",
    "Intended Use: Lists are used for homogeneous data types or when you need a mutable sequence of elements.\n",
    "\n",
    "Comparison:\n",
    "Mutability: Lists are mutable (can be changed), while tuples are immutable (cannot be changed).\n",
    "\n",
    "Syntax: Lists use square brackets [], tuples use parentheses ().\n",
    "\n",
    "Performance: Tuples are generally faster and consume less memory than lists because of their immutability.\n",
    "\n",
    "Use Cases: Tuples are suitable for fixed data that doesn’t change, like coordinates, database records, or function arguments.\n",
    "Lists are suitable when you need a collection that can be modified, such as a list of tasks or user inputs."
   ]
  },
  {
   "cell_type": "code",
   "execution_count": 14,
   "id": "e304602d-60c7-4ddb-8383-f26ffe025839",
   "metadata": {},
   "outputs": [
    {
     "data": {
      "text/plain": [
       "tuple"
      ]
     },
     "execution_count": 14,
     "metadata": {},
     "output_type": "execute_result"
    }
   ],
   "source": [
    "# 1. Example of tuples\n",
    "t = ()\n",
    "type(t)"
   ]
  },
  {
   "cell_type": "code",
   "execution_count": 4,
   "id": "f81e68ad-9a4c-4173-bde7-196002145133",
   "metadata": {},
   "outputs": [
    {
     "data": {
      "text/plain": [
       "'Abhi'"
      ]
     },
     "execution_count": 4,
     "metadata": {},
     "output_type": "execute_result"
    }
   ],
   "source": [
    "# 2. Example of tuples \n",
    "t = (\"Abhi\",1,2.2,1,1,2,2,3,True,\"pwskills\")\n",
    "t[0]"
   ]
  },
  {
   "cell_type": "code",
   "execution_count": 5,
   "id": "592dc234-4f16-45f0-bf32-b9cf26441846",
   "metadata": {},
   "outputs": [
    {
     "data": {
      "text/plain": [
       "4"
      ]
     },
     "execution_count": 5,
     "metadata": {},
     "output_type": "execute_result"
    }
   ],
   "source": [
    "# 3. Example of tuples \n",
    "t = (\"Abhi\",1,2.2,1,1,2,2,3,True,\"pwskills\")\n",
    "t.count(1)"
   ]
  },
  {
   "cell_type": "code",
   "execution_count": 7,
   "id": "1fe5b693-f6d3-410f-a4e3-04420eb53446",
   "metadata": {},
   "outputs": [
    {
     "data": {
      "text/plain": [
       "1"
      ]
     },
     "execution_count": 7,
     "metadata": {},
     "output_type": "execute_result"
    }
   ],
   "source": [
    "# 4. Example of tuples \n",
    "t = (\"Abhi\",1,2.2,1,1,2,2,3,True,\"pwskills\")\n",
    "t.index(1)"
   ]
  },
  {
   "cell_type": "code",
   "execution_count": 8,
   "id": "2dd49ba8-cae6-4bcb-a964-77bbfb9f1182",
   "metadata": {},
   "outputs": [
    {
     "data": {
      "text/plain": [
       "('Abhi', 1, 2.2, 1)"
      ]
     },
     "execution_count": 8,
     "metadata": {},
     "output_type": "execute_result"
    }
   ],
   "source": [
    "# 5. Example of tuples \n",
    "t = (\"Abhi\",1,2.2,1,1,2,2,3,True,\"pwskills\")\n",
    "t[0:4]"
   ]
  },
  {
   "cell_type": "code",
   "execution_count": 9,
   "id": "5cb680f4-2c0a-44d4-93d8-5ec5247b2565",
   "metadata": {},
   "outputs": [
    {
     "data": {
      "text/plain": [
       "('pwskills', True, 3, 2, 2, 1, 1, 2.2, 1, 'Abhi')"
      ]
     },
     "execution_count": 9,
     "metadata": {},
     "output_type": "execute_result"
    }
   ],
   "source": [
    "# 6. Example of tuples \n",
    "t = (\"Abhi\",1,2.2,1,1,2,2,3,True,\"pwskills\")\n",
    "t[::-1]"
   ]
  },
  {
   "cell_type": "code",
   "execution_count": 12,
   "id": "f797ad90-8a4f-4f95-ab30-6ec980c9c268",
   "metadata": {},
   "outputs": [
    {
     "data": {
      "text/plain": [
       "True"
      ]
     },
     "execution_count": 12,
     "metadata": {},
     "output_type": "execute_result"
    }
   ],
   "source": [
    "# 7. Example of tuples \n",
    "t = (\"Abhi\",1,2.2,1,1,2,2,3,True,\"pwskills\")\n",
    "\"Abhi\"  in t"
   ]
  },
  {
   "cell_type": "code",
   "execution_count": 13,
   "id": "37e8ee50-8042-420f-a9f7-f562b1ed1ea8",
   "metadata": {},
   "outputs": [
    {
     "data": {
      "text/plain": [
       "('Abhi', 1, 2.2, 1, 1, 2, 2, 3, True, 'pwskills', 'Why', 1, 2, 3, 4, 'my')"
      ]
     },
     "execution_count": 13,
     "metadata": {},
     "output_type": "execute_result"
    }
   ],
   "source": [
    "# 8. Example of tuples \n",
    "t = (\"Abhi\",1,2.2,1,1,2,2,3,True,\"pwskills\")\n",
    "q = (\"Why\",1,2,3,4,\"my\")\n",
    "t+q"
   ]
  },
  {
   "cell_type": "code",
   "execution_count": 15,
   "id": "31aab2d5-f7a8-4380-90db-099bde19bf3c",
   "metadata": {},
   "outputs": [
    {
     "data": {
      "text/plain": [
       "list"
      ]
     },
     "execution_count": 15,
     "metadata": {},
     "output_type": "execute_result"
    }
   ],
   "source": [
    "# Some example of lists are below \n",
    "\n",
    "# 1. Example of lists \n",
    "type([])\n"
   ]
  },
  {
   "cell_type": "code",
   "execution_count": 16,
   "id": "3fce84a9-61c2-4dc5-b552-e1b6ded117c2",
   "metadata": {},
   "outputs": [
    {
     "name": "stdout",
     "output_type": "stream",
     "text": [
      "Vegetable Grocery List:\n",
      "- carrots\n",
      "- broccoli\n",
      "- spinach\n",
      "- tomatoes\n",
      "- bell peppers\n"
     ]
    }
   ],
   "source": [
    "# 2. Example of lists \n",
    "# Creating a grocery list of vegetables\n",
    "vegetables = ['carrots', 'broccoli', 'spinach', 'tomatoes', 'bell peppers']\n",
    "\n",
    "# Displaying the list\n",
    "print(\"Vegetable Grocery List:\")\n",
    "for veg in vegetables:\n",
    "    print(\"- \" + veg)\n"
   ]
  },
  {
   "cell_type": "code",
   "execution_count": 17,
   "id": "f23bef17-7aea-436b-82da-22eb5c86e851",
   "metadata": {},
   "outputs": [
    {
     "data": {
      "text/plain": [
       "['spinach', 'tomatoes', 'bell peppers']"
      ]
     },
     "execution_count": 17,
     "metadata": {},
     "output_type": "execute_result"
    }
   ],
   "source": [
    "# 3. Example of lists \n",
    "# Creating a grocery list of vegetables\n",
    "vegetables = ['carrots', 'broccoli', 'spinach', 'tomatoes', 'bell peppers']\n",
    "vegetables[2:]"
   ]
  },
  {
   "cell_type": "code",
   "execution_count": 18,
   "id": "a3f60167-140f-44f1-a541-1f5278d4747c",
   "metadata": {},
   "outputs": [
    {
     "data": {
      "text/plain": [
       "'tomatoes'"
      ]
     },
     "execution_count": 18,
     "metadata": {},
     "output_type": "execute_result"
    }
   ],
   "source": [
    "# 4. Example of lists \n",
    "# Creating a grocery list of vegetables\n",
    "vegetables = ['carrots', 'broccoli', 'spinach', 'tomatoes', 'bell peppers']\n",
    "vegetables[-2]"
   ]
  },
  {
   "cell_type": "code",
   "execution_count": 19,
   "id": "07ea80c2-29f9-43d0-b199-c98aea92ddfd",
   "metadata": {},
   "outputs": [
    {
     "data": {
      "text/plain": [
       "['carrots', 'broccoli', 'spinach', 'tomatoes', 'bell peppers', 'Apple']"
      ]
     },
     "execution_count": 19,
     "metadata": {},
     "output_type": "execute_result"
    }
   ],
   "source": [
    "# 5. Example of lists \n",
    "# Creating a grocery list of vegetables\n",
    "vegetables = ['carrots', 'broccoli', 'spinach', 'tomatoes', 'bell peppers']\n",
    "vegetables.append(\"Apple\")\n",
    "vegetables"
   ]
  },
  {
   "cell_type": "code",
   "execution_count": 20,
   "id": "2a459fc7-61b1-4612-b545-7e1d2e826a66",
   "metadata": {},
   "outputs": [
    {
     "data": {
      "text/plain": [
       "['carrots',\n",
       " 'broccoli',\n",
       " 'spinach',\n",
       " 'tomatoes',\n",
       " 'bell peppers',\n",
       " 'brinjal',\n",
       " 'Orange']"
      ]
     },
     "execution_count": 20,
     "metadata": {},
     "output_type": "execute_result"
    }
   ],
   "source": [
    "# 6. Example of lists \n",
    "# Creating a grocery list of vegetables\n",
    "vegetables = ['carrots', 'broccoli', 'spinach', 'tomatoes', 'bell peppers']\n",
    "brothers_list = [\"brinjal\",\"Orange\"]\n",
    "vegetables.extend(brothers_list)\n",
    "vegetables"
   ]
  },
  {
   "cell_type": "code",
   "execution_count": 21,
   "id": "6faad8be-74d0-492d-851e-d3cf8335283e",
   "metadata": {},
   "outputs": [
    {
     "data": {
      "text/plain": [
       "True"
      ]
     },
     "execution_count": 21,
     "metadata": {},
     "output_type": "execute_result"
    }
   ],
   "source": [
    "# 7. Example of lists \n",
    "# Creating a grocery list of vegetables\n",
    "vegetables = ['carrots', 'broccoli', 'spinach', 'tomatoes', 'bell peppers']\n",
    "\"carrots\" in vegetables"
   ]
  },
  {
   "cell_type": "markdown",
   "id": "2217bf65-c7ec-48e6-baf4-d3829c2e7827",
   "metadata": {},
   "source": [
    "# Most of the example of tuples and lists  are mention above (Q no-4)"
   ]
  },
  {
   "cell_type": "markdown",
   "id": "61716f6b-32e5-47db-8269-b088adc888a4",
   "metadata": {},
   "source": [
    "# 5. Describe the key features of sets and provide examples of their use ."
   ]
  },
  {
   "cell_type": "raw",
   "id": "e0779952-2cf9-4fbe-8857-7a87a028695d",
   "metadata": {},
   "source": [
    "Key Features of Sets\n",
    "Unordered Collection: Sets do not maintain any order for the elements. This means that the order in which elements are inserted is not necessarily the order in which they are stored or retrieved.\n",
    "\n",
    "Unique Elements: Sets automatically handle duplicates by only storing one instance of each element. If you try to add a duplicate element, it will be ignored.\n",
    "\n",
    "Mutable: Sets are mutable, which means you can add or remove elements after the set is created. However, the elements themselves must be immutable (e.g., numbers, strings, tuples).\n",
    "\n",
    "Dynamic Size: Sets can grow or shrink as elements are added or removed.\n",
    "\n",
    "Set Operations: Sets support mathematical operations like union, intersection, difference, and symmetric difference, making them useful for operations involving multiple sets.\n",
    "\n",
    "No Indexing: Unlike lists or tuples, sets do not support indexing, slicing, or other sequence-like behavior."
   ]
  },
  {
   "cell_type": "code",
   "execution_count": 1,
   "id": "8c9d4ea9-7977-45e2-98e9-8c19c82bc90f",
   "metadata": {},
   "outputs": [
    {
     "name": "stdout",
     "output_type": "stream",
     "text": [
      "{'banana', 'cherry', 'apple'}\n"
     ]
    }
   ],
   "source": [
    "# 1. Creating a set with unique elements\n",
    "fruits = {'apple', 'banana', 'cherry'}\n",
    "print(fruits)  \n"
   ]
  },
  {
   "cell_type": "code",
   "execution_count": 2,
   "id": "9d530721-064c-4347-b478-f439769eab29",
   "metadata": {},
   "outputs": [
    {
     "name": "stdout",
     "output_type": "stream",
     "text": [
      "{'banana', 'cherry', 'apple', 'orange'}\n",
      "{'cherry', 'apple', 'orange'}\n"
     ]
    }
   ],
   "source": [
    "# 2. Adding elements\n",
    "fruits.add('orange')\n",
    "print(fruits)  # Output: {'banana', 'cherry', 'apple', 'orange'}\n",
    "\n",
    "# 3.  Removing elements\n",
    "fruits.remove('banana')  # Raises KeyError if 'banana' is not present\n",
    "print(fruits)  # Output: {'cherry', 'apple', 'orange'}\n",
    "\n",
    "# 4. Using discard (does not raise an error if the element is not found)\n",
    "fruits.discard('banana')\n"
   ]
  },
  {
   "cell_type": "code",
   "execution_count": 3,
   "id": "53f3d736-91d1-4434-acd2-21c463d47037",
   "metadata": {},
   "outputs": [
    {
     "name": "stdout",
     "output_type": "stream",
     "text": [
      "{1, 2, 3, 4, 5, 6}\n",
      "{3, 4}\n",
      "{1, 2}\n",
      "{1, 2, 5, 6}\n"
     ]
    }
   ],
   "source": [
    "# 5. Define two sets\n",
    "set1 = {1, 2, 3, 4}\n",
    "set2 = {3, 4, 5, 6}\n",
    "\n",
    "# 6. Union\n",
    "union_set = set1 | set2\n",
    "print(union_set)  # Output: {1, 2, 3, 4, 5, 6}\n",
    "\n",
    "# 7. Intersection\n",
    "intersection_set = set1 & set2\n",
    "print(intersection_set)  # Output: {3, 4}\n",
    "\n",
    "# 8. Difference\n",
    "difference_set = set1 - set2\n",
    "print(difference_set)  # Output: {1, 2}\n",
    "\n",
    "#  9. Symmetric Difference\n",
    "symmetric_difference_set = set1 ^ set2\n",
    "print(symmetric_difference_set)  # Output: {1, 2, 5, 6}\n"
   ]
  },
  {
   "cell_type": "code",
   "execution_count": 4,
   "id": "636c9b5e-3028-41cd-a578-34f29edf01bb",
   "metadata": {},
   "outputs": [
    {
     "name": "stdout",
     "output_type": "stream",
     "text": [
      "True\n",
      "False\n"
     ]
    }
   ],
   "source": [
    "# 10. Membership test\n",
    "print(2 in set1)  # Output: True\n",
    "print(7 in set1)  # Output: False\n"
   ]
  },
  {
   "cell_type": "code",
   "execution_count": 5,
   "id": "fd99a7fd-340a-4903-9758-5be7ea796930",
   "metadata": {},
   "outputs": [
    {
     "name": "stdout",
     "output_type": "stream",
     "text": [
      "cherry\n",
      "apple\n",
      "orange\n"
     ]
    }
   ],
   "source": [
    "for fruit in fruits:\n",
    "    print(fruit)\n",
    "\n"
   ]
  },
  {
   "cell_type": "code",
   "execution_count": 6,
   "id": "8e444fd8-de7c-4161-b8c5-421d3af90036",
   "metadata": {},
   "outputs": [
    {
     "name": "stdout",
     "output_type": "stream",
     "text": [
      "{0, 1, 64, 4, 36, 9, 16, 49, 81, 25}\n"
     ]
    }
   ],
   "source": [
    "# 11. Creating a set with a comprehension\n",
    "squares = {x**2 for x in range(10)}\n",
    "print(squares)  \n"
   ]
  },
  {
   "cell_type": "markdown",
   "id": "410663b8-9b49-4d47-9a29-a80bafdddefa",
   "metadata": {},
   "source": [
    "# Most of the example of sets are mention above (Q no-5)"
   ]
  },
  {
   "cell_type": "markdown",
   "id": "99f8dd4b-ee4e-4775-adbe-0d64f34ca5cc",
   "metadata": {},
   "source": [
    "#  Discuss the use cases of tuples and sets in Python programming ."
   ]
  },
  {
   "cell_type": "markdown",
   "id": "fdd91da7-9017-4e80-bec6-7e65c5095611",
   "metadata": {},
   "source": [
    "Tuples\n",
    "Tuples are immutable sequences, meaning once they are created, their contents cannot be changed. They are useful in various scenarios:\n",
    "\n",
    "Immutable Data Structures\n",
    "\n",
    "Use Case: When you need to ensure that the data remains constant and unaltered.\n",
    "Example: Representing a fixed collection of items, such as coordinates in a 2D space.\n",
    "\n",
    "Returning Multiple Values from a Function\n",
    "\n",
    "Use Case: When a function needs to return multiple values, tuples provide a convenient way to pack and return these values.\n",
    "Example: A function that returns both the minimum and maximum values of a list."
   ]
  },
  {
   "cell_type": "code",
   "execution_count": 7,
   "id": "d11c089c-7242-441e-bdfd-c8754c9dd567",
   "metadata": {},
   "outputs": [
    {
     "name": "stdout",
     "output_type": "stream",
     "text": [
      "(1, 7)\n"
     ]
    }
   ],
   "source": [
    "def min_max(values):\n",
    "    return (min(values), max(values))\n",
    "\n",
    "result = min_max([1, 3, 5, 7])\n",
    "print(result)  \n"
   ]
  },
  {
   "cell_type": "markdown",
   "id": "5d8098d6-5b7e-4517-b743-f22ed7cbc38a",
   "metadata": {},
   "source": [
    "Returning Multiple Values from a Function\n",
    "\n",
    "Use Case: When a function needs to return multiple values, tuples provide a convenient way to pack and return these values.\n",
    "Example: A function that returns both the minimum and maximum values of a list.\n",
    "\n",
    "Dictionary Keys\n",
    "\n",
    "Use Case: When you need to use compound keys in dictionaries. Tuples are hashable and can be used as dictionary keys, unlike lists.\n",
    "Example: Storing data with complex keys."
   ]
  },
  {
   "cell_type": "code",
   "execution_count": 8,
   "id": "b5451918-19fb-4b89-acea-ebc9d3277934",
   "metadata": {},
   "outputs": [],
   "source": [
    "location_data = {\n",
    "    (37.7749, -122.4194): 'San Francisco',\n",
    "    (34.0522, -118.2437): 'Los Angeles'\n",
    "}\n"
   ]
  },
  {
   "cell_type": "markdown",
   "id": "35049c46-a86f-4396-9b75-7a938d689681",
   "metadata": {},
   "source": [
    "Sets are unordered collections of unique elements. They are particularly useful for operations involving membership tests, uniqueness, and mathematical set operations. Here are common use cases:\n",
    "\n",
    "Unique Elements\n",
    "\n",
    "Use Case: When you need to ensure that a collection contains no duplicate elements.\n",
    "Example: Removing duplicates from a list."
   ]
  },
  {
   "cell_type": "code",
   "execution_count": 9,
   "id": "f41449a2-415b-470d-ae25-7420d0176458",
   "metadata": {},
   "outputs": [
    {
     "name": "stdout",
     "output_type": "stream",
     "text": [
      "{1, 2, 3, 4, 5}\n"
     ]
    }
   ],
   "source": [
    "numbers = [1, 2, 2, 3, 4, 4, 5]\n",
    "unique_numbers = set(numbers)\n",
    "print(unique_numbers)  \n"
   ]
  },
  {
   "cell_type": "markdown",
   "id": "b98256f1-9552-4e70-83d6-6063ff6e3186",
   "metadata": {},
   "source": [
    "Membership Testing\n",
    "\n",
    "Use Case: When you need to test membership quickly. Sets provide average O(1) time complexity for membership tests.\n",
    "Example: Checking if an element exists in a set."
   ]
  },
  {
   "cell_type": "code",
   "execution_count": 10,
   "id": "4a794c7f-3b3a-4215-a5ad-89cc4198e9ab",
   "metadata": {},
   "outputs": [
    {
     "name": "stdout",
     "output_type": "stream",
     "text": [
      "True\n",
      "False\n"
     ]
    }
   ],
   "source": [
    "allowed_users = {'alice', 'bob', 'charlie'}\n",
    "print('bob' in allowed_users)  \n",
    "print('dave' in allowed_users)  \n"
   ]
  },
  {
   "cell_type": "markdown",
   "id": "a7025fc9-6e0b-4392-a190-09cbc5a5396e",
   "metadata": {},
   "source": [
    "Set Operations\n",
    "\n",
    "Use Case: When you need to perform mathematical operations like union, intersection, difference, and symmetric difference.\n",
    "Example: Finding common or unique items between two collections."
   ]
  },
  {
   "cell_type": "code",
   "execution_count": 11,
   "id": "ba4850cc-5791-47dc-9833-5af0d5d21196",
   "metadata": {},
   "outputs": [
    {
     "name": "stdout",
     "output_type": "stream",
     "text": [
      "{1, 2, 3, 4, 5, 6}\n",
      "{3, 4}\n",
      "{1, 2}\n",
      "{1, 2, 5, 6}\n"
     ]
    }
   ],
   "source": [
    "set_a = {1, 2, 3, 4}\n",
    "set_b = {3, 4, 5, 6}\n",
    "\n",
    "union = set_a | set_b\n",
    "intersection = set_a & set_b\n",
    "difference = set_a - set_b\n",
    "symmetric_difference = set_a ^ set_b\n",
    "\n",
    "print(union)               \n",
    "print(intersection)        \n",
    "print(difference)          \n",
    "print(symmetric_difference) \n"
   ]
  },
  {
   "cell_type": "markdown",
   "id": "4dd8c476-bfc8-4d46-94a3-dbe3c37ce75f",
   "metadata": {},
   "source": [
    "Eliminating Duplicates\n",
    "\n",
    "Use Case: When you want to eliminate duplicate values from a collection.\n",
    "Example: Filtering out duplicates from a list of items."
   ]
  },
  {
   "cell_type": "code",
   "execution_count": 12,
   "id": "b4eab1e9-8629-43ce-a9ae-a93b0b1d01c8",
   "metadata": {},
   "outputs": [
    {
     "name": "stdout",
     "output_type": "stream",
     "text": [
      "{'cherry', 'banana', 'apple'}\n"
     ]
    }
   ],
   "source": [
    "items = ['apple', 'banana', 'apple', 'cherry']\n",
    "unique_items = set(items)\n",
    "print(unique_items)  \n"
   ]
  },
  {
   "cell_type": "markdown",
   "id": "c477e308-6c49-43e0-b069-fadf7fc31ee1",
   "metadata": {},
   "source": [
    "Set Membership Tests\n",
    "\n",
    "Use Case: When you need to test if multiple items are present in a collection or if a collection contains a subset of items.\n",
    "Example: Checking if one set is a subset or superset of another.\n",
    "python\n"
   ]
  },
  {
   "cell_type": "code",
   "execution_count": 13,
   "id": "affa8584-bac9-4c08-a6e2-8c92946d6edc",
   "metadata": {},
   "outputs": [
    {
     "name": "stdout",
     "output_type": "stream",
     "text": [
      "True\n",
      "True\n"
     ]
    }
   ],
   "source": [
    "set_x = {1, 2, 3}\n",
    "set_y = {2, 3}\n",
    "\n",
    "print(set_y.issubset(set_x))  # Output: True\n",
    "print(set_x.issuperset(set_y)) # Output: True\n"
   ]
  },
  {
   "cell_type": "markdown",
   "id": "5301d536-a10f-4982-a6b5-cd706bf124b2",
   "metadata": {},
   "source": [
    " # Most of the example of use cases of tuples and sets are mention above (Q no-6)"
   ]
  },
  {
   "cell_type": "markdown",
   "id": "573b35fd-36f2-4034-be02-36bcfc747f6a",
   "metadata": {},
   "source": [
    "#  Describe how to add , modify , and delete items in a dicttonary with examples"
   ]
  },
  {
   "cell_type": "markdown",
   "id": "2b1d91f7-b457-432e-9d88-aed74999b094",
   "metadata": {},
   "source": [
    "In Python, dictionaries are mutable, unordered collections of key-value pairs. You can add, modify, and delete items in a dictionary using various methods. Here’s a detailed description with examples for each operation:\n",
    "\n",
    "Adding Items\n",
    "Adding a New Key-Value Pair\n",
    "\n",
    "You can add a new key-value pair to a dictionary by assigning a value to a new key."
   ]
  },
  {
   "cell_type": "code",
   "execution_count": 14,
   "id": "483232d3-8058-499b-8011-b134a18b09d9",
   "metadata": {},
   "outputs": [
    {
     "name": "stdout",
     "output_type": "stream",
     "text": [
      "{'Alice': 85, 'Bob': 92, 'Charlie': 78}\n"
     ]
    }
   ],
   "source": [
    "# 1. Initialize a dictionary\n",
    "student_grades = {'Alice': 85, 'Bob': 92}\n",
    "\n",
    "#  Add a new key-value pair\n",
    "student_grades['Charlie'] = 78\n",
    "\n",
    "print(student_grades)  \n"
   ]
  },
  {
   "cell_type": "code",
   "execution_count": 15,
   "id": "a80ba6ff-3ba4-4b8a-bc1f-79ce098bfebd",
   "metadata": {},
   "outputs": [
    {
     "name": "stdout",
     "output_type": "stream",
     "text": [
      "{'Alice': 85, 'Bob': 92, 'Charlie': 78, 'David': 88}\n"
     ]
    }
   ],
   "source": [
    "# 2. Initialize a dictionary\n",
    "student_grades = {'Alice': 85, 'Bob': 92}\n",
    "\n",
    "#   Add multiple key-value pairs\n",
    "student_grades.update({'Charlie': 78, 'David': 88})\n",
    "\n",
    "print(student_grades)  \n"
   ]
  },
  {
   "cell_type": "code",
   "execution_count": 16,
   "id": "b48e618f-0550-45e8-8df8-68280691c208",
   "metadata": {},
   "outputs": [
    {
     "name": "stdout",
     "output_type": "stream",
     "text": [
      "{'Alice': 90, 'Bob': 92}\n"
     ]
    }
   ],
   "source": [
    "# 3. Initialize a dictionary\n",
    "student_grades = {'Alice': 85, 'Bob': 92}\n",
    "\n",
    "#  Modify the value for an existing key\n",
    "student_grades['Alice'] = 90\n",
    "\n",
    "print(student_grades)  \n"
   ]
  },
  {
   "cell_type": "code",
   "execution_count": 17,
   "id": "2bccc301-9fc7-4927-a8fb-9d4650a01a65",
   "metadata": {},
   "outputs": [
    {
     "name": "stdout",
     "output_type": "stream",
     "text": [
      "{'Alice': 88, 'Bob': 92, 'Charlie': 78}\n"
     ]
    }
   ],
   "source": [
    "# 4. Initialize a dictionary\n",
    "student_grades = {'Alice': 85, 'Bob': 92}\n",
    "\n",
    "#  Update the value for an existing key and add a new key-value pair\n",
    "student_grades.update({'Alice': 88, 'Charlie': 78})\n",
    "\n",
    "print(student_grades)  \n"
   ]
  },
  {
   "cell_type": "code",
   "execution_count": 18,
   "id": "e72531c7-549f-47bb-8892-becf0fbd519d",
   "metadata": {},
   "outputs": [
    {
     "name": "stdout",
     "output_type": "stream",
     "text": [
      "{'Alice': 85, 'Bob': 92}\n"
     ]
    }
   ],
   "source": [
    "# 5. Initialize a dictionary\n",
    "student_grades = {'Alice': 85, 'Bob': 92, 'Charlie': 78}\n",
    "\n",
    "# Delete a key-value pair\n",
    "del student_grades['Charlie']\n",
    "\n",
    "print(student_grades)  \n"
   ]
  },
  {
   "cell_type": "code",
   "execution_count": 19,
   "id": "278a7550-ebe7-41fc-9f7d-009d17c5c51b",
   "metadata": {},
   "outputs": [
    {
     "name": "stdout",
     "output_type": "stream",
     "text": [
      "78\n",
      "{'Alice': 85, 'Bob': 92}\n",
      "Not Found\n"
     ]
    }
   ],
   "source": [
    "# 6. Initialize a dictionary\n",
    "student_grades = {'Alice': 85, 'Bob': 92, 'Charlie': 78}\n",
    "\n",
    "# Remove an item and return its value\n",
    "removed_grade = student_grades.pop('Charlie')\n",
    "\n",
    "print(removed_grade)  # Output: 78\n",
    "print(student_grades)  # Output: {'Alice': 85, 'Bob': 92}\n",
    "\n",
    "# Remove an item with a default value\n",
    "removed_grade = student_grades.pop('Charlie', 'Not Found')\n",
    "print(removed_grade)  \n"
   ]
  },
  {
   "cell_type": "code",
   "execution_count": 20,
   "id": "f01155e3-7881-4358-b0cd-b0e4c27639c0",
   "metadata": {},
   "outputs": [
    {
     "name": "stdout",
     "output_type": "stream",
     "text": [
      "('Charlie', 78)\n",
      "{'Alice': 85, 'Bob': 92}\n"
     ]
    }
   ],
   "source": [
    "#  7. Initialize a dictionary\n",
    "student_grades = {'Alice': 85, 'Bob': 92, 'Charlie': 78}\n",
    "\n",
    "# Remove the last key-value pair\n",
    "last_item = student_grades.popitem()\n",
    "\n",
    "print(last_item)  \n",
    "print(student_grades)  \n"
   ]
  },
  {
   "cell_type": "code",
   "execution_count": 21,
   "id": "2fb5b888-25f5-4e8c-8006-5f51c361d1d8",
   "metadata": {},
   "outputs": [
    {
     "name": "stdout",
     "output_type": "stream",
     "text": [
      "{}\n"
     ]
    }
   ],
   "source": [
    "# 8. Initialize a dictionary\n",
    "student_grades = {'Alice': 85, 'Bob': 92, 'Charlie': 78}\n",
    "\n",
    "# Clear all items from the dictionary\n",
    "student_grades.clear()\n",
    "\n",
    "print(student_grades)  \n"
   ]
  },
  {
   "cell_type": "markdown",
   "id": "89331137-2ed5-4a1d-a424-88cd0bc355df",
   "metadata": {},
   "source": [
    "# Most of the example of add , modify , and delete items in a dictionary are mention above (Q no-7)"
   ]
  },
  {
   "cell_type": "markdown",
   "id": "70081acb-6cc5-4a71-afb7-d698a82a730b",
   "metadata": {},
   "source": [
    "# Discuss the importance of dictionary keys being immutable and provide examples ."
   ]
  },
  {
   "cell_type": "markdown",
   "id": "f4d01b44-8fbc-4735-8002-f5f27b23298d",
   "metadata": {},
   "source": [
    "Explanation: Dictionaries use a hash table to quickly retrieve values based on keys. \n",
    "When a key is added to a dictionary, its hash value is computed and used to determine its location in the hash table. \n",
    "If the key were mutable, its hash value could change, causing inconsistencies and errors in the dictionary."
   ]
  },
  {
   "cell_type": "markdown",
   "id": "89a7ddd3-5cdd-4d38-9a87-6e7525755232",
   "metadata": {},
   "source": [
    "Explanation: Immutability ensures that once a key is set in the dictionary, it cannot be altered. \n",
    "This guarantees that the key-value pair remains stable and reliable throughout the lifetime of the dictionary.\n"
   ]
  },
  {
   "cell_type": "code",
   "execution_count": 23,
   "id": "8890ed70-05d3-4387-9dcc-e5e14b900827",
   "metadata": {},
   "outputs": [
    {
     "data": {
      "text/plain": [
       "dict"
      ]
     },
     "execution_count": 23,
     "metadata": {},
     "output_type": "execute_result"
    }
   ],
   "source": [
    "# 1. Example of dictionary\n",
    "d = {}\n",
    "type(d)"
   ]
  },
  {
   "cell_type": "code",
   "execution_count": 32,
   "id": "b8b24fbe-4b04-456b-857f-51e41d0476d1",
   "metadata": {},
   "outputs": [
    {
     "data": {
      "text/plain": [
       "{'name': 'ajay', 'email': 'aj@gamil.com', 'contact': 123}"
      ]
     },
     "execution_count": 32,
     "metadata": {},
     "output_type": "execute_result"
    }
   ],
   "source": [
    "# 2. Example of dictionary \n",
    "d = {\"name\":\"ajay\",\"email\":\"aj@gamil.com\",\"contact\":123}\n",
    "d"
   ]
  },
  {
   "cell_type": "code",
   "execution_count": 33,
   "id": "10a11e7d-fdb3-4335-a9ce-7288c49a6a44",
   "metadata": {},
   "outputs": [
    {
     "data": {
      "text/plain": [
       "1"
      ]
     },
     "execution_count": 33,
     "metadata": {},
     "output_type": "execute_result"
    }
   ],
   "source": [
    "# 3. Example of dictionary\n",
    "d = {\"key\" :1}\n",
    "d['key']"
   ]
  },
  {
   "cell_type": "code",
   "execution_count": 34,
   "id": "911f82a3-d110-451f-b66e-c8129ca46fb3",
   "metadata": {},
   "outputs": [
    {
     "data": {
      "text/plain": [
       "{1.2: 'abc'}"
      ]
     },
     "execution_count": 34,
     "metadata": {},
     "output_type": "execute_result"
    }
   ],
   "source": [
    "# 4. Example of dictionary\n",
    "d ={1.2:\"abc\"}\n",
    "d"
   ]
  },
  {
   "cell_type": "code",
   "execution_count": 35,
   "id": "e008aeda-a199-4401-9d16-0c576d416f1c",
   "metadata": {},
   "outputs": [
    {
     "data": {
      "text/plain": [
       "{'name': ['sanjay', 'abhi', 1, 2],\n",
       " 'email': 'as@gmail.com',\n",
       " 'contact': (1234, 6780)}"
      ]
     },
     "execution_count": 35,
     "metadata": {},
     "output_type": "execute_result"
    }
   ],
   "source": [
    "# 5. Example of dictionary\n",
    "d = { 'name' : [ 'sanjay' ,'abhi',1,2] ,'email':'as@gmail.com','contact':(1234,6780) }\n",
    "d"
   ]
  },
  {
   "cell_type": "code",
   "execution_count": 36,
   "id": "a3ffbbdf-0789-4e46-9d2c-78bd90d15894",
   "metadata": {},
   "outputs": [
    {
     "data": {
      "text/plain": [
       "{1: ('a', 'b', 'c'), 2: ('a', 'b', 'c'), 3: ('a', 'b', 'c')}"
      ]
     },
     "execution_count": 36,
     "metadata": {},
     "output_type": "execute_result"
    }
   ],
   "source": [
    "# 6. Example of dictionary\n",
    "d.fromkeys((1,2,3) ,(\"a\",\"b\",\"c\"))"
   ]
  },
  {
   "cell_type": "code",
   "execution_count": 30,
   "id": "9155ee43-95b4-47f8-8da6-51004bb84d1f",
   "metadata": {},
   "outputs": [
    {
     "name": "stdout",
     "output_type": "stream",
     "text": [
      "('arun', 80)\n",
      "('ajay', 95)\n",
      "('bijay', 100)\n"
     ]
    }
   ],
   "source": [
    "# 7. dictionary comprehension \n",
    "\n",
    "#zip funcution\n",
    "students = [ \"arun\",\"ajay\",\"bijay\" ]\n",
    "marks = [80,95,100 ]\n",
    "\n",
    "for i in zip(students,marks):\n",
    "    print(i)"
   ]
  },
  {
   "cell_type": "code",
   "execution_count": 31,
   "id": "dabd1733-3a0a-4564-86d5-79ef5b23f54f",
   "metadata": {},
   "outputs": [
    {
     "data": {
      "text/plain": [
       "{'a': 111, 'b': 110, 'c': 109}"
      ]
     },
     "execution_count": 31,
     "metadata": {},
     "output_type": "execute_result"
    }
   ],
   "source": [
    "# 8. using dictionary comprehension method \n",
    "students = [\"a\",\"b\",\"c\"]\n",
    "marks = [111,110,109]\n",
    "{student:marks for student ,marks in zip(students,marks)} "
   ]
  },
  {
   "cell_type": "code",
   "execution_count": null,
   "id": "3996f5fb-d98f-433d-b9cb-e65ec0f2aa34",
   "metadata": {},
   "outputs": [],
   "source": []
  }
 ],
 "metadata": {
  "kernelspec": {
   "display_name": "Python 3 (ipykernel)",
   "language": "python",
   "name": "python3"
  },
  "language_info": {
   "codemirror_mode": {
    "name": "ipython",
    "version": 3
   },
   "file_extension": ".py",
   "mimetype": "text/x-python",
   "name": "python",
   "nbconvert_exporter": "python",
   "pygments_lexer": "ipython3",
   "version": "3.10.8"
  }
 },
 "nbformat": 4,
 "nbformat_minor": 5
}
