{
  "nbformat": 4,
  "nbformat_minor": 0,
  "metadata": {
    "colab": {
      "provenance": []
    },
    "kernelspec": {
      "name": "python3",
      "display_name": "Python 3"
    },
    "language_info": {
      "name": "python"
    }
  },
  "cells": [
    {
      "cell_type": "code",
      "execution_count": null,
      "metadata": {
        "id": "H0be3ZFoVFbx"
      },
      "outputs": [],
      "source": []
    },
    {
      "cell_type": "markdown",
      "source": [
        "Theoretical Questions:"
      ],
      "metadata": {
        "id": "l98vWEOQVa2i"
      }
    },
    {
      "cell_type": "markdown",
      "source": [
        " Q1. Explain the purpose and advantages of NumPy in scientific computing and data analysis. How does it\n",
        "enhance Python's capabilities for numerical operations?"
      ],
      "metadata": {
        "id": "4HFeAGxhVg30"
      }
    },
    {
      "cell_type": "markdown",
      "source": [],
      "metadata": {
        "id": "WNWtlGGrVubU"
      }
    },
    {
      "cell_type": "markdown",
      "source": [
        "NumPy is a fundamental library in Python for scientific computing. It offers powerful features for working with multidimensional arrays and performing various mathematical operations efficiently.\n",
        "\n",
        "NumPy (Numerical Python) is an open source Python library that has a wide range of inbuilt functions.\n",
        "\n",
        "Advantage of Numpy :NumPy is ideal for handling large amounts of homogeneous (same-type) data, offering significant improvements in speed and memory efficiency. It also provides high-level syntax for a wide range of numerical operations, making it a powerful tool for scientific computing and data processing on the CPU.\n",
        "\n"
      ],
      "metadata": {
        "id": "Ex81f5uDV_Nf"
      }
    },
    {
      "cell_type": "markdown",
      "source": [
        "Q 2. Compare and contrast np.mean() and np.average() functions in NumPy. When would you use one over the\n",
        "other?"
      ],
      "metadata": {
        "id": "nMph1qIQWGWd"
      }
    },
    {
      "cell_type": "markdown",
      "source": [],
      "metadata": {
        "id": "Il7N4kOpVqhb"
      }
    },
    {
      "cell_type": "markdown",
      "source": [
        "np.mean(): Computes the arithmetic mean (sum of elements divided by the number of elements) of the array along the specified axis.\n",
        "np.average(): Computes a weighted average. By default, it behaves like np.mean() if no weights are provided, but you can specify weights to give more importance to certain values.\n",
        "Use Cases:\n",
        "np.mean(): Use when you need to calculate a simple arithmetic mean of an array.\n",
        "\n",
        "np.average(): Use when you need to compute a weighted average where certain elements of the array are more significant. This is common in situations like:\n",
        "\n",
        "Grading systems where assignments/tests have different weights.\n",
        "Financial calculations where the importance of various elements varies."
      ],
      "metadata": {
        "id": "Piax0_E_Yt2c"
      }
    },
    {
      "cell_type": "markdown",
      "source": [],
      "metadata": {
        "id": "5lXZysH7WOwF"
      }
    },
    {
      "cell_type": "code",
      "source": [
        "import numpy as np\n",
        "\n",
        "# Example array\n",
        "arr = np.array([1, 2, 3, 4, 5])\n",
        "\n",
        "# np.mean\n",
        "mean_value = np.mean(arr)\n",
        "print(\"Mean:\", mean_value)  # Output: 3.0\n",
        "\n",
        "# np.average without weights (same as np.mean)\n",
        "avg_value = np.average(arr)\n",
        "print(\"Average (no weights):\", avg_value)  # Output: 3.0\n",
        "\n",
        "\n"
      ],
      "metadata": {
        "colab": {
          "base_uri": "https://localhost:8080/"
        },
        "id": "_wqLGAVQXvNq",
        "outputId": "7c9603eb-2274-42f5-a79f-6b758f685a78"
      },
      "execution_count": null,
      "outputs": [
        {
          "output_type": "stream",
          "name": "stdout",
          "text": [
            "Mean: 3.0\n",
            "Average (no weights): 3.0\n"
          ]
        }
      ]
    },
    {
      "cell_type": "markdown",
      "source": [],
      "metadata": {
        "id": "XCwjL3gXY-zQ"
      }
    },
    {
      "cell_type": "markdown",
      "source": [
        " Q3. Describe the methods for reversing a NumPy array along different axes. Provide examples for 1D and 2D\n",
        "arrays"
      ],
      "metadata": {
        "id": "j3wETxANZAnP"
      }
    },
    {
      "cell_type": "markdown",
      "source": [
        "In NumPy, there are several methods to reverse an array along different axes. Let's explore these methods with examples for both 1D and 2D arrays."
      ],
      "metadata": {
        "id": "j-Xtjo0KuT1T"
      }
    },
    {
      "cell_type": "markdown",
      "source": [
        "1. Reversing a 1D NumPy Array\n",
        "For a 1D array, reversing it is equivalent to flipping the order of its elements.\n",
        "\n",
        "Method 1: Using Slicing ([::-1])\n",
        "The most straightforward way to reverse an array is using slicing."
      ],
      "metadata": {
        "id": "zOaEqYS0uV6N"
      }
    },
    {
      "cell_type": "markdown",
      "source": [],
      "metadata": {
        "id": "JPdidw47ZC9f"
      }
    },
    {
      "cell_type": "code",
      "source": [
        "import numpy as np\n",
        "\n",
        "# Create a 1D array\n",
        "arr_1d = np.array([1, 2, 3, 4, 5])\n",
        "\n",
        "# Reverse the array using slicing\n",
        "reversed_arr_1d = arr_1d[::-1]\n",
        "\n",
        "print(\"Original 1D Array:\", arr_1d)\n",
        "print(\"Reversed 1D Array:\", reversed_arr_1d)\n"
      ],
      "metadata": {
        "colab": {
          "base_uri": "https://localhost:8080/"
        },
        "id": "VBxdRF0gY5jH",
        "outputId": "4e9004a1-a1c5-485c-8e1a-5a5aa4957f63"
      },
      "execution_count": null,
      "outputs": [
        {
          "output_type": "stream",
          "name": "stdout",
          "text": [
            "Original 1D Array: [1 2 3 4 5]\n",
            "Reversed 1D Array: [5 4 3 2 1]\n"
          ]
        }
      ]
    },
    {
      "cell_type": "markdown",
      "source": [
        "Method 2: Using np.flip()\n",
        "The np.flip() function reverses an array along the specified axis. For a 1D array, this flips all elements."
      ],
      "metadata": {
        "id": "kqTkmv8wucB0"
      }
    },
    {
      "cell_type": "code",
      "source": [
        "# Reverse the array using np.flip()\n",
        "reversed_arr_1d_flip = np.flip(arr_1d)\n",
        "\n",
        "print(\"Reversed 1D Array using flip:\", reversed_arr_1d_flip)\n"
      ],
      "metadata": {
        "colab": {
          "base_uri": "https://localhost:8080/"
        },
        "id": "uZZysLX9s2ZE",
        "outputId": "02043e06-203a-49c4-993a-3f0fa0d8839c"
      },
      "execution_count": null,
      "outputs": [
        {
          "output_type": "stream",
          "name": "stdout",
          "text": [
            "Reversed 1D Array using flip: [5 4 3 2 1]\n"
          ]
        }
      ]
    },
    {
      "cell_type": "markdown",
      "source": [
        "2. Reversing a 2D NumPy Array\n",
        "For a 2D array, you can reverse the elements along different axes (rows or columns).\n",
        "\n",
        "Method 1: Using Slicing ([::-1])\n",
        "You can reverse along different axes using slicing:\n",
        "\n",
        "Reverse along rows (axis 0):"
      ],
      "metadata": {
        "id": "gCWp-FLVulzE"
      }
    },
    {
      "cell_type": "code",
      "source": [
        "arr_2d = np.array([[1, 2, 3], [4, 5, 6], [7, 8, 9]])\n",
        "\n",
        "# Reverse along rows (axis 0)\n",
        "reversed_arr_2d_rows = arr_2d[::-1, :]\n",
        "\n",
        "print(\"Original 2D Array:\\n\", arr_2d)\n",
        "print(\"Reversed along rows:\\n\", reversed_arr_2d_rows)\n"
      ],
      "metadata": {
        "colab": {
          "base_uri": "https://localhost:8080/"
        },
        "id": "BbaFyHSDtagk",
        "outputId": "160db90e-4abe-4268-89e5-d180ac16bd05"
      },
      "execution_count": null,
      "outputs": [
        {
          "output_type": "stream",
          "name": "stdout",
          "text": [
            "Original 2D Array:\n",
            " [[1 2 3]\n",
            " [4 5 6]\n",
            " [7 8 9]]\n",
            "Reversed along rows:\n",
            " [[7 8 9]\n",
            " [4 5 6]\n",
            " [1 2 3]]\n"
          ]
        }
      ]
    },
    {
      "cell_type": "markdown",
      "source": [
        "Reverse along columns (axis 1):"
      ],
      "metadata": {
        "id": "GDj8-NaSus9j"
      }
    },
    {
      "cell_type": "code",
      "source": [
        "# Reverse along columns (axis 1)\n",
        "reversed_arr_2d_columns = arr_2d[:, ::-1]\n",
        "\n",
        "print(\"Reversed along columns:\\n\", reversed_arr_2d_columns)\n"
      ],
      "metadata": {
        "colab": {
          "base_uri": "https://localhost:8080/"
        },
        "id": "v3KDiVwltmmE",
        "outputId": "a5eace9c-56e1-47fe-d093-e6e5324a4713"
      },
      "execution_count": null,
      "outputs": [
        {
          "output_type": "stream",
          "name": "stdout",
          "text": [
            "Reversed along columns:\n",
            " [[3 2 1]\n",
            " [6 5 4]\n",
            " [9 8 7]]\n"
          ]
        }
      ]
    },
    {
      "cell_type": "markdown",
      "source": [
        "Method 2: Using np.flip()\n",
        "The np.flip() function can be used to reverse along specified axes.\n",
        "\n",
        "Reverse along rows (axis 0):"
      ],
      "metadata": {
        "id": "wdm-xQQluydr"
      }
    },
    {
      "cell_type": "code",
      "source": [
        "# Reverse along rows using np.flip()\n",
        "reversed_arr_2d_flip_rows = np.flip(arr_2d, axis=0)\n",
        "\n",
        "print(\"Reversed 2D Array along rows using flip:\\n\", reversed_arr_2d_flip_rows)\n"
      ],
      "metadata": {
        "colab": {
          "base_uri": "https://localhost:8080/"
        },
        "id": "uOIKmTO5t4r7",
        "outputId": "cef9543c-2b46-487c-ed49-1d96e07eb108"
      },
      "execution_count": null,
      "outputs": [
        {
          "output_type": "stream",
          "name": "stdout",
          "text": [
            "Reversed 2D Array along rows using flip:\n",
            " [[7 8 9]\n",
            " [4 5 6]\n",
            " [1 2 3]]\n"
          ]
        }
      ]
    },
    {
      "cell_type": "markdown",
      "source": [
        "Reverse along columns (axis 1):"
      ],
      "metadata": {
        "id": "R1QrwBJbu2rb"
      }
    },
    {
      "cell_type": "code",
      "source": [
        "# Reverse along columns using np.flip()\n",
        "reversed_arr_2d_flip_columns = np.flip(arr_2d, axis=1)\n",
        "\n",
        "print(\"Reversed 2D Array along columns using flip:\\n\", reversed_arr_2d_flip_columns)\n"
      ],
      "metadata": {
        "colab": {
          "base_uri": "https://localhost:8080/"
        },
        "id": "fr7_lbbfuGHM",
        "outputId": "dcc13760-3266-42d0-a698-deb6c8ddc0c9"
      },
      "execution_count": null,
      "outputs": [
        {
          "output_type": "stream",
          "name": "stdout",
          "text": [
            "Reversed 2D Array along columns using flip:\n",
            " [[3 2 1]\n",
            " [6 5 4]\n",
            " [9 8 7]]\n"
          ]
        }
      ]
    },
    {
      "cell_type": "markdown",
      "source": [
        "Conclusion\n",
        "For 1D arrays, you can use slicing ([::-1]) or np.flip().\n",
        "For 2D arrays, you can reverse rows, columns, or both using slicing ([::-1]) or np.flip() by specifying the axis.\n",
        "\n",
        "\n",
        "\n",
        "\n",
        "\n"
      ],
      "metadata": {
        "id": "_ky263QMu8HC"
      }
    },
    {
      "cell_type": "markdown",
      "source": [],
      "metadata": {
        "id": "NNOjyCeju9oV"
      }
    },
    {
      "cell_type": "markdown",
      "source": [
        " Q4. How can you determine the data type of elements in a NumPy array? Discuss the importance of data types\n",
        "in memory management and performance."
      ],
      "metadata": {
        "id": "A4DSUcVsvbkt"
      }
    },
    {
      "cell_type": "markdown",
      "source": [
        ". Data Types in NumPy (Importance in Memory Management and Performance)\n",
        "NumPy arrays are homogeneous; all elements in the array must have the same data type. This consistency allows NumPy to manage memory more efficiently and perform faster operations, especially compared to Python's built-in lists, which can store elements of different types.\n",
        "\n",
        "Key reasons why data types are important:\n",
        "a. Memory Management:\n",
        "Size of Data: Each data type (such as int, float, bool, etc.) uses a specific amount of memory. For example:\n",
        "int8 takes 1 byte (8 bits) per element.\n",
        "int64 takes 8 bytes (64 bits) per element.\n",
        "float32 takes 4 bytes, while float64 takes 8 bytes per element.\n",
        "When dealing with large arrays, using the appropriate data type can save significant amounts of memory."
      ],
      "metadata": {
        "id": "Am1wnzpQwf2r"
      }
    },
    {
      "cell_type": "code",
      "source": [
        "arr_int8 = np.array([1, 2, 3], dtype=np.int8)\n",
        "arr_int64 = np.array([1, 2, 3], dtype=np.int64)\n",
        "\n",
        "print(arr_int8.nbytes)  # Output: 3 bytes\n",
        "print(arr_int64.nbytes) # Output: 24 bytes\n"
      ],
      "metadata": {
        "colab": {
          "base_uri": "https://localhost:8080/"
        },
        "id": "ASQHp4eSvgsx",
        "outputId": "64be5111-1c5a-4181-8829-8ccd2147a922"
      },
      "execution_count": null,
      "outputs": [
        {
          "output_type": "stream",
          "name": "stdout",
          "text": [
            "3\n",
            "24\n"
          ]
        }
      ]
    },
    {
      "cell_type": "markdown",
      "source": [
        "Efficient Storage: For large datasets, selecting a smaller data type can save memory. For example, if all the elements in an array are small integers, using int8 or int16 instead of the default int64 will result in significant memory savings."
      ],
      "metadata": {
        "id": "Ol1dfWBOwo40"
      }
    },
    {
      "cell_type": "markdown",
      "source": [],
      "metadata": {
        "id": "UMird9xMwsyz"
      }
    },
    {
      "cell_type": "markdown",
      "source": [
        "b. Performance:\n",
        "Vectorized Operations: NumPy performs vectorized operations on arrays, meaning that operations are applied to entire arrays at once rather than element by element (as is the case with Python lists). Having consistent data types allows NumPy to optimize these operations by leveraging efficient low-level routines, often written in C.\n",
        "\n",
        "Speed of Computation: Lighter data types (like int8 or float32) allow for faster computation as they require fewer CPU cycles than heavier types (like int64 or float64). For example, a large array of 32-bit floats can be processed faster than one with 64-bit floats."
      ],
      "metadata": {
        "id": "HZGWoqiuxWWF"
      }
    },
    {
      "cell_type": "code",
      "source": [
        "arr_float32 = np.array([1.0, 2.0, 3.0], dtype=np.float32)\n",
        "arr_float64 = np.array([1.0, 2.0, 3.0], dtype=np.float64)\n",
        "\n",
        "%timeit np.sum(arr_float32)  # Faster due to smaller memory footprint\n",
        "%timeit np.sum(arr_float64)  # Slower due to larger memory footprint\n"
      ],
      "metadata": {
        "colab": {
          "base_uri": "https://localhost:8080/"
        },
        "id": "EP2mVXtDwsYT",
        "outputId": "923f000a-4939-4916-def2-cbedf657fa10"
      },
      "execution_count": null,
      "outputs": [
        {
          "output_type": "stream",
          "name": "stdout",
          "text": [
            "3.45 µs ± 119 ns per loop (mean ± std. dev. of 7 runs, 100000 loops each)\n",
            "5.14 µs ± 1.18 µs per loop (mean ± std. dev. of 7 runs, 100000 loops each)\n"
          ]
        }
      ]
    },
    {
      "cell_type": "markdown",
      "source": [
        "c. Type Compatibility:\n",
        "Precision: Different data types have different levels of precision. For example, using float32 instead of float64 results in a loss of precision, which can be important when performing calculations that require high accuracy, such as scientific computing.\n",
        "\n",
        "Overflow: Integer types are more prone to overflow than floating-point types. For example, an int8 data type can only represent values from -128 to 127. Exceeding this range will cause overflow."
      ],
      "metadata": {
        "id": "WtNW-vUexvDm"
      }
    },
    {
      "cell_type": "markdown",
      "source": [
        "d. Explicit Type Conversion (Casting):\n",
        "You can specify or convert data types explicitly when creating or manipulating arrays to ensure efficient memory usage or compatibility with certain operations."
      ],
      "metadata": {
        "id": "lAF52ElQx2RZ"
      }
    },
    {
      "cell_type": "code",
      "source": [
        "# Specifying data type at array creation\n",
        "arr = np.array([1, 2, 3], dtype=np.float32)\n",
        "\n",
        "# Converting data type (casting)\n",
        "arr_converted = arr.astype(np.int32)\n",
        "print(arr_converted)  # Output: [1 2 3]\n"
      ],
      "metadata": {
        "colab": {
          "base_uri": "https://localhost:8080/"
        },
        "id": "U109jeI7x5XO",
        "outputId": "79dd6bed-79ae-46d2-9c6c-7a0be9500754"
      },
      "execution_count": null,
      "outputs": [
        {
          "output_type": "stream",
          "name": "stdout",
          "text": [
            "[1 2 3]\n"
          ]
        }
      ]
    },
    {
      "cell_type": "markdown",
      "source": [
        "3. Summary:\n",
        "Data type management is crucial in NumPy for memory efficiency and performance optimization.\n",
        "Choosing the right data type based on the size and range of your data helps reduce memory usage and increase computational speed.\n",
        "Ensuring the correct precision in your data types avoids errors like overflow or rounding issues during calculations."
      ],
      "metadata": {
        "id": "9XAWBvsZx_jV"
      }
    },
    {
      "cell_type": "markdown",
      "source": [
        "Q5. Define ndarrays in NumPy and explain their key features. How do they differ from standard Python lists?"
      ],
      "metadata": {
        "id": "v1JhXRY2yBXY"
      }
    },
    {
      "cell_type": "markdown",
      "source": [
        "1. Definition of ndarray in NumPy\n",
        "In NumPy, an ndarray (N-dimensional array) is the core data structure for working with multi-dimensional arrays. It is a homogeneous array, meaning all elements within it are of the same data type, which allows for efficient storage and computation.\n",
        "\n",
        "Example of an ndarray:"
      ],
      "metadata": {
        "id": "W1WjWM2_zX-V"
      }
    },
    {
      "cell_type": "code",
      "source": [
        "import numpy as np\n",
        "\n",
        "# Create a 1D NumPy array\n",
        "arr = np.array([1, 2, 3, 4])\n",
        "print(arr)  # Output: [1 2 3 4]\n",
        "\n",
        "# Create a 2D NumPy array\n",
        "arr_2d = np.array([[1, 2], [3, 4]])\n",
        "print(arr_2d)\n",
        "# Output:\n",
        "# [[1 2]\n",
        "#  [3 4]]\n"
      ],
      "metadata": {
        "colab": {
          "base_uri": "https://localhost:8080/"
        },
        "id": "ynVDCBHazZ3r",
        "outputId": "ca2abe5e-7961-494d-dc49-2ca5a20f1cf0"
      },
      "execution_count": null,
      "outputs": [
        {
          "output_type": "stream",
          "name": "stdout",
          "text": [
            "[1 2 3 4]\n",
            "[[1 2]\n",
            " [3 4]]\n"
          ]
        }
      ]
    },
    {
      "cell_type": "markdown",
      "source": [
        "2. Key Features of ndarray\n",
        "a. Homogeneous Data:\n",
        "All elements in an ndarray have the same data type (e.g., all integers, floats, etc.), which ensures efficient memory use and faster processing.\n",
        "\n",
        "b. Multi-Dimensional:\n",
        "While Python lists are typically one-dimensional (although they can be nested), ndarray can represent arrays of any number of dimensions, ranging from 1D to ND (N-dimensional).\n",
        "\n",
        "Shape: The shape of the array is represented by a tuple, where each value corresponds to the size of the array in that dimension."
      ],
      "metadata": {
        "id": "tkwF16vkzoJe"
      }
    },
    {
      "cell_type": "code",
      "source": [
        "arr = np.array([[1, 2, 3], [4, 5, 6]])\n",
        "print(arr.shape)  # Output: (2, 3) --> 2 rows, 3 columns\n"
      ],
      "metadata": {
        "colab": {
          "base_uri": "https://localhost:8080/"
        },
        "id": "VDjRVJ98zqIa",
        "outputId": "d5c30b06-895e-44b1-e79d-50075f27f718"
      },
      "execution_count": null,
      "outputs": [
        {
          "output_type": "stream",
          "name": "stdout",
          "text": [
            "(2, 3)\n"
          ]
        }
      ]
    },
    {
      "cell_type": "markdown",
      "source": [
        "c. Efficient Memory Management:\n",
        "ndarray objects are stored in contiguous blocks of memory, which enables faster access and processing. This is a key advantage over Python lists, where each element can be located at a different memory address.\n",
        "d. Broadcasting:\n",
        "NumPy arrays support broadcasting, which allows arithmetic operations between arrays of different shapes. Instead of requiring arrays to have the same shape for operations, broadcasting automatically expands smaller arrays to match the shape of larger ones during computations."
      ],
      "metadata": {
        "id": "FkCjnrFdz2lT"
      }
    },
    {
      "cell_type": "code",
      "source": [
        "arr = np.array([1, 2, 3])\n",
        "arr_2d = np.array([[10], [20], [30]])\n",
        "result = arr + arr_2d\n",
        "print(result)\n",
        "# Output:\n",
        "# [[11 12 13]\n",
        "#  [21 22 23]\n",
        "#  [31 32 33]]\n"
      ],
      "metadata": {
        "colab": {
          "base_uri": "https://localhost:8080/"
        },
        "id": "xz33Gt3wz371",
        "outputId": "8c7ca539-8704-4e75-9482-26419545c15b"
      },
      "execution_count": null,
      "outputs": [
        {
          "output_type": "stream",
          "name": "stdout",
          "text": [
            "[[11 12 13]\n",
            " [21 22 23]\n",
            " [31 32 33]]\n"
          ]
        }
      ]
    },
    {
      "cell_type": "markdown",
      "source": [
        "e. Vectorized Operations:\n",
        "NumPy arrays allow for element-wise operations without the need for explicit loops. These vectorized operations are optimized for performance and significantly faster than manually iterating over elements in a Python list."
      ],
      "metadata": {
        "id": "YHdMmLzi0Ayb"
      }
    },
    {
      "cell_type": "code",
      "source": [
        "arr = np.array([1, 2, 3])\n",
        "arr2 = np.array([4, 5, 6])\n",
        "\n",
        "# Element-wise addition\n",
        "result = arr + arr2\n",
        "print(result)  # Output: [5 7 9]\n"
      ],
      "metadata": {
        "colab": {
          "base_uri": "https://localhost:8080/"
        },
        "id": "tmsEQOtx0B9b",
        "outputId": "9b278b9a-e2e6-4e82-ec5a-d06d6143c049"
      },
      "execution_count": null,
      "outputs": [
        {
          "output_type": "stream",
          "name": "stdout",
          "text": [
            "[5 7 9]\n"
          ]
        }
      ]
    },
    {
      "cell_type": "markdown",
      "source": [
        "f. Mathematical and Statistical Functions:\n",
        "NumPy provides a wide range of optimized mathematical and statistical functions that work efficiently on ndarray objects. Functions like np.mean(), np.sum(), np.median(), and many others are specifically designed to operate on multi-dimensional arrays with high efficiency."
      ],
      "metadata": {
        "id": "Z2vZkCJS0LbD"
      }
    },
    {
      "cell_type": "code",
      "source": [
        "arr = np.array([[1, 2], [3, 4]])\n",
        "\n",
        "# Sum of all elements\n",
        "print(np.sum(arr))  # Output: 10\n",
        "\n",
        "# Mean of all elements\n",
        "print(np.mean(arr))  # Output: 2.5\n"
      ],
      "metadata": {
        "colab": {
          "base_uri": "https://localhost:8080/"
        },
        "id": "b-TuEeit0Mhl",
        "outputId": "964bc172-6738-40d0-fd5d-6a8985834672"
      },
      "execution_count": null,
      "outputs": [
        {
          "output_type": "stream",
          "name": "stdout",
          "text": [
            "10\n",
            "2.5\n"
          ]
        }
      ]
    },
    {
      "cell_type": "markdown",
      "source": [
        "g. Slicing and Indexing:\n",
        "NumPy arrays allow advanced indexing and slicing operations. You can extract sub-arrays, assign values, or manipulate parts of an array with ease, using powerful indexing techniques."
      ],
      "metadata": {
        "id": "LNORWSML0e1u"
      }
    },
    {
      "cell_type": "code",
      "source": [
        "arr = np.array([1, 2, 3, 4, 5])\n",
        "\n",
        "# Slice from index 1 to 3\n",
        "print(arr[1:4])  # Output: [2 3 4]\n",
        "\n",
        "# 2D array indexing\n",
        "arr_2d = np.array([[1, 2, 3], [4, 5, 6]])\n",
        "print(arr_2d[1, :])  # Output: [4 5 6]\n"
      ],
      "metadata": {
        "colab": {
          "base_uri": "https://localhost:8080/"
        },
        "id": "8DWgppqj0gt8",
        "outputId": "aa30971c-629c-4a87-86c5-db01f0175c8f"
      },
      "execution_count": null,
      "outputs": [
        {
          "output_type": "stream",
          "name": "stdout",
          "text": [
            "[2 3 4]\n",
            "[4 5 6]\n"
          ]
        }
      ]
    },
    {
      "cell_type": "markdown",
      "source": [
        "\n",
        "\n",
        "\n",
        "\n",
        "\n",
        "`\n",
        "\n",
        "### 3. **How `ndarray` Differs from Standard Python Lists**\n",
        "\n",
        "| Feature                | `ndarray` (NumPy)                                   | Python List                                     |\n",
        "|------------------------|-----------------------------------------------------|-------------------------------------------------|\n",
        "| **Data Type**           | Homogeneous (all elements must be of the same type) | Heterogeneous (elements can be of different types) |\n",
        "| **Memory Efficiency**   | More memory efficient due to contiguous memory      | Less memory efficient, non-contiguous memory     |\n",
        "| **Performance**         | Faster due to vectorized operations and optimized C-based backend | Slower due to Python's interpreted nature and the need for explicit loops |\n",
        "| **Dimensionality**      | Multi-dimensional arrays (1D, 2D, 3D, N-D)         | Can only have lists of lists for multi-dimensional structures |\n",
        "| **Mathematical Operations** | Supports efficient element-wise operations, broadcasting, and advanced mathematical functions | No built-in support for element-wise operations or broadcasting |\n",
        "| **Memory Storage**      | Stored in contiguous memory blocks                 | Elements are stored in separate memory locations (pointer-based) |\n",
        "| **Indexing/Slicing**    | Supports advanced slicing, boolean indexing, and multidimensional indexing | Supports basic slicing and indexing, no multidimensional indexing |\n",
        "| **Shape and Size**      | Has explicit `.shape` and `.size` attributes        | No built-in attributes for shape or size         |\n",
        "\n",
        "### 4. **Summary**:\n",
        "- NumPy’s `ndarray` is a powerful data structure designed for performance and efficiency, especially when working with large amounts of numerical data.\n",
        "- It differs from Python lists by being homogeneous, more memory-efficient, supporting vectorized operations, broadcasting, and allowing multi-dimensional arrays.\n",
        "- For mathematical computations, `ndarray` far outperforms standard Python lists in both speed and ease of use."
      ],
      "metadata": {
        "id": "cD0WGlnM0rY7"
      }
    },
    {
      "cell_type": "markdown",
      "source": [],
      "metadata": {
        "id": "3wsTPRHo15rU"
      }
    },
    {
      "cell_type": "markdown",
      "source": [
        "Q6. Analyze the performance benefits of NumPy arrays over Python lists for large-scale numerical operations."
      ],
      "metadata": {
        "id": "fc7PS_gX3hnL"
      }
    },
    {
      "cell_type": "markdown",
      "source": [
        "### 1. **Performance Benefits of NumPy Arrays Over Python Lists**\n",
        "\n",
        "When dealing with **large-scale numerical operations**, NumPy arrays (`ndarray`) offer significant performance advantages over Python lists, thanks to features like **homogeneous data storage**, **vectorized operations**, and **efficient memory management**.\n",
        "\n",
        "#### a. **Memory Efficiency**\n",
        "- **NumPy arrays** store elements of the same type (homogeneous) in **contiguous memory** blocks, which reduces memory overhead.\n",
        "- **Python lists** store heterogeneous elements, which increases memory overhead as each element is an object with its own metadata (type, reference count, etc.).\n",
        "\n",
        "#### b. **Vectorized Operations**\n",
        "- **NumPy arrays** support **vectorized operations**, allowing element-wise computations without explicit loops. This leads to much faster execution because these operations are handled by **low-level C libraries** optimized for performance.\n",
        "- **Python lists** require loops for element-wise operations, which adds significant overhead due to Python’s interpreted nature and slower execution.\n",
        "\n",
        "#### c. **Broadcasting**\n",
        "- **NumPy arrays** allow operations on arrays of different shapes through **broadcasting**. This flexibility reduces the need for manually reshaping arrays, which is often required in Python lists.\n",
        "- **Python lists** lack broadcasting capabilities, requiring explicit loops or manual adjustments to achieve the same effect.\n",
        "\n",
        "#### d. **Built-in Optimized Functions**\n",
        "- **NumPy** provides **highly optimized mathematical and statistical functions** (e.g., `np.sum()`, `np.mean()`, `np.dot()`), all of which are implemented in low-level C or Fortran. These are far more efficient than custom implementations using Python loops.\n",
        "- **Python lists** have to rely on Python’s built-in functions, which are slower and not optimized for large-scale numerical data.\n",
        "\n",
        "#### e. **Low-Level Implementation**\n",
        "- **NumPy arrays** are built on **low-level C and Fortran libraries**, giving them a significant performance advantage for numerical computations.\n",
        "- **Python lists** are flexible, but their general-purpose nature makes them slower and less memory efficient for numerical tasks.\n",
        "\n",
        "### 2. **Performance Example (Code)**\n",
        "\n",
        "Here’s a performance comparison between NumPy arrays and Python lists for a simple large-scale numerical operation—adding two large arrays of numbers:\n",
        "\n",
        "`\n",
        "\n",
        "### 3. **Explanation of Results**\n",
        "\n",
        "- **NumPy arrays** will execute significantly faster due to **vectorization** (element-wise operations handled at a low level in C). No explicit Python loops are needed.\n",
        "- **Python lists**, on the other hand, require explicit loops to perform element-wise operations. This is slower because Python’s interpreter has to execute each iteration, making it less efficient for large-scale computations.\n",
        "\n",
        "### 4. **Conclusion**\n",
        "\n",
        "For **large-scale numerical operations**, NumPy arrays are vastly superior to Python lists in terms of both **speed** and **memory efficiency**. They are optimized for numerical tasks, offering built-in functions, vectorization, and memory management features that Python lists cannot match."
      ],
      "metadata": {
        "id": "RTr4auCb2UT9"
      }
    },
    {
      "cell_type": "code",
      "source": [
        "import numpy as np\n",
        "import time\n",
        "\n",
        "# Define the size of the arrays\n",
        "size = 10**6\n",
        "\n",
        "# Create NumPy arrays\n",
        "arr_np1 = np.arange(size)\n",
        "arr_np2 = np.arange(size)\n",
        "\n",
        "# Create Python lists\n",
        "list1 = list(range(size))\n",
        "list2 = list(range(size))\n",
        "\n",
        "# Measure time for NumPy array addition\n",
        "start_np = time.time()\n",
        "result_np = arr_np1 + arr_np2  # Vectorized addition\n",
        "end_np = time.time()\n",
        "print(\"NumPy array addition time:\", end_np - start_np)  # Expect this to be fast\n",
        "\n",
        "# Measure time for Python list addition (element-wise)\n",
        "start_list = time.time()\n",
        "result_list = [x + y for x, y in zip(list1, list2)]  # Loop-based addition\n",
        "end_list = time.time()\n",
        "print(\"Python list addition time:\", end_list - start_list)  # Expect this to be much slower\n"
      ],
      "metadata": {
        "colab": {
          "base_uri": "https://localhost:8080/"
        },
        "id": "Ymx8WeVh3ey9",
        "outputId": "85277301-15f3-4595-df9a-baf9dac822b2"
      },
      "execution_count": null,
      "outputs": [
        {
          "output_type": "stream",
          "name": "stdout",
          "text": [
            "NumPy array addition time: 0.008609533309936523\n",
            "Python list addition time: 0.14410400390625\n"
          ]
        }
      ]
    },
    {
      "cell_type": "markdown",
      "source": [
        "Q7. Compare vstack() and hstack() functions in NumPy. Provide examples demonstrating their usage and\n",
        "output"
      ],
      "metadata": {
        "id": "9b9FENfu4_Vb"
      }
    },
    {
      "cell_type": "markdown",
      "source": [
        "### 1. **Comparison of `vstack()` and `hstack()` Functions in NumPy**\n",
        "\n",
        "In NumPy, both `vstack()` and `hstack()` are used for **stacking** arrays, but they operate differently in terms of how they combine arrays.\n",
        "\n",
        "#### a. **`vstack()` (Vertical Stack)**\n",
        "- **Description**: The `vstack()` function stacks arrays **vertically** (i.e., along the rows). It treats each input array as a row and stacks them on top of each other to create a larger array.\n",
        "- **Dimensions**: The arrays must have the **same number of columns** (i.e., compatible in the second dimension) but can differ in the number of rows.\n",
        "\n",
        "#### b. **`hstack()` (Horizontal Stack)**\n",
        "- **Description**: The `hstack()` function stacks arrays **horizontally** (i.e., along the columns). It treats each input array as a column and stacks them side by side to create a larger array.\n",
        "- **Dimensions**: The arrays must have the **same number of rows** (i.e., compatible in the first dimension) but can differ in the number of columns.\n",
        "\n",
        "\n",
        "\n",
        "### 3. **Summary of Differences**\n",
        "\n",
        "| Function  | Operation                          | Requirement               | Resulting Structure           |\n",
        "|-----------|------------------------------------|----------------------------|--------------------------------|\n",
        "| `vstack()` | Stacks arrays **vertically** (row-wise) | Same number of **columns** | Stacks arrays on top of each other (more rows) |\n",
        "| `hstack()` | Stacks arrays **horizontally** (column-wise) | Same number of **rows**    | Stacks arrays side by side (more columns)       |\n",
        "\n",
        "### 4. **When to Use**:\n",
        "- **Use `vstack()`** when you want to add more rows to an existing array (i.e., stack arrays vertically).\n",
        "- **Use `hstack()`** when you want to add more columns to an existing array (i.e., stack arrays horizontally)."
      ],
      "metadata": {
        "id": "BOzen-2F4Slb"
      }
    },
    {
      "cell_type": "code",
      "source": [
        "import numpy as np\n",
        "\n",
        "# Create two 2D arrays with the same number of columns\n",
        "arr1 = np.array([[1, 2], [3, 4]])\n",
        "arr2 = np.array([[5, 6]])\n",
        "\n",
        "# Vertically stack the arrays\n",
        "result_vstack = np.vstack((arr1, arr2))\n",
        "print(\"Result of vstack:\\n\", result_vstack)\n",
        "\n"
      ],
      "metadata": {
        "colab": {
          "base_uri": "https://localhost:8080/"
        },
        "id": "TYorzv-j4lmb",
        "outputId": "15420b20-948d-41e1-e467-42528b895078"
      },
      "execution_count": null,
      "outputs": [
        {
          "output_type": "stream",
          "name": "stdout",
          "text": [
            "Result of vstack:\n",
            " [[1 2]\n",
            " [3 4]\n",
            " [5 6]]\n"
          ]
        }
      ]
    },
    {
      "cell_type": "code",
      "source": [
        "import numpy as np\n",
        "\n",
        "# Create two 2D arrays with the same number of rows\n",
        "arr1 = np.array([[1, 2], [3, 4]])\n",
        "arr2 = np.array([[5], [6]])\n",
        "\n",
        "# Horizontally stack the arrays\n",
        "result_hstack = np.hstack((arr1, arr2))\n",
        "print(\"Result of hstack:\\n\", result_hstack)\n"
      ],
      "metadata": {
        "colab": {
          "base_uri": "https://localhost:8080/"
        },
        "id": "-C2QX5n54t6n",
        "outputId": "1c97e001-f482-40d2-c861-4b965008ec5b"
      },
      "execution_count": null,
      "outputs": [
        {
          "output_type": "stream",
          "name": "stdout",
          "text": [
            "Result of hstack:\n",
            " [[1 2 5]\n",
            " [3 4 6]]\n"
          ]
        }
      ]
    },
    {
      "cell_type": "markdown",
      "source": [
        "Q 8. Explain the differences between fliplr() and flipud() methods in NumPy, including their effects on various\n",
        "array dimensions."
      ],
      "metadata": {
        "id": "-ZYjsQrZ5S3z"
      }
    },
    {
      "cell_type": "markdown",
      "source": [
        "Differences Between fliplr() and flipud() in NumPy\n",
        "Both fliplr() and flipud() are used to flip (reverse) arrays in NumPy, but they operate on different axes and have distinct behaviors:\n",
        "\n",
        "1. fliplr() (Flip Left to Right)\n",
        "Description: The fliplr() function flips an array horizontally (left to right). It reverses the order of elements along the columns.\n",
        "Effect: For a 2D array, this function swaps the elements in each row so that the first column becomes the last, the second column becomes second to last, and so on.\n",
        "Dimensionality: This function is primarily used for 2D arrays, and it requires at least 2 dimensions (number of columns > 1).\n",
        "Example of fliplr():"
      ],
      "metadata": {
        "id": "fVueQGVB5WML"
      }
    },
    {
      "cell_type": "code",
      "source": [
        "import numpy as np\n",
        "\n",
        "# Create a 2D array\n",
        "arr = np.array([[1, 2, 3],\n",
        "                [4, 5, 6]])\n",
        "\n",
        "# Flip array left to right\n",
        "result_fliplr = np.fliplr(arr)\n",
        "print(\"Result of fliplr():\\n\", result_fliplr)\n"
      ],
      "metadata": {
        "colab": {
          "base_uri": "https://localhost:8080/"
        },
        "id": "mOABh45p5l3h",
        "outputId": "464f2cb4-fcaa-465e-a461-379e3b367040"
      },
      "execution_count": null,
      "outputs": [
        {
          "output_type": "stream",
          "name": "stdout",
          "text": [
            "Result of fliplr():\n",
            " [[3 2 1]\n",
            " [6 5 4]]\n"
          ]
        }
      ]
    },
    {
      "cell_type": "markdown",
      "source": [
        "Effect: The columns are reversed in each row, but the row order remains unchanged."
      ],
      "metadata": {
        "id": "4Z5keMiG5ta7"
      }
    },
    {
      "cell_type": "markdown",
      "source": [
        "2. flipud() (Flip Up to Down)\n",
        "Description: The flipud() function flips an array vertically (upside down). It reverses the order of elements along the rows.\n",
        "Effect: For a 2D array, this function swaps the rows so that the first row becomes the last, the second row becomes second to last, and so on.\n",
        "Dimensionality: This function works for any number of dimensions, as it operates by flipping the first axis (rows).\n",
        "Example of flipud():"
      ],
      "metadata": {
        "id": "M2KKQjjv5upc"
      }
    },
    {
      "cell_type": "code",
      "source": [
        "import numpy as np\n",
        "\n",
        "# Create a 2D array\n",
        "arr = np.array([[1, 2, 3],\n",
        "                [4, 5, 6]])\n",
        "\n",
        "# Flip array upside down\n",
        "result_flipud = np.flipud(arr)\n",
        "print(\"Result of flipud():\\n\", result_flipud)\n"
      ],
      "metadata": {
        "colab": {
          "base_uri": "https://localhost:8080/"
        },
        "id": "yIaSzAnk5x3D",
        "outputId": "e10ecb2d-0a3b-46a4-a552-585c42258662"
      },
      "execution_count": null,
      "outputs": [
        {
          "output_type": "stream",
          "name": "stdout",
          "text": [
            "Result of flipud():\n",
            " [[4 5 6]\n",
            " [1 2 3]]\n"
          ]
        }
      ]
    },
    {
      "cell_type": "markdown",
      "source": [
        "Effect: The rows are reversed, but the order of the elements in each row remains the same."
      ],
      "metadata": {
        "id": "s8bo7vZ752hz"
      }
    },
    {
      "cell_type": "code",
      "source": [],
      "metadata": {
        "id": "eAy_H1CY53oj"
      },
      "execution_count": null,
      "outputs": []
    },
    {
      "cell_type": "markdown",
      "source": [
        "3. Behavior on Higher Dimensions\n",
        "For 3D arrays or higher-dimensional arrays:\n",
        "\n",
        "fliplr(): Only reverses the order of the elements along the second axis (columns).\n",
        "flipud(): Only reverses the order of elements along the first axis (rows).\n",
        "Example with 3D array:"
      ],
      "metadata": {
        "id": "c6HqWrNA59kE"
      }
    },
    {
      "cell_type": "code",
      "source": [
        "arr_3d = np.array([[[1, 2, 3],\n",
        "                    [4, 5, 6]],\n",
        "\n",
        "                   [[7, 8, 9],\n",
        "                    [10, 11, 12]]])\n",
        "\n",
        "# Flip left to right\n",
        "result_fliplr_3d = np.fliplr(arr_3d)\n",
        "print(\"fliplr on 3D array:\\n\", result_fliplr_3d)\n",
        "\n",
        "# Flip upside down\n",
        "result_flipud_3d = np.flipud(arr_3d)\n",
        "print(\"flipud on 3D array:\\n\", result_flipud_3d)\n"
      ],
      "metadata": {
        "colab": {
          "base_uri": "https://localhost:8080/"
        },
        "id": "6T4IYlZT5_Gc",
        "outputId": "04d8db8b-681b-4c38-d476-a13474413727"
      },
      "execution_count": null,
      "outputs": [
        {
          "output_type": "stream",
          "name": "stdout",
          "text": [
            "fliplr on 3D array:\n",
            " [[[ 4  5  6]\n",
            "  [ 1  2  3]]\n",
            "\n",
            " [[10 11 12]\n",
            "  [ 7  8  9]]]\n",
            "flipud on 3D array:\n",
            " [[[ 7  8  9]\n",
            "  [10 11 12]]\n",
            "\n",
            " [[ 1  2  3]\n",
            "  [ 4  5  6]]]\n"
          ]
        }
      ]
    },
    {
      "cell_type": "markdown",
      "source": [
        "\n",
        "### 4. **Summary of Differences**\n",
        "\n",
        "| Function  | Operation                | Axis Affected         | Effect on Array       |\n",
        "|-----------|--------------------------|-----------------------|-----------------------|\n",
        "| `fliplr()` | Flip **left to right**    | Second axis (columns) | Reverses the columns   |\n",
        "| `flipud()` | Flip **up to down**       | First axis (rows)     | Reverses the rows      |\n",
        "\n",
        "### 5. **When to Use**:\n",
        "- **Use `fliplr()`** when you need to reverse the order of the columns in a 2D array.\n",
        "- **Use `flipud()`** when you need to reverse the order of the rows in a 2D array."
      ],
      "metadata": {
        "id": "8H0GT6r16POk"
      }
    },
    {
      "cell_type": "markdown",
      "source": [
        "Q9. Discuss the functionality of the array_split() method in NumPy. How does it handle uneven splits?"
      ],
      "metadata": {
        "id": "Wl0ce98t6fWr"
      }
    },
    {
      "cell_type": "markdown",
      "source": [
        "array_split() Method in NumPy\n",
        "The array_split() function in NumPy is used to split an array into multiple sub-arrays. Unlike the split() function, which requires the number of splits to divide evenly, array_split() can handle uneven splits by distributing the elements across sub-arrays as evenly as possible.\n",
        "\n",
        "1. Functionality of array_split()\n",
        "Purpose: It allows you to divide an array into smaller sub-arrays.\n",
        "Arguments:\n",
        "array: The array you want to split.\n",
        "indices_or_sections: The number of sections to divide the array into, or a list of indices where the splits should occur.\n",
        "Returns: A list of sub-arrays, which may vary in size if the array cannot be split evenly.\n",
        "2. Handling Uneven Splits\n",
        "When the size of the array is not evenly divisible by the number of splits, array_split() distributes the remainder across the earlier sub-arrays, making them slightly larger than the rest.\n",
        "\n",
        "Example of Uneven Split"
      ],
      "metadata": {
        "id": "JqfljXvt65n1"
      }
    },
    {
      "cell_type": "code",
      "source": [
        "import numpy as np\n",
        "\n",
        "# Create a 1D array with 10 elements\n",
        "arr = np.arange(10)\n",
        "\n",
        "# Split the array into 3 uneven parts\n",
        "result = np.array_split(arr, 3)\n",
        "print(\"Result of array_split into 3 parts:\")\n",
        "for sub_array in result:\n",
        "    print(sub_array)\n"
      ],
      "metadata": {
        "colab": {
          "base_uri": "https://localhost:8080/"
        },
        "id": "y8MWyeBx7DDy",
        "outputId": "3a896df1-3984-4813-d610-87b940e04391"
      },
      "execution_count": null,
      "outputs": [
        {
          "output_type": "stream",
          "name": "stdout",
          "text": [
            "Result of array_split into 3 parts:\n",
            "[0 1 2 3]\n",
            "[4 5 6]\n",
            "[7 8 9]\n"
          ]
        }
      ]
    },
    {
      "cell_type": "markdown",
      "source": [
        "Explanation: The array has 10 elements, but since 10 is not evenly divisible by 3, the first sub-array has 4 elements, and the remaining two sub-arrays have 3 elements each.\n",
        "3. Example of Even Split"
      ],
      "metadata": {
        "id": "-neT2U-O7ft0"
      }
    },
    {
      "cell_type": "code",
      "source": [
        "# Create a 1D array with 9 elements\n",
        "arr_even = np.arange(9)\n",
        "\n",
        "# Split the array into 3 even parts\n",
        "result_even = np.array_split(arr_even, 3)\n",
        "print(\"Result of array_split into 3 even parts:\")\n",
        "for sub_array in result_even:\n",
        "    print(sub_array)\n"
      ],
      "metadata": {
        "colab": {
          "base_uri": "https://localhost:8080/"
        },
        "id": "I6OqZJsY7hGr",
        "outputId": "b722a3c1-a022-4460-b8ab-3c151a139de0"
      },
      "execution_count": null,
      "outputs": [
        {
          "output_type": "stream",
          "name": "stdout",
          "text": [
            "Result of array_split into 3 even parts:\n",
            "[0 1 2]\n",
            "[3 4 5]\n",
            "[6 7 8]\n"
          ]
        }
      ]
    },
    {
      "cell_type": "markdown",
      "source": [
        "Explanation: Here, the array has 9 elements, which can be evenly divided into 3 sub-arrays of equal size.\n",
        "4. Splitting Multi-Dimensional Arrays\n",
        "The array_split() method works similarly for multi-dimensional arrays, splitting along a specified axis (default is axis 0).\n",
        "\n",
        "Example of 2D Array Split"
      ],
      "metadata": {
        "id": "99qIIZ8-7s6L"
      }
    },
    {
      "cell_type": "code",
      "source": [
        "# Create a 2D array\n",
        "arr_2d = np.arange(12).reshape(4, 3)\n",
        "\n",
        "# Split the 2D array into 3 uneven parts\n",
        "result_2d = np.array_split(arr_2d, 3)\n",
        "\n",
        "print(\"Result of array_split on 2D array:\")\n",
        "for sub_array in result_2d:\n",
        "    print(sub_array)\n"
      ],
      "metadata": {
        "colab": {
          "base_uri": "https://localhost:8080/"
        },
        "id": "Oxh0FUCV7uQz",
        "outputId": "996bbe7e-3377-43c1-9382-0b47ad786f9e"
      },
      "execution_count": null,
      "outputs": [
        {
          "output_type": "stream",
          "name": "stdout",
          "text": [
            "Result of array_split on 2D array:\n",
            "[[0 1 2]\n",
            " [3 4 5]]\n",
            "[[6 7 8]]\n",
            "[[ 9 10 11]]\n"
          ]
        }
      ]
    },
    {
      "cell_type": "markdown",
      "source": [
        "Explanation: The first two sub-arrays have 1 row each, and the third sub-array has 2 rows, as the split is uneven.\n",
        "5. Summary of array_split()\n",
        "Feature\tDescription\n",
        "Handles Uneven Splits\tDistributes extra elements across early sub-arrays\n",
        "Input\tArray and the number of sections or split indices\n",
        "Output\tList of sub-arrays (may vary in size if uneven)\n",
        "Multi-Dimensional Support\tCan split multi-dimensional arrays along specified axes\n",
        "6. When to Use:\n",
        "Use array_split() when you need to divide an array into parts and the total number of elements is not evenly divisible by the number of desired sections.\n",
        "\n",
        "\n",
        "\n",
        "\n",
        "\n"
      ],
      "metadata": {
        "id": "2DCeqpJZ77sD"
      }
    },
    {
      "cell_type": "markdown",
      "source": [],
      "metadata": {
        "id": "Rb_Jb26r7-rU"
      }
    },
    {
      "cell_type": "markdown",
      "source": [
        " Q10. Explain the concepts of vectorization and broadcasting in NumPy. How do they contribute to efficient array\n",
        "operations?\n"
      ],
      "metadata": {
        "id": "-tMUw9ic84Ab"
      }
    },
    {
      "cell_type": "markdown",
      "source": [
        "### Vectorization and Broadcasting in NumPy\n",
        "\n",
        "**Vectorization** and **broadcasting** are key concepts in NumPy that contribute significantly to efficient array operations, making computations faster and more readable by avoiding explicit loops.\n",
        "\n",
        "### 1. **Vectorization**\n",
        "\n",
        "#### Concept:\n",
        "- **Vectorization** refers to the process of performing operations on entire arrays (vectors) at once, rather than using explicit loops to iterate over individual elements.\n",
        "- It leverages low-level optimizations and parallelism implemented in compiled libraries (like C or Fortran) to execute operations much faster than equivalent Python loops.\n",
        "\n",
        "#### Benefits:\n",
        "- **Speed**: Operations on arrays are executed in compiled code, which is typically much faster than interpreted Python loops.\n",
        "- **Readability**: Code is more concise and easier to understand compared to manual looping constructs.\n",
        "- **Parallelism**: Vectorized operations can take advantage of parallel processing capabilities of modern CPUs.\n",
        "\n",
        "\n",
        "```\n",
        "- **Explanation**: The operation `a + b` adds corresponding elements from the two arrays without explicit loops, thanks to vectorization.\n",
        "\n",
        "### 2. **Broadcasting**\n",
        "\n",
        "#### Concept:\n",
        "- **Broadcasting** is a technique used to perform element-wise operations on arrays of different shapes. NumPy automatically adjusts the shapes of the arrays to make their dimensions compatible for element-wise operations.\n",
        "- Broadcasting follows specific rules to align the dimensions of arrays before performing operations.\n",
        "\n",
        "#### Rules of Broadcasting:\n",
        "1. **If the arrays have different numbers of dimensions**, the smaller array's shape is padded with ones on the left side until both arrays have the same number of dimensions.\n",
        "2. **Arrays are compatible for broadcasting** if the sizes of the dimensions are either the same or one of them is 1. If any size is different and neither is 1, broadcasting fails.\n",
        "3. **Broadcasting** aligns arrays from the trailing dimensions (rightmost) towards the left. It works on the dimensions from right to left, ensuring all dimensions are compatible.\n",
        "\n",
        "\n",
        "- **Explanation**: The 1D array `arr_1d` is broadcasted across the rows of `arr_2d`, so each row of `arr_2d` is added to `arr_1d` element-wise.\n",
        "\n",
        "### 3. **Contribution to Efficient Array Operations**\n",
        "\n",
        "#### Vectorization:\n",
        "- **Performance**: Operations on whole arrays are carried out in optimized, compiled code, reducing overhead and increasing speed compared to manual loops.\n",
        "- **Simplicity**: Code is more readable and concise, avoiding complex loop structures.\n",
        "\n",
        "#### Broadcasting:\n",
        "- **Flexibility**: Allows operations on arrays of different shapes without requiring explicit reshaping or replication.\n",
        "- **Efficiency**: Avoids the need to create large intermediate arrays by leveraging broadcasting rules, leading to memory savings and faster execution.\n",
        "\n",
        "### 4. **Summary**\n",
        "\n",
        "| Concept       | Description                                               | Example Use Case                        |\n",
        "|---------------|-----------------------------------------------------------|-----------------------------------------|\n",
        "| **Vectorization** | Performing operations on entire arrays simultaneously | Array addition, multiplication          |\n",
        "| **Broadcasting**  | Extending smaller arrays to match larger ones for element-wise operations | Adding a vector to each row of a matrix |\n",
        "\n",
        "### 5. **When to Use**:\n",
        "- **Vectorization**: Use it to perform operations on entire arrays or matrices in a more efficient and readable manner.\n",
        "- **Broadcasting**: Use it to perform element-wise operations on arrays of different shapes without manual resizing or replication."
      ],
      "metadata": {
        "id": "5TBZZn8a8bB7"
      }
    },
    {
      "cell_type": "markdown",
      "source": [],
      "metadata": {
        "id": "sPn46T_06cHb"
      }
    },
    {
      "cell_type": "code",
      "source": [
        "import numpy as np\n",
        "\n",
        "# Create a 2D array and a 1D array\n",
        "arr_2d = np.array([[1, 2, 3], [4, 5, 6]])\n",
        "arr_1d = np.array([10, 20, 30])\n",
        "\n",
        "# Broadcasting addition\n",
        "result = arr_2d + arr_1d\n",
        "print(\"Broadcasting addition result:\\n\", result)\n"
      ],
      "metadata": {
        "colab": {
          "base_uri": "https://localhost:8080/"
        },
        "id": "BnOORidX8oz7",
        "outputId": "5fd50410-e964-41a3-c54e-1117a0933643"
      },
      "execution_count": null,
      "outputs": [
        {
          "output_type": "stream",
          "name": "stdout",
          "text": [
            "Broadcasting addition result:\n",
            " [[11 22 33]\n",
            " [14 25 36]]\n"
          ]
        }
      ]
    },
    {
      "cell_type": "code",
      "source": [
        "import numpy as np\n",
        "\n",
        "# Create two arrays\n",
        "a = np.array([1, 2, 3, 4])\n",
        "b = np.array([5, 6, 7, 8])\n",
        "\n",
        "# Vectorized addition\n",
        "result = a + b\n",
        "print(\"Vectorized addition result:\", result)\n"
      ],
      "metadata": {
        "colab": {
          "base_uri": "https://localhost:8080/"
        },
        "id": "vxuXJn3o8rdD",
        "outputId": "906cdccc-a5a7-4ccf-d0e0-5f60769ec678"
      },
      "execution_count": null,
      "outputs": [
        {
          "output_type": "stream",
          "name": "stdout",
          "text": [
            "Vectorized addition result: [ 6  8 10 12]\n"
          ]
        }
      ]
    },
    {
      "cell_type": "markdown",
      "source": [
        "Practical Questions:"
      ],
      "metadata": {
        "id": "_SPj-7E09JWe"
      }
    },
    {
      "cell_type": "markdown",
      "source": [
        "Q 1. Create a 3x3 NumPy array with random integers between 1 and 100. Then, interchange its rows and columns."
      ],
      "metadata": {
        "id": "VmUB18CE9PkU"
      }
    },
    {
      "cell_type": "code",
      "source": [
        "import numpy as np\n",
        "\n",
        "# Generate a 3x3 array of random numbers between 0 and 1\n",
        "arr1 = np.random.randint(1,101,size=(3, 3))\n",
        "\n",
        "# Reverse the rows of the 2D array\n",
        "reversed_arr_2d = arr1[::-1, :]\n",
        "\n",
        "print(\"Original random array:\\n\", arr1)\n",
        "print(\"Reversed 2D Array:\\n\", reversed_arr_2d)\n"
      ],
      "metadata": {
        "colab": {
          "base_uri": "https://localhost:8080/"
        },
        "id": "K1tvnPMHDIFA",
        "outputId": "54c4ea5c-bec6-4762-95b8-5d6f8bf4c738"
      },
      "execution_count": null,
      "outputs": [
        {
          "output_type": "stream",
          "name": "stdout",
          "text": [
            "Original random array:\n",
            " [[78 42 63]\n",
            " [82 63 94]\n",
            " [69 82 45]]\n",
            "Reversed 2D Array:\n",
            " [[69 82 45]\n",
            " [82 63 94]\n",
            " [78 42 63]]\n"
          ]
        }
      ]
    },
    {
      "cell_type": "markdown",
      "source": [
        "Q2. Generate a 1D NumPy array with 10 elements. Reshape it into a 2x5 array, then into a 5x2 array."
      ],
      "metadata": {
        "id": "MkoC-233Dgkm"
      }
    },
    {
      "cell_type": "code",
      "source": [
        "import numpy as np\n",
        "#Generate a 1D NumPy array with 10 elements.\n",
        "arr1 = np.array([1,2,3,4,5,6,7,8,9,10])\n",
        "arr2 = arr1.reshape(2,5)\n",
        "arr3 = arr1.reshape(5,2)\n",
        "print(\"array arr1 is\",arr1)\n",
        "print(\"array arr2 is\\n\",arr2)\n",
        "print(\"array arr3 is\\n\",arr3)"
      ],
      "metadata": {
        "colab": {
          "base_uri": "https://localhost:8080/"
        },
        "id": "zdaVYhodDbxI",
        "outputId": "ae8716f3-a2ec-4050-cf44-12314e99df03"
      },
      "execution_count": null,
      "outputs": [
        {
          "output_type": "stream",
          "name": "stdout",
          "text": [
            "array arr1 is [ 1  2  3  4  5  6  7  8  9 10]\n",
            "array arr2 is\n",
            " [[ 1  2  3  4  5]\n",
            " [ 6  7  8  9 10]]\n",
            "array arr3 is\n",
            " [[ 1  2]\n",
            " [ 3  4]\n",
            " [ 5  6]\n",
            " [ 7  8]\n",
            " [ 9 10]]\n"
          ]
        }
      ]
    },
    {
      "cell_type": "markdown",
      "source": [
        " Q3. Create a 4x4 NumPy array with random float values. Add a border of zeros around it, resulting in a 6x6 array."
      ],
      "metadata": {
        "id": "6RGMkSK-FFbL"
      }
    },
    {
      "cell_type": "code",
      "source": [
        "import numpy as np\n",
        "\n",
        "# Create a 4x4 array with random floats between 0 and 1\n",
        "arr1 = np.random.rand(4, 4)\n",
        "\n",
        "# Create a 6x6 array with zeros\n",
        "arr_zeros = np.zeros((6, 6))\n",
        "\n",
        "# Extract a 4x4 slice from the 6x6 zero array\n",
        "# The slice arr_zeros[1:5, 1:5] gives a 4x4 array from arr_zeros\n",
        "arr_slice = arr_zeros[1:5, 1:5]\n",
        "\n",
        "# Add the random array to the slice of zeros\n",
        "resulting_array = arr_slice + arr1\n",
        "\n",
        "print(\"Random array:\\n\", arr1)\n",
        "print(\"Zeros array:\\n\", arr_zeros)\n",
        "print(\"Resulting array:\\n\", resulting_array)\n"
      ],
      "metadata": {
        "colab": {
          "base_uri": "https://localhost:8080/"
        },
        "id": "Jpvl-K6OIWZY",
        "outputId": "72311c3f-9c7d-40a7-d551-dc88fa62a173"
      },
      "execution_count": null,
      "outputs": [
        {
          "output_type": "stream",
          "name": "stdout",
          "text": [
            "Random array:\n",
            " [[0.55181381 0.99196632 0.56959959 0.69351531]\n",
            " [0.2169017  0.73946586 0.15900627 0.58207036]\n",
            " [0.19688389 0.31784089 0.13878357 0.05241932]\n",
            " [0.14999212 0.11001403 0.3423288  0.37330849]]\n",
            "Zeros array:\n",
            " [[0. 0. 0. 0. 0. 0.]\n",
            " [0. 0. 0. 0. 0. 0.]\n",
            " [0. 0. 0. 0. 0. 0.]\n",
            " [0. 0. 0. 0. 0. 0.]\n",
            " [0. 0. 0. 0. 0. 0.]\n",
            " [0. 0. 0. 0. 0. 0.]]\n",
            "Resulting array:\n",
            " [[0.55181381 0.99196632 0.56959959 0.69351531]\n",
            " [0.2169017  0.73946586 0.15900627 0.58207036]\n",
            " [0.19688389 0.31784089 0.13878357 0.05241932]\n",
            " [0.14999212 0.11001403 0.3423288  0.37330849]]\n"
          ]
        }
      ]
    },
    {
      "cell_type": "code",
      "source": [
        "import numpy as np\n",
        "\n",
        "# Create a 4x4 array with random float values between 0 and 1\n",
        "arr = np.random.rand(4, 4)\n",
        "\n",
        "# Add a border of zeros around the 4x4 array to create a 6x6 array\n",
        "# The pad_width argument specifies the number of values padded to the edges of each axis\n",
        "padded_arr = np.pad(arr, pad_width=1, mode='constant', constant_values=0)\n",
        "\n",
        "print(\"Original 4x4 array:\\n\", arr)\n",
        "print(\"6x6 array with zero border:\\n\", padded_arr)\n"
      ],
      "metadata": {
        "colab": {
          "base_uri": "https://localhost:8080/"
        },
        "id": "6rYbFCdOJMfL",
        "outputId": "b6cb4765-03a1-408b-d8a0-7e3f4b7e1977"
      },
      "execution_count": null,
      "outputs": [
        {
          "output_type": "stream",
          "name": "stdout",
          "text": [
            "Original 4x4 array:\n",
            " [[0.24722117 0.01260514 0.45055054 0.7190227 ]\n",
            " [0.15380251 0.28578313 0.99115282 0.53764257]\n",
            " [0.9050653  0.85618251 0.3680161  0.15844176]\n",
            " [0.56333839 0.41803058 0.37890109 0.8534018 ]]\n",
            "6x6 array with zero border:\n",
            " [[0.         0.         0.         0.         0.         0.        ]\n",
            " [0.         0.24722117 0.01260514 0.45055054 0.7190227  0.        ]\n",
            " [0.         0.15380251 0.28578313 0.99115282 0.53764257 0.        ]\n",
            " [0.         0.9050653  0.85618251 0.3680161  0.15844176 0.        ]\n",
            " [0.         0.56333839 0.41803058 0.37890109 0.8534018  0.        ]\n",
            " [0.         0.         0.         0.         0.         0.        ]]\n"
          ]
        }
      ]
    },
    {
      "cell_type": "markdown",
      "source": [
        "Q 4. Using NumPy, create an array of integers from 10 to 60 with a step of 5."
      ],
      "metadata": {
        "id": "9Hq_9PEPJhwu"
      }
    },
    {
      "cell_type": "code",
      "source": [
        "import numpy as np\n",
        "arr = np.arange(10,60,5)\n",
        "print(\"array of integers from 10 to 60 with a step of 5.\",arr)\n",
        "arr1 = np.linspace(10,60,5)\n",
        "print(\"array of integers from 10 to 60 with a step of 5.\",arr1)"
      ],
      "metadata": {
        "colab": {
          "base_uri": "https://localhost:8080/"
        },
        "id": "XMGodd-sJbhk",
        "outputId": "413d301a-9661-4770-b172-0b931ffef3d8"
      },
      "execution_count": null,
      "outputs": [
        {
          "output_type": "stream",
          "name": "stdout",
          "text": [
            "array of integers from 10 to 60 with a step of 5. [10 15 20 25 30 35 40 45 50 55]\n",
            "array of integers from 10 to 60 with a step of 5. [10.  22.5 35.  47.5 60. ]\n"
          ]
        }
      ]
    },
    {
      "cell_type": "markdown",
      "source": [
        "Q 5. Create a NumPy array of strings ['python', 'numpy', 'pandas']. Apply different case transformations\n",
        "(uppercase, lowercase, title case, etc.) to each element."
      ],
      "metadata": {
        "id": "_qq_xV3zLUe2"
      }
    },
    {
      "cell_type": "code",
      "source": [
        "import numpy as np\n",
        "\n",
        "# Create a NumPy array of strings\n",
        "array_of_strings = np.array(['python', 'numpy', 'pandas'])\n",
        "\n",
        "# Apply different case transformations\n",
        "uppercase_array = np.char.upper(array_of_strings)\n",
        "lowercase_array = np.char.lower(array_of_strings)\n",
        "titlecase_array = np.char.title(array_of_strings)\n",
        "\n",
        "array_of_strings, uppercase_array, lowercase_array, titlecase_array\n"
      ],
      "metadata": {
        "id": "ySwRkr3iKx8o",
        "colab": {
          "base_uri": "https://localhost:8080/"
        },
        "outputId": "d0614812-83f6-49d0-982c-c8ef11b65c22"
      },
      "execution_count": 15,
      "outputs": [
        {
          "output_type": "execute_result",
          "data": {
            "text/plain": [
              "(array(['python', 'numpy', 'pandas'], dtype='<U6'),\n",
              " array(['PYTHON', 'NUMPY', 'PANDAS'], dtype='<U6'),\n",
              " array(['python', 'numpy', 'pandas'], dtype='<U6'),\n",
              " array(['Python', 'Numpy', 'Pandas'], dtype='<U6'))"
            ]
          },
          "metadata": {},
          "execution_count": 15
        }
      ]
    },
    {
      "cell_type": "markdown",
      "source": [
        " Q6. Generate a NumPy array of words. Insert a space between each character of every word in the array."
      ],
      "metadata": {
        "id": "kjyEjQZPLn31"
      }
    },
    {
      "cell_type": "code",
      "source": [
        "import numpy as np\n",
        "\n",
        "# Create an array with a single string element\n",
        "char_array = np.array([\"Insert a space between each character of every word in the array\"])\n",
        "\n",
        "# Process the string to add spaces between each character\n",
        "processed_string = ' '.join(char_array[0])\n",
        "\n",
        "# Create a NumPy array with the processed string\n",
        "result_array = np.array([processed_string])\n",
        "\n",
        "print(\"Processed array:\\n\", result_array)\n"
      ],
      "metadata": {
        "colab": {
          "base_uri": "https://localhost:8080/"
        },
        "id": "TluLt2cIMhlZ",
        "outputId": "23102ad3-7729-4006-c155-d51ac379a6ed"
      },
      "execution_count": null,
      "outputs": [
        {
          "output_type": "stream",
          "name": "stdout",
          "text": [
            "Processed array:\n",
            " ['I n s e r t   a   s p a c e   b e t w e e n   e a c h   c h a r a c t e r   o f   e v e r y   w o r d   i n   t h e   a r r a y']\n"
          ]
        }
      ]
    },
    {
      "cell_type": "markdown",
      "source": [
        " Q7. Create two 2D NumPy arrays and perform element-wise addition, subtraction, multiplication, and division."
      ],
      "metadata": {
        "id": "x1YIIxIJNREa"
      }
    },
    {
      "cell_type": "code",
      "source": [
        "import numpy as np\n",
        "\n",
        "# Create two 2D arrays\n",
        "array1 = np.array([[1, 2, 3], [4, 5, 6]])\n",
        "array2 = np.array([[7, 8, 9], [10, 11, 12]])\n",
        "\n",
        "# Element-wise addition\n",
        "addition_result = array1 + array2\n",
        "\n",
        "# Element-wise subtraction\n",
        "subtraction_result = array1 - array2\n",
        "\n",
        "# Element-wise multiplication\n",
        "multiplication_result = array1 * array2\n",
        "\n",
        "# Element-wise division\n",
        "# To avoid division by zero, ensure there are no zero values in array2\n",
        "division_result = array1 / array2\n",
        "\n",
        "print(\"Array 1:\\n\", array1)\n",
        "print(\"Array 2:\\n\", array2)\n",
        "print(\"Element-wise addition:\\n\", addition_result)\n",
        "print(\"Element-wise subtraction:\\n\", subtraction_result)\n",
        "print(\"Element-wise multiplication:\\n\", multiplication_result)\n",
        "print(\"Element-wise division:\\n\", division_result)\n"
      ],
      "metadata": {
        "colab": {
          "base_uri": "https://localhost:8080/"
        },
        "id": "rywHrC3JNS1N",
        "outputId": "4b72e901-0fde-456e-df45-ee781d5601c2"
      },
      "execution_count": null,
      "outputs": [
        {
          "output_type": "stream",
          "name": "stdout",
          "text": [
            "Array 1:\n",
            " [[1 2 3]\n",
            " [4 5 6]]\n",
            "Array 2:\n",
            " [[ 7  8  9]\n",
            " [10 11 12]]\n",
            "Element-wise addition:\n",
            " [[ 8 10 12]\n",
            " [14 16 18]]\n",
            "Element-wise subtraction:\n",
            " [[-6 -6 -6]\n",
            " [-6 -6 -6]]\n",
            "Element-wise multiplication:\n",
            " [[ 7 16 27]\n",
            " [40 55 72]]\n",
            "Element-wise division:\n",
            " [[0.14285714 0.25       0.33333333]\n",
            " [0.4        0.45454545 0.5       ]]\n"
          ]
        }
      ]
    },
    {
      "cell_type": "markdown",
      "source": [
        "Q8. Use NumPy to create a 5x5 identity matrix, then extract its diagonal elements."
      ],
      "metadata": {
        "id": "7CNOYYSfNqDo"
      }
    },
    {
      "cell_type": "code",
      "source": [
        "import numpy as np\n",
        "arr1 = np.eye(5,dtype = int)\n",
        "print(\"create a 5x5 identity matrix\\n\",arr1)\n",
        "arr2 = arr1[arr1 >= 1]\n",
        "print(\"extract its diagonal elements\\n\",arr2)\n"
      ],
      "metadata": {
        "colab": {
          "base_uri": "https://localhost:8080/"
        },
        "id": "2-JZZolJNxvk",
        "outputId": "915f54c6-a0b7-4b25-8811-b9cbfe5bb49a"
      },
      "execution_count": null,
      "outputs": [
        {
          "output_type": "stream",
          "name": "stdout",
          "text": [
            "create a 5x5 identity matrix\n",
            " [[1 0 0 0 0]\n",
            " [0 1 0 0 0]\n",
            " [0 0 1 0 0]\n",
            " [0 0 0 1 0]\n",
            " [0 0 0 0 1]]\n",
            "extract its diagonal elements\n",
            " [1 1 1 1 1]\n"
          ]
        }
      ]
    },
    {
      "cell_type": "markdown",
      "source": [
        "Q 9. Generate a NumPy array of 100 random integers between 0 and 1000. Find and display all prime numbers in\n",
        "this array."
      ],
      "metadata": {
        "id": "Gz5fHs_jwdrD"
      }
    },
    {
      "cell_type": "code",
      "source": [
        "import numpy as np\n",
        "\n",
        "# Function to check if a number is prime\n",
        "def is_prime(num):\n",
        "    if num < 2:\n",
        "        return False\n",
        "    for i in range(2, int(np.sqrt(num)) + 1):\n",
        "        if num % i == 0:\n",
        "            return False\n",
        "    return True\n",
        "\n",
        "# Generate a NumPy array of 100 random integers between 0 and 1000\n",
        "random_integers = np.random.randint(0, 1001, size=100)\n",
        "\n",
        "# Find and display all prime numbers in the array\n",
        "prime_numbers = [num for num in random_integers if is_prime(num)]\n",
        "\n",
        "random_integers, prime_numbers\n"
      ],
      "metadata": {
        "colab": {
          "base_uri": "https://localhost:8080/"
        },
        "id": "7fURiudNxKb5",
        "outputId": "b4f43997-cc88-407f-c045-e96ff88befb4"
      },
      "execution_count": 5,
      "outputs": [
        {
          "output_type": "execute_result",
          "data": {
            "text/plain": [
              "(array([ 55, 353, 569, 321, 244, 362, 292,  88, 576, 496, 691,  94, 305,\n",
              "         66, 428, 374,  98, 294, 519, 640, 378, 202, 670, 737, 396, 663,\n",
              "        261, 448, 472, 656,  29, 610, 862, 659, 923, 767, 198, 842, 130,\n",
              "        610, 929, 170,  69, 655, 160, 233, 777, 179,  47,  44,  14, 619,\n",
              "        118, 475,  78, 800, 552, 763, 208, 671, 940, 574, 556, 971, 670,\n",
              "        542, 447, 192, 131, 419, 283, 807,  52, 940,  35, 205, 844, 283,\n",
              "        758, 494, 642, 369, 137,  13, 590, 488, 961, 790, 824, 349, 512,\n",
              "        483, 546, 266, 277, 193, 146, 173, 721,  52]),\n",
              " [353,\n",
              "  569,\n",
              "  691,\n",
              "  29,\n",
              "  659,\n",
              "  929,\n",
              "  233,\n",
              "  179,\n",
              "  47,\n",
              "  619,\n",
              "  971,\n",
              "  131,\n",
              "  419,\n",
              "  283,\n",
              "  283,\n",
              "  137,\n",
              "  13,\n",
              "  349,\n",
              "  277,\n",
              "  193,\n",
              "  173])"
            ]
          },
          "metadata": {},
          "execution_count": 5
        }
      ]
    },
    {
      "cell_type": "markdown",
      "source": [
        "Q 10. Create a NumPy array representing daily temperatures for a month. Calculate and display the weekly\n",
        "averages"
      ],
      "metadata": {
        "id": "uK57Ikt476LN"
      }
    },
    {
      "cell_type": "code",
      "source": [
        "# Daily temperatures for a month.\n",
        "import numpy as np\n",
        "may = np.random.randint(24,34,size=(5,7))\n",
        "print(\"Daily temperatures for may month\\n Mon Tue Web Thur Fri Sat Sun\\n\",may)\n",
        "week1= sum[may[0][range(0,7)]]%7\n",
        "week1"
      ],
      "metadata": {
        "colab": {
          "base_uri": "https://localhost:8080/",
          "height": 332
        },
        "id": "HBib80vU7_WV",
        "outputId": "4434f10e-2e26-419b-f21e-7acb64fc008c"
      },
      "execution_count": 10,
      "outputs": [
        {
          "output_type": "stream",
          "name": "stdout",
          "text": [
            "Daily temperatures for may month\n",
            " Mon Tue Web Thur Fri Sat Sun\n",
            " [[26 32 33 31 28 30 29]\n",
            " [24 24 24 33 33 29 24]\n",
            " [28 30 33 24 28 28 29]\n",
            " [31 27 24 24 29 27 31]\n",
            " [24 31 32 31 26 33 27]]\n"
          ]
        },
        {
          "output_type": "error",
          "ename": "TypeError",
          "evalue": "'builtin_function_or_method' object is not subscriptable",
          "traceback": [
            "\u001b[0;31m---------------------------------------------------------------------------\u001b[0m",
            "\u001b[0;31mTypeError\u001b[0m                                 Traceback (most recent call last)",
            "\u001b[0;32m<ipython-input-10-f82884d0b113>\u001b[0m in \u001b[0;36m<cell line: 5>\u001b[0;34m()\u001b[0m\n\u001b[1;32m      3\u001b[0m \u001b[0mmay\u001b[0m \u001b[0;34m=\u001b[0m \u001b[0mnp\u001b[0m\u001b[0;34m.\u001b[0m\u001b[0mrandom\u001b[0m\u001b[0;34m.\u001b[0m\u001b[0mrandint\u001b[0m\u001b[0;34m(\u001b[0m\u001b[0;36m24\u001b[0m\u001b[0;34m,\u001b[0m\u001b[0;36m34\u001b[0m\u001b[0;34m,\u001b[0m\u001b[0msize\u001b[0m\u001b[0;34m=\u001b[0m\u001b[0;34m(\u001b[0m\u001b[0;36m5\u001b[0m\u001b[0;34m,\u001b[0m\u001b[0;36m7\u001b[0m\u001b[0;34m)\u001b[0m\u001b[0;34m)\u001b[0m\u001b[0;34m\u001b[0m\u001b[0;34m\u001b[0m\u001b[0m\n\u001b[1;32m      4\u001b[0m \u001b[0mprint\u001b[0m\u001b[0;34m(\u001b[0m\u001b[0;34m\"Daily temperatures for may month\\n Mon Tue Web Thur Fri Sat Sun\\n\"\u001b[0m\u001b[0;34m,\u001b[0m\u001b[0mmay\u001b[0m\u001b[0;34m)\u001b[0m\u001b[0;34m\u001b[0m\u001b[0;34m\u001b[0m\u001b[0m\n\u001b[0;32m----> 5\u001b[0;31m \u001b[0mweek1\u001b[0m\u001b[0;34m=\u001b[0m \u001b[0msum\u001b[0m\u001b[0;34m[\u001b[0m\u001b[0mmay\u001b[0m\u001b[0;34m[\u001b[0m\u001b[0;36m0\u001b[0m\u001b[0;34m]\u001b[0m\u001b[0;34m[\u001b[0m\u001b[0mrange\u001b[0m\u001b[0;34m(\u001b[0m\u001b[0;36m0\u001b[0m\u001b[0;34m,\u001b[0m\u001b[0;36m7\u001b[0m\u001b[0;34m)\u001b[0m\u001b[0;34m]\u001b[0m\u001b[0;34m]\u001b[0m\u001b[0;34m%\u001b[0m\u001b[0;36m7\u001b[0m\u001b[0;34m\u001b[0m\u001b[0;34m\u001b[0m\u001b[0m\n\u001b[0m\u001b[1;32m      6\u001b[0m \u001b[0mweek1\u001b[0m\u001b[0;34m\u001b[0m\u001b[0;34m\u001b[0m\u001b[0m\n",
            "\u001b[0;31mTypeError\u001b[0m: 'builtin_function_or_method' object is not subscriptable"
          ]
        }
      ]
    },
    {
      "cell_type": "code",
      "source": [
        "import numpy as np\n",
        "\n",
        "# Generate random temperatures between 24 and 34 for a 5-week period (5x7 matrix)\n",
        "may = np.random.randint(24, 34, size=(5, 7))\n",
        "\n",
        "print(\"Daily temperatures for May month\\nMon Tue Wed Thur Fri Sat Sun\\n\", may)\n",
        "\n",
        "# Calculate the average of the temperatures for week 1\n",
        "week1 = sum(may[0])\n",
        "Averageweek1 = week1/7\n",
        "print(\"Average of temperatures for week 1:\", Averageweek1)\n",
        "\n",
        "# Calculate the average of the temperatures for week 2\n",
        "week2 = sum(may[1])\n",
        "Averageweek2 = week2/7\n",
        "print(\"Average of temperatures for week 2:\", Averageweek2)\n",
        "\n",
        "# Calculate the average of the temperatures for week 3\n",
        "week3 = sum(may[2])\n",
        "Averageweek3 = week3/7\n",
        "print(\"Average of temperatures for week 3:\", Averageweek3)\n",
        "\n",
        "# Calculate the average of the temperatures for week 4\n",
        "week4 = sum(may[3])\n",
        "Averageweek4 = week4/7\n",
        "print(\"Average of temperatures for week 4:\", Averageweek4)\n",
        "\n",
        "# Calculate the average of the temperatures for week 5\n",
        "week5 = sum(may[4])\n",
        "Averageweek5 = week5/7\n",
        "print(\"Average of temperatures for week 5:\", Averageweek5)\n",
        "\n"
      ],
      "metadata": {
        "colab": {
          "base_uri": "https://localhost:8080/"
        },
        "id": "e80U4Xd_-LjC",
        "outputId": "14c1e1fb-5f80-48e4-d4a4-a71c9f5cb744"
      },
      "execution_count": 14,
      "outputs": [
        {
          "output_type": "stream",
          "name": "stdout",
          "text": [
            "Daily temperatures for May month\n",
            "Mon Tue Wed Thur Fri Sat Sun\n",
            " [[25 30 26 33 28 29 28]\n",
            " [31 27 25 30 27 27 27]\n",
            " [31 33 26 28 29 24 31]\n",
            " [31 29 33 31 29 28 33]\n",
            " [33 30 31 30 25 29 32]]\n",
            "Average of temperatures for week 1: 28.428571428571427\n",
            "Average of temperatures for week 2: 27.714285714285715\n",
            "Average of temperatures for week 3: 28.857142857142858\n",
            "Average of temperatures for week 4: 30.571428571428573\n",
            "Average of temperatures for week 5: 30.0\n"
          ]
        }
      ]
    }
  ]
}