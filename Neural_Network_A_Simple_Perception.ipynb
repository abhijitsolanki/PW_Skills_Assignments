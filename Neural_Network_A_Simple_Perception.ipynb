{
  "cells": [
    {
      "cell_type": "markdown",
      "source": [
        "Of course. Here are the answers to the assignment questions based on the provided document.\n",
        "\n",
        "-----\n",
        "\n",
        "### **Theoretical Questions**\n",
        "\n",
        "#### **1. What is deep learning, and how is it connected to artificial intelligence?**\n",
        "\n",
        "Artificial Intelligence (AI) is a broad field of computer science focused on creating machines capable of intelligent behavior. Machine Learning (ML) is a subset of AI where systems learn from data to make predictions or decisions without being explicitly programmed.\n",
        "\n",
        "Deep Learning (DL) is a further subfield of ML. Its key characteristic is the use of neural networks with many layers (hence \"deep\"). These deep neural networks, known as Deep Neural Networks (DNNs), are inspired by the structure and function of the human brain. They automatically learn hierarchical representations of data, meaning simple features are learned in the initial layers and are combined to form more complex features in deeper layers. This ability to learn features directly from data is what makes deep learning so powerful for tasks like image recognition, natural language processing, and speech recognition.\n",
        "\n",
        "In short, the connection is: AI \\> Machine Learning \\> Deep Learning.\n",
        "\n",
        "#### **2. What is a neural network, and what are the different types of neural networks?**\n",
        "\n",
        "A neural network is a computational model inspired by the biological neural networks that constitute animal brains. It consists of interconnected nodes, called neurons or units, organized in layers. Each connection has an associated weight, which is adjusted during the learning process. The network learns by processing examples, each of which contains a known \"input\" and \"result,\" forming probability-weighted associations between the two.\n",
        "\n",
        "There are several types of neural networks, each suited for different tasks:\n",
        "\n",
        "  * **Feedforward Neural Networks (FNNs):** The simplest type, where information moves in only one direction—from the input layer, through the hidden layers, to the output layer. The Perceptron is the most basic form of an FNN.\n",
        "  * **Convolutional Neural Networks (CNNs):** Primarily used for image processing and computer vision. They use special layers called convolutional layers to automatically and adaptively learn spatial hierarchies of features from images.\n",
        "  * **Recurrent Neural Networks (RNNs):** Designed to work with sequential data, such as time series or text. They have connections that form directed cycles, allowing them to maintain an internal state or \"memory\" of past information.\n",
        "  * **Long Short-Term Memory (LSTM) Networks:** A special kind of RNN that is better at learning long-term dependencies, overcoming some of the limitations of standard RNNs.\n",
        "  * **Transformer Networks:** A more modern architecture that relies on an attention mechanism to handle sequential data. It has become the state-of-the-art for most natural language processing (NLP) tasks.\n",
        "\n",
        "#### **3. What is the mathematical structure of a neural network?**\n",
        "\n",
        "A neural network is a collection of connected neurons organized in layers. The mathematical operation of a single neuron can be described as follows:\n",
        "\n",
        "1.  It receives a set of inputs, $x_1, x_2, ..., x_n$.\n",
        "2.  Each input is multiplied by a corresponding weight, $w_1, w_2, ..., w_n$.\n",
        "3.  The weighted inputs are summed together, and a bias term, $b$, is added. This forms the net input, $z$.\n",
        "    $$z = (w_1x_1 + w_2x_2 + ... + w_nx_n) + b = \\sum_{i=1}^{n} w_i x_i + b$$\n",
        "    In vector notation, this is more cleanly expressed as $z = \\mathbf{w} \\cdot \\mathbf{x} + b$.\n",
        "4.  The net input $z$ is then passed through a non-linear activation function, $f$, to produce the neuron's final output, $y$.\n",
        "    $$y = f(z) = f(\\mathbf{w} \\cdot \\mathbf{x} + b)$$\n",
        "    In a full network, the output of the neurons in one layer becomes the input for the neurons in the next layer. This structure of linear transformations (weighted sum) followed by non-linear activations allows the network to learn and approximate highly complex, non-linear functions.\n",
        "\n",
        "#### **4. What is an activation function, and why is it essential in a neural network?**\n",
        "\n",
        "An activation function is a mathematical function applied to the output of a neuron. It introduces non-linearity into the network.\n",
        "\n",
        "This non-linearity is essential because most real-world data is complex and non-linear. Without activation functions (or with only linear activation functions), a neural network, no matter how many layers it has, would behave just like a single-layer linear model. It would only be able to learn linear relationships. The introduction of non-linearity allows the network to learn complex patterns and approximate any continuous function, which is fundamental to its power.\n",
        "\n",
        "#### **5. Could you list some common activation functions used in neural networks?**\n",
        "\n",
        "Here are some common activation functions:\n",
        "\n",
        "  * **Sigmoid:** It squashes the output to a range between 0 and 1. It's often used in the output layer for binary classification problems.\n",
        "    $$\\sigma(z) = \\frac{1}{1 + e^{-z}}$$\n",
        "  * **Hyperbolic Tangent (Tanh):** Similar to sigmoid but squashes the output to a range between -1 and 1.\n",
        "    $$\\tanh(z) = \\frac{e^z - e^{-z}}{e^z + e^{-z}}$$\n",
        "  * **Rectified Linear Unit (ReLU):** This is the most widely used activation function. It outputs the input directly if it is positive, and zero otherwise. It is computationally efficient and helps mitigate the vanishing gradient problem.\n",
        "    $$\\text{ReLU}(z) = \\max(0, z)$$\n",
        "  * **Leaky ReLU:** A variation of ReLU that allows a small, non-zero gradient when the unit is not active to prevent \"dying ReLU\" problems.\n",
        "    $$\\text{Leaky ReLU}(z) = \\begin{cases} z & \\text{if } z > 0 \\\\ \\alpha z & \\text{otherwise} \\end{cases} \\quad (\\text{where } \\alpha \\text{ is a small constant like 0.01})$$\n",
        "  * **Softmax:** Used in the output layer for multi-class classification problems. It converts a vector of raw scores (logits) into a probability distribution, where the sum of all elements is 1.\n",
        "    $$\\text{Softmax}(z_i) = \\frac{e^{z_i}}{\\sum_{j=1}^{K} e^{z_j}} \\quad \\text{for } i=1, ..., K$$\n",
        "\n",
        "#### **6. What is a multilayer neural network?**\n",
        "\n",
        "A multilayer neural network, also known as a Multilayer Perceptron (MLP), is a type of feedforward neural network that has at least one hidden layer of neurons between the input and output layers. A simple perceptron has only an input and an output layer and can only learn linearly separable patterns. By adding one or more hidden layers, the network can learn complex, non-linear relationships between the inputs and outputs. Any network with more than one layer (i.e., at least one hidden layer) is considered a \"deep\" network, forming the basis of deep learning.\n",
        "\n",
        "#### **7. What is a loss function, and why is it crucial for neural network training?**\n",
        "\n",
        "A loss function (or cost function) is a method of evaluating how well a specific algorithm models the given data. It quantifies the difference—or \"error\"—between the network's predicted output and the true target value.\n",
        "\n",
        "The loss function is crucial for training because it provides the signal used to update the network's weights. The goal of training is to find a set of weights and biases that minimizes the loss function. The learning process involves calculating the loss for a batch of data, then using an optimization algorithm (like Gradient Descent) to adjust the weights in the direction that reduces the loss. Without a loss function, there would be no way to measure the performance of the network and guide its learning.\n",
        "\n",
        "#### **8. What are some common types of loss functions?**\n",
        "\n",
        "The choice of loss function depends on the type of problem being solved:\n",
        "\n",
        "  * **For Regression Problems (predicting continuous values):**\n",
        "\n",
        "      * **Mean Squared Error (MSE):** Calculates the average of the squares of the differences between the predicted and actual values.\n",
        "        $$\\text{MSE} = \\frac{1}{n} \\sum_{i=1}^{n} (y_i - \\hat{y}_i)^2$$\n",
        "      * **Mean Absolute Error (MAE):** Calculates the average of the absolute differences between the predicted and actual values. It is less sensitive to outliers than MSE.\n",
        "        $$\\text{MAE} = \\frac{1}{n} \\sum_{i=1}^{n} |y_i - \\hat{y}_i|$$\n",
        "\n",
        "  * **For Classification Problems (predicting a category):**\n",
        "\n",
        "      * **Binary Cross-Entropy:** Used for binary (two-class) classification problems.\n",
        "        $$L = -\\frac{1}{n} \\sum_{i=1}^{n} [y_i \\log(\\hat{y}_i) + (1 - y_i) \\log(1 - \\hat{y}_i)]$$\n",
        "      * **Categorical Cross-Entropy:** Used for multi-class classification problems where each sample belongs to exactly one class.\n",
        "        $$L = -\\frac{1}{n} \\sum_{i=1}^{n} \\sum_{j=1}^{C} y_{ij} \\log(\\hat{y}_{ij})$$\n",
        "\n",
        "#### **9. How does a neural network learn?**\n",
        "\n",
        "A neural network learns through an iterative process called training. The overall process, often involving an algorithm called **backpropagation**, can be summarized in these steps:\n",
        "\n",
        "1.  **Initialization:** The network's weights are initialized with small random values.\n",
        "2.  **Forward Propagation:** A batch of input data is fed into the network. The data passes through the layers, neuron by neuron, and the network produces an output (a prediction).\n",
        "3.  **Loss Calculation:** The predicted output is compared to the true target values using a loss function, which calculates the error or \"loss.\"\n",
        "4.  **Backward Propagation (Backpropagation):** The algorithm calculates the gradient of the loss function with respect to each weight and bias in the network. It does this by propagating the error backward from the output layer to the input layer, using the chain rule of calculus. This gradient indicates the direction in which the weights should be adjusted to reduce the loss.\n",
        "5.  **Weight Update:** An optimizer (e.g., Gradient Descent) updates the weights and biases using the calculated gradients. The update is proportional to a parameter called the **learning rate**.\n",
        "    $$\\text{new\\_weight} = \\text{old\\_weight} - \\text{learning\\_rate} \\times \\text{gradient}$$\n",
        "    These five steps are repeated for many batches of data (epochs) until the loss is minimized and the model's performance on a validation dataset stops improving.\n",
        "\n",
        "#### **10. What is an optimizer in neural networks, and why is it necessary?**\n",
        "\n",
        "An optimizer is an algorithm or method used to change the attributes of the neural network, such as weights and biases, to reduce the loss. Optimizers help to minimize the loss function.\n",
        "\n",
        "They are necessary because the process of finding the optimal set of weights to minimize the loss is a complex optimization problem. The loss function can be visualized as a high-dimensional surface with many hills and valleys. The optimizer's job is to navigate this surface efficiently to find the lowest point (global minimum) or a sufficiently low point (local minimum). Different optimizers use different strategies to perform this navigation, affecting the speed and success of the training process.\n",
        "\n",
        "#### **11. Could you briefly describe some common optimizers?**\n",
        "\n",
        "  * **Stochastic Gradient Descent (SGD):** A fundamental optimizer. It updates the network's weights using the gradient calculated from a single training example or a small batch of examples at a time. This makes it computationally faster and can help escape local minima, but the updates can be noisy.\n",
        "  * **Adam (Adaptive Moment Estimation):** A popular and effective optimizer that adapts the learning rate for each weight. It computes individual adaptive learning rates for different parameters from estimates of first and second moments of the gradients. It combines the advantages of two other extensions of SGD: AdaGrad and RMSprop.\n",
        "  * **RMSprop (Root Mean Square Propagation):** This optimizer also adapts the learning rate for each weight. It divides the learning rate by an exponentially decaying average of squared gradients. It works well in practice and is a common choice for RNNs.\n",
        "\n",
        "#### **12. Can you explain forward and backward propagation in a neural network?**\n",
        "\n",
        "  * **Forward Propagation:** This is the process of feeding input data through the network to generate an output. The input data enters the input layer and travels through the hidden layers to the output layer. At each neuron, the inputs are multiplied by their corresponding weights, summed up with a bias, and then passed through an activation function. The output of one layer serves as the input to the next. The final result at the output layer is the network's prediction.\n",
        "\n",
        "  * **Backward Propagation (Backpropagation):** This is the core algorithm for training neural networks. After a prediction is made via forward propagation, the loss (error) is calculated. Backpropagation works by propagating this error backward through the network. Using the chain rule from calculus, it calculates the gradient of the loss function with respect to each weight and bias. These gradients measure the contribution of each weight to the overall error. The optimizer then uses these gradients to update the weights in a way that minimizes the error.\n",
        "\n",
        "#### **13. What is weight initialization, and how does it impact training?**\n",
        "\n",
        "Weight initialization is the process of setting the initial values for the weights in a neural network before training begins.\n",
        "\n",
        "It has a significant impact on the training process:\n",
        "\n",
        "  * **Poor Initialization:** If weights are initialized to be too large, it can lead to the **exploding gradient** problem, where the gradients become excessively large and training is unstable. If weights are initialized to be too small or all to zero, it can lead to the **vanishing gradient** problem, where gradients become tiny and the network learns very slowly or not at all. Initializing all weights to zero is problematic because all neurons in a layer will learn the same features.\n",
        "  * **Good Initialization:** Proper initialization helps in faster convergence and increases the likelihood of finding a good solution. It helps prevent the gradient from vanishing or exploding. Common strategies include:\n",
        "      * **Random Initialization:** Initializing weights to small random numbers.\n",
        "      * **Xavier (Glorot) Initialization:** Designed for layers using Sigmoid or Tanh activation functions. It sets the weights from a distribution with a variance that depends on the number of input and output neurons.\n",
        "      * **He Initialization:** Similar to Xavier but adapted for ReLU activation functions, which are now more common.\n",
        "\n",
        "#### **14. What is the vanishing gradient problem in deep learning?**\n",
        "\n",
        "The vanishing gradient problem occurs in deep neural networks, particularly those using activation functions like sigmoid or tanh. During backpropagation, the gradients are calculated by repeatedly multiplying gradients from later layers by gradients from earlier layers (due to the chain rule). If these gradients are small (less than 1), their product shrinks exponentially as it is propagated backward.\n",
        "\n",
        "As a result, the gradients for the weights in the initial layers become extremely small (\"vanish\"). This means the weights of these layers are updated very slowly, if at all. Consequently, the initial layers fail to learn, and the overall network cannot learn complex, long-range dependencies in the data.\n",
        "\n",
        "This problem can be mitigated by using activation functions like ReLU, using smarter weight initialization like He initialization, or using architectures like LSTMs or networks with residual connections (ResNets).\n",
        "\n",
        "#### **15. What is the exploding gradient problem?**\n",
        "\n",
        "The exploding gradient problem is the opposite of the vanishing gradient problem. It occurs when the gradients calculated during backpropagation become excessively large. This is often due to weight initializations that are too large or a learning rate that is too high.\n",
        "\n",
        "When gradients explode, the weight updates are also very large, causing the network's weights to oscillate wildly and become unstable. The loss may become `NaN` (Not a Number), and the training process fails. This problem can be addressed by:\n",
        "\n",
        "  * **Gradient Clipping:** Capping the gradients at a certain threshold to prevent them from exceeding it.\n",
        "  * **Weight Regularization:** Adding a penalty to the loss function to keep the weights small.\n",
        "  * **Using a smaller learning rate.**\n",
        "\n",
        "-----\n",
        "\n",
        "### **Practical Questions**\n",
        "\n",
        "#### **1. How do you create a simple perceptron for basic binary classification?**\n",
        "\n",
        "Here is a simple implementation of a Perceptron using Python's NumPy library to classify the AND logical gate."
      ],
      "metadata": {
        "id": "Tv7dlLTiUfJS"
      }
    },
    {
      "cell_type": "code",
      "source": [
        "import numpy as np\n",
        "\n",
        "class Perceptron:\n",
        "    \"\"\"A simple Perceptron classifier.\"\"\"\n",
        "    def __init__(self, learning_rate=0.01, n_iters=1000):\n",
        "        self.lr = learning_rate\n",
        "        self.n_iters = n_iters\n",
        "        self.activation_func = self._step_function\n",
        "        self.weights = None\n",
        "        self.bias = None\n",
        "\n",
        "    def _step_function(self, x):\n",
        "        return np.where(x >= 0, 1, 0)\n",
        "\n",
        "    def fit(self, X, y):\n",
        "        \"\"\"Fit training data.\"\"\"\n",
        "        n_samples, n_features = X.shape\n",
        "        # Initialize weights and bias\n",
        "        self.weights = np.zeros(n_features)\n",
        "        self.bias = 0\n",
        "\n",
        "        y_ = np.array([1 if i > 0 else 0 for i in y])\n",
        "\n",
        "        for _ in range(self.n_iters):\n",
        "            for idx, x_i in enumerate(X):\n",
        "                linear_output = np.dot(x_i, self.weights) + self.bias\n",
        "                y_predicted = self.activation_func(linear_output)\n",
        "\n",
        "                # Perceptron update rule\n",
        "                update = self.lr * (y_[idx] - y_predicted)\n",
        "                self.weights += update * x_i\n",
        "                self.bias += update\n",
        "\n",
        "    def predict(self, X):\n",
        "        \"\"\"Predict class labels for samples in X.\"\"\"\n",
        "        linear_output = np.dot(X, self.weights) + self.bias\n",
        "        y_predicted = self.activation_func(linear_output)\n",
        "        return y_predicted\n",
        "\n",
        "# Example: AND gate\n",
        "if __name__ == '__main__':\n",
        "    X = np.array([[0, 0], [0, 1], [1, 0], [1, 1]])\n",
        "    y = np.array([0, 0, 0, 1])\n",
        "\n",
        "    p = Perceptron(learning_rate=0.1, n_iters=10)\n",
        "    p.fit(X, y)\n",
        "\n",
        "    print(\"Perceptron classification for AND gate:\")\n",
        "    for x_input in X:\n",
        "        prediction = p.predict(x_input)\n",
        "        print(f\"Input: {x_input}, Predicted: {prediction}\")\n",
        "\n",
        "    print(f\"\\nLearned Weights: {p.weights}\")\n",
        "    print(f\"Learned Bias: {p.bias}\")"
      ],
      "outputs": [
        {
          "output_type": "stream",
          "name": "stdout",
          "text": [
            "Perceptron classification for AND gate:\n",
            "Input: [0 0], Predicted: 0\n",
            "Input: [0 1], Predicted: 0\n",
            "Input: [1 0], Predicted: 0\n",
            "Input: [1 1], Predicted: 1\n",
            "\n",
            "Learned Weights: [0.2 0.1]\n",
            "Learned Bias: -0.20000000000000004\n"
          ]
        }
      ],
      "execution_count": 1,
      "metadata": {
        "colab": {
          "base_uri": "https://localhost:8080/"
        },
        "id": "wTFeGdu1UfJY",
        "outputId": "87321718-c7a9-4e15-e800-1096fce8eef1"
      }
    },
    {
      "cell_type": "markdown",
      "source": [
        "#### **2. How can you build a neural network with one hidden layer using Keras?**\n",
        "\n",
        "You can use the `Sequential` model in Keras to stack layers. Here's how to build a simple network with one hidden layer."
      ],
      "metadata": {
        "id": "Sh0ZN3cBUfJa"
      }
    },
    {
      "cell_type": "code",
      "source": [
        "import tensorflow as tf\n",
        "from tensorflow import keras\n",
        "from tensorflow.keras import layers\n",
        "\n",
        "# Define the model\n",
        "model = keras.Sequential([\n",
        "    # Input layer (implicitly defined by input_shape in the first layer)\n",
        "    # The hidden layer with 64 neurons and ReLU activation\n",
        "    layers.Dense(64, activation='relu', input_shape=(784,)),\n",
        "\n",
        "    # The output layer with 10 neurons (for 10 classes) and softmax activation\n",
        "    layers.Dense(10, activation='softmax')\n",
        "])\n",
        "\n",
        "# Print the model summary\n",
        "model.summary()"
      ],
      "outputs": [
        {
          "output_type": "stream",
          "name": "stderr",
          "text": [
            "/usr/local/lib/python3.12/dist-packages/keras/src/layers/core/dense.py:93: UserWarning: Do not pass an `input_shape`/`input_dim` argument to a layer. When using Sequential models, prefer using an `Input(shape)` object as the first layer in the model instead.\n",
            "  super().__init__(activity_regularizer=activity_regularizer, **kwargs)\n"
          ]
        },
        {
          "output_type": "display_data",
          "data": {
            "text/plain": [
              "\u001b[1mModel: \"sequential\"\u001b[0m\n"
            ],
            "text/html": [
              "<pre style=\"white-space:pre;overflow-x:auto;line-height:normal;font-family:Menlo,'DejaVu Sans Mono',consolas,'Courier New',monospace\"><span style=\"font-weight: bold\">Model: \"sequential\"</span>\n",
              "</pre>\n"
            ]
          },
          "metadata": {}
        },
        {
          "output_type": "display_data",
          "data": {
            "text/plain": [
              "┏━━━━━━━━━━━━━━━━━━━━━━━━━━━━━━━━━┳━━━━━━━━━━━━━━━━━━━━━━━━┳━━━━━━━━━━━━━━━┓\n",
              "┃\u001b[1m \u001b[0m\u001b[1mLayer (type)                   \u001b[0m\u001b[1m \u001b[0m┃\u001b[1m \u001b[0m\u001b[1mOutput Shape          \u001b[0m\u001b[1m \u001b[0m┃\u001b[1m \u001b[0m\u001b[1m      Param #\u001b[0m\u001b[1m \u001b[0m┃\n",
              "┡━━━━━━━━━━━━━━━━━━━━━━━━━━━━━━━━━╇━━━━━━━━━━━━━━━━━━━━━━━━╇━━━━━━━━━━━━━━━┩\n",
              "│ dense (\u001b[38;5;33mDense\u001b[0m)                   │ (\u001b[38;5;45mNone\u001b[0m, \u001b[38;5;34m64\u001b[0m)             │        \u001b[38;5;34m50,240\u001b[0m │\n",
              "├─────────────────────────────────┼────────────────────────┼───────────────┤\n",
              "│ dense_1 (\u001b[38;5;33mDense\u001b[0m)                 │ (\u001b[38;5;45mNone\u001b[0m, \u001b[38;5;34m10\u001b[0m)             │           \u001b[38;5;34m650\u001b[0m │\n",
              "└─────────────────────────────────┴────────────────────────┴───────────────┘\n"
            ],
            "text/html": [
              "<pre style=\"white-space:pre;overflow-x:auto;line-height:normal;font-family:Menlo,'DejaVu Sans Mono',consolas,'Courier New',monospace\">┏━━━━━━━━━━━━━━━━━━━━━━━━━━━━━━━━━┳━━━━━━━━━━━━━━━━━━━━━━━━┳━━━━━━━━━━━━━━━┓\n",
              "┃<span style=\"font-weight: bold\"> Layer (type)                    </span>┃<span style=\"font-weight: bold\"> Output Shape           </span>┃<span style=\"font-weight: bold\">       Param # </span>┃\n",
              "┡━━━━━━━━━━━━━━━━━━━━━━━━━━━━━━━━━╇━━━━━━━━━━━━━━━━━━━━━━━━╇━━━━━━━━━━━━━━━┩\n",
              "│ dense (<span style=\"color: #0087ff; text-decoration-color: #0087ff\">Dense</span>)                   │ (<span style=\"color: #00d7ff; text-decoration-color: #00d7ff\">None</span>, <span style=\"color: #00af00; text-decoration-color: #00af00\">64</span>)             │        <span style=\"color: #00af00; text-decoration-color: #00af00\">50,240</span> │\n",
              "├─────────────────────────────────┼────────────────────────┼───────────────┤\n",
              "│ dense_1 (<span style=\"color: #0087ff; text-decoration-color: #0087ff\">Dense</span>)                 │ (<span style=\"color: #00d7ff; text-decoration-color: #00d7ff\">None</span>, <span style=\"color: #00af00; text-decoration-color: #00af00\">10</span>)             │           <span style=\"color: #00af00; text-decoration-color: #00af00\">650</span> │\n",
              "└─────────────────────────────────┴────────────────────────┴───────────────┘\n",
              "</pre>\n"
            ]
          },
          "metadata": {}
        },
        {
          "output_type": "display_data",
          "data": {
            "text/plain": [
              "\u001b[1m Total params: \u001b[0m\u001b[38;5;34m50,890\u001b[0m (198.79 KB)\n"
            ],
            "text/html": [
              "<pre style=\"white-space:pre;overflow-x:auto;line-height:normal;font-family:Menlo,'DejaVu Sans Mono',consolas,'Courier New',monospace\"><span style=\"font-weight: bold\"> Total params: </span><span style=\"color: #00af00; text-decoration-color: #00af00\">50,890</span> (198.79 KB)\n",
              "</pre>\n"
            ]
          },
          "metadata": {}
        },
        {
          "output_type": "display_data",
          "data": {
            "text/plain": [
              "\u001b[1m Trainable params: \u001b[0m\u001b[38;5;34m50,890\u001b[0m (198.79 KB)\n"
            ],
            "text/html": [
              "<pre style=\"white-space:pre;overflow-x:auto;line-height:normal;font-family:Menlo,'DejaVu Sans Mono',consolas,'Courier New',monospace\"><span style=\"font-weight: bold\"> Trainable params: </span><span style=\"color: #00af00; text-decoration-color: #00af00\">50,890</span> (198.79 KB)\n",
              "</pre>\n"
            ]
          },
          "metadata": {}
        },
        {
          "output_type": "display_data",
          "data": {
            "text/plain": [
              "\u001b[1m Non-trainable params: \u001b[0m\u001b[38;5;34m0\u001b[0m (0.00 B)\n"
            ],
            "text/html": [
              "<pre style=\"white-space:pre;overflow-x:auto;line-height:normal;font-family:Menlo,'DejaVu Sans Mono',consolas,'Courier New',monospace\"><span style=\"font-weight: bold\"> Non-trainable params: </span><span style=\"color: #00af00; text-decoration-color: #00af00\">0</span> (0.00 B)\n",
              "</pre>\n"
            ]
          },
          "metadata": {}
        }
      ],
      "execution_count": 2,
      "metadata": {
        "colab": {
          "base_uri": "https://localhost:8080/",
          "height": 248
        },
        "id": "mWhX8VkMUfJa",
        "outputId": "b46443ac-d796-45e5-c081-d865c7c1153c"
      }
    },
    {
      "cell_type": "markdown",
      "source": [
        "#### **3. How do you initialize weights using the Xavier (Glorot) initialization method in Keras?**\n",
        "\n",
        "You can specify the weight initializer using the `kernel_initializer` argument in a layer. Keras uses `'glorot_uniform'` (Xavier uniform) by default for `Dense` layers, but you can specify it explicitly."
      ],
      "metadata": {
        "id": "Esu0-4MWUfJb"
      }
    },
    {
      "cell_type": "code",
      "source": [
        "import tensorflow as tf\n",
        "from tensorflow import keras\n",
        "from tensorflow.keras import layers\n",
        "\n",
        "model = keras.Sequential([\n",
        "    layers.Dense(\n",
        "        64,\n",
        "        activation='tanh', # Tanh is often used with Glorot initialization\n",
        "        input_shape=(100,),\n",
        "        kernel_initializer='glorot_uniform' # Xavier uniform initialization\n",
        "    ),\n",
        "    layers.Dense(\n",
        "        10,\n",
        "        activation='softmax',\n",
        "        kernel_initializer='glorot_normal' # Xavier normal initialization\n",
        "    )\n",
        "])\n",
        "\n",
        "model.summary()"
      ],
      "outputs": [
        {
          "output_type": "display_data",
          "data": {
            "text/plain": [
              "\u001b[1mModel: \"sequential_1\"\u001b[0m\n"
            ],
            "text/html": [
              "<pre style=\"white-space:pre;overflow-x:auto;line-height:normal;font-family:Menlo,'DejaVu Sans Mono',consolas,'Courier New',monospace\"><span style=\"font-weight: bold\">Model: \"sequential_1\"</span>\n",
              "</pre>\n"
            ]
          },
          "metadata": {}
        },
        {
          "output_type": "display_data",
          "data": {
            "text/plain": [
              "┏━━━━━━━━━━━━━━━━━━━━━━━━━━━━━━━━━┳━━━━━━━━━━━━━━━━━━━━━━━━┳━━━━━━━━━━━━━━━┓\n",
              "┃\u001b[1m \u001b[0m\u001b[1mLayer (type)                   \u001b[0m\u001b[1m \u001b[0m┃\u001b[1m \u001b[0m\u001b[1mOutput Shape          \u001b[0m\u001b[1m \u001b[0m┃\u001b[1m \u001b[0m\u001b[1m      Param #\u001b[0m\u001b[1m \u001b[0m┃\n",
              "┡━━━━━━━━━━━━━━━━━━━━━━━━━━━━━━━━━╇━━━━━━━━━━━━━━━━━━━━━━━━╇━━━━━━━━━━━━━━━┩\n",
              "│ dense_2 (\u001b[38;5;33mDense\u001b[0m)                 │ (\u001b[38;5;45mNone\u001b[0m, \u001b[38;5;34m64\u001b[0m)             │         \u001b[38;5;34m6,464\u001b[0m │\n",
              "├─────────────────────────────────┼────────────────────────┼───────────────┤\n",
              "│ dense_3 (\u001b[38;5;33mDense\u001b[0m)                 │ (\u001b[38;5;45mNone\u001b[0m, \u001b[38;5;34m10\u001b[0m)             │           \u001b[38;5;34m650\u001b[0m │\n",
              "└─────────────────────────────────┴────────────────────────┴───────────────┘\n"
            ],
            "text/html": [
              "<pre style=\"white-space:pre;overflow-x:auto;line-height:normal;font-family:Menlo,'DejaVu Sans Mono',consolas,'Courier New',monospace\">┏━━━━━━━━━━━━━━━━━━━━━━━━━━━━━━━━━┳━━━━━━━━━━━━━━━━━━━━━━━━┳━━━━━━━━━━━━━━━┓\n",
              "┃<span style=\"font-weight: bold\"> Layer (type)                    </span>┃<span style=\"font-weight: bold\"> Output Shape           </span>┃<span style=\"font-weight: bold\">       Param # </span>┃\n",
              "┡━━━━━━━━━━━━━━━━━━━━━━━━━━━━━━━━━╇━━━━━━━━━━━━━━━━━━━━━━━━╇━━━━━━━━━━━━━━━┩\n",
              "│ dense_2 (<span style=\"color: #0087ff; text-decoration-color: #0087ff\">Dense</span>)                 │ (<span style=\"color: #00d7ff; text-decoration-color: #00d7ff\">None</span>, <span style=\"color: #00af00; text-decoration-color: #00af00\">64</span>)             │         <span style=\"color: #00af00; text-decoration-color: #00af00\">6,464</span> │\n",
              "├─────────────────────────────────┼────────────────────────┼───────────────┤\n",
              "│ dense_3 (<span style=\"color: #0087ff; text-decoration-color: #0087ff\">Dense</span>)                 │ (<span style=\"color: #00d7ff; text-decoration-color: #00d7ff\">None</span>, <span style=\"color: #00af00; text-decoration-color: #00af00\">10</span>)             │           <span style=\"color: #00af00; text-decoration-color: #00af00\">650</span> │\n",
              "└─────────────────────────────────┴────────────────────────┴───────────────┘\n",
              "</pre>\n"
            ]
          },
          "metadata": {}
        },
        {
          "output_type": "display_data",
          "data": {
            "text/plain": [
              "\u001b[1m Total params: \u001b[0m\u001b[38;5;34m7,114\u001b[0m (27.79 KB)\n"
            ],
            "text/html": [
              "<pre style=\"white-space:pre;overflow-x:auto;line-height:normal;font-family:Menlo,'DejaVu Sans Mono',consolas,'Courier New',monospace\"><span style=\"font-weight: bold\"> Total params: </span><span style=\"color: #00af00; text-decoration-color: #00af00\">7,114</span> (27.79 KB)\n",
              "</pre>\n"
            ]
          },
          "metadata": {}
        },
        {
          "output_type": "display_data",
          "data": {
            "text/plain": [
              "\u001b[1m Trainable params: \u001b[0m\u001b[38;5;34m7,114\u001b[0m (27.79 KB)\n"
            ],
            "text/html": [
              "<pre style=\"white-space:pre;overflow-x:auto;line-height:normal;font-family:Menlo,'DejaVu Sans Mono',consolas,'Courier New',monospace\"><span style=\"font-weight: bold\"> Trainable params: </span><span style=\"color: #00af00; text-decoration-color: #00af00\">7,114</span> (27.79 KB)\n",
              "</pre>\n"
            ]
          },
          "metadata": {}
        },
        {
          "output_type": "display_data",
          "data": {
            "text/plain": [
              "\u001b[1m Non-trainable params: \u001b[0m\u001b[38;5;34m0\u001b[0m (0.00 B)\n"
            ],
            "text/html": [
              "<pre style=\"white-space:pre;overflow-x:auto;line-height:normal;font-family:Menlo,'DejaVu Sans Mono',consolas,'Courier New',monospace\"><span style=\"font-weight: bold\"> Non-trainable params: </span><span style=\"color: #00af00; text-decoration-color: #00af00\">0</span> (0.00 B)\n",
              "</pre>\n"
            ]
          },
          "metadata": {}
        }
      ],
      "execution_count": 3,
      "metadata": {
        "colab": {
          "base_uri": "https://localhost:8080/",
          "height": 193
        },
        "id": "nsnnARnfUfJb",
        "outputId": "e56a9328-048a-459c-b999-3606a36118f6"
      }
    },
    {
      "cell_type": "markdown",
      "source": [
        "#### **4. How can you apply different activation functions in a neural network in Keras?**\n",
        "\n",
        "You can set the `activation` parameter for each `Dense` layer to a different function."
      ],
      "metadata": {
        "id": "aMSh887EUfJd"
      }
    },
    {
      "cell_type": "code",
      "source": [
        "import tensorflow as tf\n",
        "from tensorflow import keras\n",
        "from tensorflow.keras import layers\n",
        "\n",
        "model = keras.Sequential([\n",
        "    # Hidden Layer 1: ReLU activation\n",
        "    layers.Dense(128, activation='relu', input_shape=(784,)),\n",
        "\n",
        "    # Hidden Layer 2: Tanh activation\n",
        "    layers.Dense(64, activation='tanh'),\n",
        "\n",
        "    # Output Layer: Sigmoid activation for binary classification\n",
        "    layers.Dense(1, activation='sigmoid')\n",
        "])\n",
        "\n",
        "model.summary()"
      ],
      "outputs": [
        {
          "output_type": "display_data",
          "data": {
            "text/plain": [
              "\u001b[1mModel: \"sequential_2\"\u001b[0m\n"
            ],
            "text/html": [
              "<pre style=\"white-space:pre;overflow-x:auto;line-height:normal;font-family:Menlo,'DejaVu Sans Mono',consolas,'Courier New',monospace\"><span style=\"font-weight: bold\">Model: \"sequential_2\"</span>\n",
              "</pre>\n"
            ]
          },
          "metadata": {}
        },
        {
          "output_type": "display_data",
          "data": {
            "text/plain": [
              "┏━━━━━━━━━━━━━━━━━━━━━━━━━━━━━━━━━┳━━━━━━━━━━━━━━━━━━━━━━━━┳━━━━━━━━━━━━━━━┓\n",
              "┃\u001b[1m \u001b[0m\u001b[1mLayer (type)                   \u001b[0m\u001b[1m \u001b[0m┃\u001b[1m \u001b[0m\u001b[1mOutput Shape          \u001b[0m\u001b[1m \u001b[0m┃\u001b[1m \u001b[0m\u001b[1m      Param #\u001b[0m\u001b[1m \u001b[0m┃\n",
              "┡━━━━━━━━━━━━━━━━━━━━━━━━━━━━━━━━━╇━━━━━━━━━━━━━━━━━━━━━━━━╇━━━━━━━━━━━━━━━┩\n",
              "│ dense_4 (\u001b[38;5;33mDense\u001b[0m)                 │ (\u001b[38;5;45mNone\u001b[0m, \u001b[38;5;34m128\u001b[0m)            │       \u001b[38;5;34m100,480\u001b[0m │\n",
              "├─────────────────────────────────┼────────────────────────┼───────────────┤\n",
              "│ dense_5 (\u001b[38;5;33mDense\u001b[0m)                 │ (\u001b[38;5;45mNone\u001b[0m, \u001b[38;5;34m64\u001b[0m)             │         \u001b[38;5;34m8,256\u001b[0m │\n",
              "├─────────────────────────────────┼────────────────────────┼───────────────┤\n",
              "│ dense_6 (\u001b[38;5;33mDense\u001b[0m)                 │ (\u001b[38;5;45mNone\u001b[0m, \u001b[38;5;34m1\u001b[0m)              │            \u001b[38;5;34m65\u001b[0m │\n",
              "└─────────────────────────────────┴────────────────────────┴───────────────┘\n"
            ],
            "text/html": [
              "<pre style=\"white-space:pre;overflow-x:auto;line-height:normal;font-family:Menlo,'DejaVu Sans Mono',consolas,'Courier New',monospace\">┏━━━━━━━━━━━━━━━━━━━━━━━━━━━━━━━━━┳━━━━━━━━━━━━━━━━━━━━━━━━┳━━━━━━━━━━━━━━━┓\n",
              "┃<span style=\"font-weight: bold\"> Layer (type)                    </span>┃<span style=\"font-weight: bold\"> Output Shape           </span>┃<span style=\"font-weight: bold\">       Param # </span>┃\n",
              "┡━━━━━━━━━━━━━━━━━━━━━━━━━━━━━━━━━╇━━━━━━━━━━━━━━━━━━━━━━━━╇━━━━━━━━━━━━━━━┩\n",
              "│ dense_4 (<span style=\"color: #0087ff; text-decoration-color: #0087ff\">Dense</span>)                 │ (<span style=\"color: #00d7ff; text-decoration-color: #00d7ff\">None</span>, <span style=\"color: #00af00; text-decoration-color: #00af00\">128</span>)            │       <span style=\"color: #00af00; text-decoration-color: #00af00\">100,480</span> │\n",
              "├─────────────────────────────────┼────────────────────────┼───────────────┤\n",
              "│ dense_5 (<span style=\"color: #0087ff; text-decoration-color: #0087ff\">Dense</span>)                 │ (<span style=\"color: #00d7ff; text-decoration-color: #00d7ff\">None</span>, <span style=\"color: #00af00; text-decoration-color: #00af00\">64</span>)             │         <span style=\"color: #00af00; text-decoration-color: #00af00\">8,256</span> │\n",
              "├─────────────────────────────────┼────────────────────────┼───────────────┤\n",
              "│ dense_6 (<span style=\"color: #0087ff; text-decoration-color: #0087ff\">Dense</span>)                 │ (<span style=\"color: #00d7ff; text-decoration-color: #00d7ff\">None</span>, <span style=\"color: #00af00; text-decoration-color: #00af00\">1</span>)              │            <span style=\"color: #00af00; text-decoration-color: #00af00\">65</span> │\n",
              "└─────────────────────────────────┴────────────────────────┴───────────────┘\n",
              "</pre>\n"
            ]
          },
          "metadata": {}
        },
        {
          "output_type": "display_data",
          "data": {
            "text/plain": [
              "\u001b[1m Total params: \u001b[0m\u001b[38;5;34m108,801\u001b[0m (425.00 KB)\n"
            ],
            "text/html": [
              "<pre style=\"white-space:pre;overflow-x:auto;line-height:normal;font-family:Menlo,'DejaVu Sans Mono',consolas,'Courier New',monospace\"><span style=\"font-weight: bold\"> Total params: </span><span style=\"color: #00af00; text-decoration-color: #00af00\">108,801</span> (425.00 KB)\n",
              "</pre>\n"
            ]
          },
          "metadata": {}
        },
        {
          "output_type": "display_data",
          "data": {
            "text/plain": [
              "\u001b[1m Trainable params: \u001b[0m\u001b[38;5;34m108,801\u001b[0m (425.00 KB)\n"
            ],
            "text/html": [
              "<pre style=\"white-space:pre;overflow-x:auto;line-height:normal;font-family:Menlo,'DejaVu Sans Mono',consolas,'Courier New',monospace\"><span style=\"font-weight: bold\"> Trainable params: </span><span style=\"color: #00af00; text-decoration-color: #00af00\">108,801</span> (425.00 KB)\n",
              "</pre>\n"
            ]
          },
          "metadata": {}
        },
        {
          "output_type": "display_data",
          "data": {
            "text/plain": [
              "\u001b[1m Non-trainable params: \u001b[0m\u001b[38;5;34m0\u001b[0m (0.00 B)\n"
            ],
            "text/html": [
              "<pre style=\"white-space:pre;overflow-x:auto;line-height:normal;font-family:Menlo,'DejaVu Sans Mono',consolas,'Courier New',monospace\"><span style=\"font-weight: bold\"> Non-trainable params: </span><span style=\"color: #00af00; text-decoration-color: #00af00\">0</span> (0.00 B)\n",
              "</pre>\n"
            ]
          },
          "metadata": {}
        }
      ],
      "execution_count": 4,
      "metadata": {
        "colab": {
          "base_uri": "https://localhost:8080/",
          "height": 225
        },
        "id": "m3P8OJOWUfJd",
        "outputId": "9c040906-986f-4287-b7e3-a8a0c4c0cf58"
      }
    },
    {
      "cell_type": "markdown",
      "source": [
        "#### **5. How do you add dropout to a neural network model to prevent overfitting?**\n",
        "\n",
        "Dropout is a regularization technique where randomly selected neurons are ignored during training. You can add it as a `Dropout` layer in Keras."
      ],
      "metadata": {
        "id": "8AdEICeLUfJe"
      }
    },
    {
      "cell_type": "code",
      "source": [
        "import tensorflow as tf\n",
        "from tensorflow import keras\n",
        "from tensorflow.keras import layers\n",
        "\n",
        "model = keras.Sequential([\n",
        "    layers.Dense(128, activation='relu', input_shape=(784,)),\n",
        "    # Add a dropout layer with a 50% rate\n",
        "    layers.Dropout(0.5),\n",
        "\n",
        "    layers.Dense(64, activation='relu'),\n",
        "    # Add another dropout layer with a 25% rate\n",
        "    layers.Dropout(0.25),\n",
        "\n",
        "    layers.Dense(10, activation='softmax')\n",
        "])\n",
        "\n",
        "model.summary()"
      ],
      "outputs": [
        {
          "output_type": "display_data",
          "data": {
            "text/plain": [
              "\u001b[1mModel: \"sequential_3\"\u001b[0m\n"
            ],
            "text/html": [
              "<pre style=\"white-space:pre;overflow-x:auto;line-height:normal;font-family:Menlo,'DejaVu Sans Mono',consolas,'Courier New',monospace\"><span style=\"font-weight: bold\">Model: \"sequential_3\"</span>\n",
              "</pre>\n"
            ]
          },
          "metadata": {}
        },
        {
          "output_type": "display_data",
          "data": {
            "text/plain": [
              "┏━━━━━━━━━━━━━━━━━━━━━━━━━━━━━━━━━┳━━━━━━━━━━━━━━━━━━━━━━━━┳━━━━━━━━━━━━━━━┓\n",
              "┃\u001b[1m \u001b[0m\u001b[1mLayer (type)                   \u001b[0m\u001b[1m \u001b[0m┃\u001b[1m \u001b[0m\u001b[1mOutput Shape          \u001b[0m\u001b[1m \u001b[0m┃\u001b[1m \u001b[0m\u001b[1m      Param #\u001b[0m\u001b[1m \u001b[0m┃\n",
              "┡━━━━━━━━━━━━━━━━━━━━━━━━━━━━━━━━━╇━━━━━━━━━━━━━━━━━━━━━━━━╇━━━━━━━━━━━━━━━┩\n",
              "│ dense_7 (\u001b[38;5;33mDense\u001b[0m)                 │ (\u001b[38;5;45mNone\u001b[0m, \u001b[38;5;34m128\u001b[0m)            │       \u001b[38;5;34m100,480\u001b[0m │\n",
              "├─────────────────────────────────┼────────────────────────┼───────────────┤\n",
              "│ dropout (\u001b[38;5;33mDropout\u001b[0m)               │ (\u001b[38;5;45mNone\u001b[0m, \u001b[38;5;34m128\u001b[0m)            │             \u001b[38;5;34m0\u001b[0m │\n",
              "├─────────────────────────────────┼────────────────────────┼───────────────┤\n",
              "│ dense_8 (\u001b[38;5;33mDense\u001b[0m)                 │ (\u001b[38;5;45mNone\u001b[0m, \u001b[38;5;34m64\u001b[0m)             │         \u001b[38;5;34m8,256\u001b[0m │\n",
              "├─────────────────────────────────┼────────────────────────┼───────────────┤\n",
              "│ dropout_1 (\u001b[38;5;33mDropout\u001b[0m)             │ (\u001b[38;5;45mNone\u001b[0m, \u001b[38;5;34m64\u001b[0m)             │             \u001b[38;5;34m0\u001b[0m │\n",
              "├─────────────────────────────────┼────────────────────────┼───────────────┤\n",
              "│ dense_9 (\u001b[38;5;33mDense\u001b[0m)                 │ (\u001b[38;5;45mNone\u001b[0m, \u001b[38;5;34m10\u001b[0m)             │           \u001b[38;5;34m650\u001b[0m │\n",
              "└─────────────────────────────────┴────────────────────────┴───────────────┘\n"
            ],
            "text/html": [
              "<pre style=\"white-space:pre;overflow-x:auto;line-height:normal;font-family:Menlo,'DejaVu Sans Mono',consolas,'Courier New',monospace\">┏━━━━━━━━━━━━━━━━━━━━━━━━━━━━━━━━━┳━━━━━━━━━━━━━━━━━━━━━━━━┳━━━━━━━━━━━━━━━┓\n",
              "┃<span style=\"font-weight: bold\"> Layer (type)                    </span>┃<span style=\"font-weight: bold\"> Output Shape           </span>┃<span style=\"font-weight: bold\">       Param # </span>┃\n",
              "┡━━━━━━━━━━━━━━━━━━━━━━━━━━━━━━━━━╇━━━━━━━━━━━━━━━━━━━━━━━━╇━━━━━━━━━━━━━━━┩\n",
              "│ dense_7 (<span style=\"color: #0087ff; text-decoration-color: #0087ff\">Dense</span>)                 │ (<span style=\"color: #00d7ff; text-decoration-color: #00d7ff\">None</span>, <span style=\"color: #00af00; text-decoration-color: #00af00\">128</span>)            │       <span style=\"color: #00af00; text-decoration-color: #00af00\">100,480</span> │\n",
              "├─────────────────────────────────┼────────────────────────┼───────────────┤\n",
              "│ dropout (<span style=\"color: #0087ff; text-decoration-color: #0087ff\">Dropout</span>)               │ (<span style=\"color: #00d7ff; text-decoration-color: #00d7ff\">None</span>, <span style=\"color: #00af00; text-decoration-color: #00af00\">128</span>)            │             <span style=\"color: #00af00; text-decoration-color: #00af00\">0</span> │\n",
              "├─────────────────────────────────┼────────────────────────┼───────────────┤\n",
              "│ dense_8 (<span style=\"color: #0087ff; text-decoration-color: #0087ff\">Dense</span>)                 │ (<span style=\"color: #00d7ff; text-decoration-color: #00d7ff\">None</span>, <span style=\"color: #00af00; text-decoration-color: #00af00\">64</span>)             │         <span style=\"color: #00af00; text-decoration-color: #00af00\">8,256</span> │\n",
              "├─────────────────────────────────┼────────────────────────┼───────────────┤\n",
              "│ dropout_1 (<span style=\"color: #0087ff; text-decoration-color: #0087ff\">Dropout</span>)             │ (<span style=\"color: #00d7ff; text-decoration-color: #00d7ff\">None</span>, <span style=\"color: #00af00; text-decoration-color: #00af00\">64</span>)             │             <span style=\"color: #00af00; text-decoration-color: #00af00\">0</span> │\n",
              "├─────────────────────────────────┼────────────────────────┼───────────────┤\n",
              "│ dense_9 (<span style=\"color: #0087ff; text-decoration-color: #0087ff\">Dense</span>)                 │ (<span style=\"color: #00d7ff; text-decoration-color: #00d7ff\">None</span>, <span style=\"color: #00af00; text-decoration-color: #00af00\">10</span>)             │           <span style=\"color: #00af00; text-decoration-color: #00af00\">650</span> │\n",
              "└─────────────────────────────────┴────────────────────────┴───────────────┘\n",
              "</pre>\n"
            ]
          },
          "metadata": {}
        },
        {
          "output_type": "display_data",
          "data": {
            "text/plain": [
              "\u001b[1m Total params: \u001b[0m\u001b[38;5;34m109,386\u001b[0m (427.29 KB)\n"
            ],
            "text/html": [
              "<pre style=\"white-space:pre;overflow-x:auto;line-height:normal;font-family:Menlo,'DejaVu Sans Mono',consolas,'Courier New',monospace\"><span style=\"font-weight: bold\"> Total params: </span><span style=\"color: #00af00; text-decoration-color: #00af00\">109,386</span> (427.29 KB)\n",
              "</pre>\n"
            ]
          },
          "metadata": {}
        },
        {
          "output_type": "display_data",
          "data": {
            "text/plain": [
              "\u001b[1m Trainable params: \u001b[0m\u001b[38;5;34m109,386\u001b[0m (427.29 KB)\n"
            ],
            "text/html": [
              "<pre style=\"white-space:pre;overflow-x:auto;line-height:normal;font-family:Menlo,'DejaVu Sans Mono',consolas,'Courier New',monospace\"><span style=\"font-weight: bold\"> Trainable params: </span><span style=\"color: #00af00; text-decoration-color: #00af00\">109,386</span> (427.29 KB)\n",
              "</pre>\n"
            ]
          },
          "metadata": {}
        },
        {
          "output_type": "display_data",
          "data": {
            "text/plain": [
              "\u001b[1m Non-trainable params: \u001b[0m\u001b[38;5;34m0\u001b[0m (0.00 B)\n"
            ],
            "text/html": [
              "<pre style=\"white-space:pre;overflow-x:auto;line-height:normal;font-family:Menlo,'DejaVu Sans Mono',consolas,'Courier New',monospace\"><span style=\"font-weight: bold\"> Non-trainable params: </span><span style=\"color: #00af00; text-decoration-color: #00af00\">0</span> (0.00 B)\n",
              "</pre>\n"
            ]
          },
          "metadata": {}
        }
      ],
      "execution_count": 5,
      "metadata": {
        "colab": {
          "base_uri": "https://localhost:8080/",
          "height": 289
        },
        "id": "dlFIP0IIUfJf",
        "outputId": "7114a2d4-247c-4959-d93a-9f63cb955d7d"
      }
    },
    {
      "cell_type": "markdown",
      "source": [
        "#### **6. How do you manually implement forward propagation in a simple neural network?**\n",
        "\n",
        "Here is a manual implementation of forward propagation using NumPy for a network with one hidden layer."
      ],
      "metadata": {
        "id": "id9FKlM0UfJf"
      }
    },
    {
      "cell_type": "code",
      "source": [
        "import numpy as np\n",
        "\n",
        "def sigmoid(x):\n",
        "    return 1 / (1 + np.exp(-x))\n",
        "\n",
        "def forward_prop(X, weights1, bias1, weights2, bias2):\n",
        "    \"\"\"\n",
        "    Manual forward propagation for a 1-hidden-layer network.\n",
        "\n",
        "    Args:\n",
        "    - X: Input data (n_samples, n_features)\n",
        "    - weights1, bias1: Parameters for the hidden layer\n",
        "    - weights2, bias2: Parameters for the output layer\n",
        "    \"\"\"\n",
        "    # Calculate hidden layer output\n",
        "    Z1 = np.dot(X, weights1) + bias1\n",
        "    A1 = sigmoid(Z1) # Activation of hidden layer\n",
        "\n",
        "    # Calculate output layer output\n",
        "    Z2 = np.dot(A1, weights2) + bias2\n",
        "    A2 = sigmoid(Z2) # Final prediction\n",
        "\n",
        "    return A2\n",
        "\n",
        "# Example usage\n",
        "# Network with 2 input neurons, 3 hidden neurons, 1 output neuron\n",
        "n_input = 2\n",
        "n_hidden = 3\n",
        "n_output = 1\n",
        "\n",
        "# Dummy input data (1 sample)\n",
        "X_sample = np.array([[0.5, 0.2]])\n",
        "\n",
        "# Randomly initialized weights and biases\n",
        "W1 = np.random.randn(n_input, n_hidden)\n",
        "b1 = np.zeros((1, n_hidden))\n",
        "W2 = np.random.randn(n_hidden, n_output)\n",
        "b2 = np.zeros((1, n_output))\n",
        "\n",
        "prediction = forward_prop(X_sample, W1, b1, W2, b2)\n",
        "print(f\"Input: {X_sample}\")\n",
        "print(f\"Predicted Output: {prediction}\")"
      ],
      "outputs": [
        {
          "output_type": "stream",
          "name": "stdout",
          "text": [
            "Input: [[0.5 0.2]]\n",
            "Predicted Output: [[0.72775777]]\n"
          ]
        }
      ],
      "execution_count": 6,
      "metadata": {
        "colab": {
          "base_uri": "https://localhost:8080/"
        },
        "id": "9-pC5qhYUfJg",
        "outputId": "a3590962-4eae-4d8e-8f80-917abcf5fa8d"
      }
    },
    {
      "cell_type": "markdown",
      "source": [
        "#### **7. How do you add batch normalization to a neural network model in Keras?**\n",
        "\n",
        "Batch Normalization is a technique to stabilize and accelerate training. You can add it using the `BatchNormalization` layer, typically between a linear layer (`Dense`) and its activation function."
      ],
      "metadata": {
        "id": "7eEl80z0UfJg"
      }
    },
    {
      "cell_type": "code",
      "source": [
        "import tensorflow as tf\n",
        "from tensorflow import keras\n",
        "from tensorflow.keras import layers\n",
        "\n",
        "model = keras.Sequential([\n",
        "    layers.Dense(128, input_shape=(784,)),\n",
        "    # Add batch normalization before the activation\n",
        "    layers.BatchNormalization(),\n",
        "    layers.Activation('relu'),\n",
        "\n",
        "    layers.Dense(64),\n",
        "    layers.BatchNormalization(),\n",
        "    layers.Activation('relu'),\n",
        "\n",
        "    layers.Dense(10, activation='softmax')\n",
        "])\n",
        "\n",
        "model.summary()"
      ],
      "outputs": [
        {
          "output_type": "display_data",
          "data": {
            "text/plain": [
              "\u001b[1mModel: \"sequential_4\"\u001b[0m\n"
            ],
            "text/html": [
              "<pre style=\"white-space:pre;overflow-x:auto;line-height:normal;font-family:Menlo,'DejaVu Sans Mono',consolas,'Courier New',monospace\"><span style=\"font-weight: bold\">Model: \"sequential_4\"</span>\n",
              "</pre>\n"
            ]
          },
          "metadata": {}
        },
        {
          "output_type": "display_data",
          "data": {
            "text/plain": [
              "┏━━━━━━━━━━━━━━━━━━━━━━━━━━━━━━━━━┳━━━━━━━━━━━━━━━━━━━━━━━━┳━━━━━━━━━━━━━━━┓\n",
              "┃\u001b[1m \u001b[0m\u001b[1mLayer (type)                   \u001b[0m\u001b[1m \u001b[0m┃\u001b[1m \u001b[0m\u001b[1mOutput Shape          \u001b[0m\u001b[1m \u001b[0m┃\u001b[1m \u001b[0m\u001b[1m      Param #\u001b[0m\u001b[1m \u001b[0m┃\n",
              "┡━━━━━━━━━━━━━━━━━━━━━━━━━━━━━━━━━╇━━━━━━━━━━━━━━━━━━━━━━━━╇━━━━━━━━━━━━━━━┩\n",
              "│ dense_10 (\u001b[38;5;33mDense\u001b[0m)                │ (\u001b[38;5;45mNone\u001b[0m, \u001b[38;5;34m128\u001b[0m)            │       \u001b[38;5;34m100,480\u001b[0m │\n",
              "├─────────────────────────────────┼────────────────────────┼───────────────┤\n",
              "│ batch_normalization             │ (\u001b[38;5;45mNone\u001b[0m, \u001b[38;5;34m128\u001b[0m)            │           \u001b[38;5;34m512\u001b[0m │\n",
              "│ (\u001b[38;5;33mBatchNormalization\u001b[0m)            │                        │               │\n",
              "├─────────────────────────────────┼────────────────────────┼───────────────┤\n",
              "│ activation (\u001b[38;5;33mActivation\u001b[0m)         │ (\u001b[38;5;45mNone\u001b[0m, \u001b[38;5;34m128\u001b[0m)            │             \u001b[38;5;34m0\u001b[0m │\n",
              "├─────────────────────────────────┼────────────────────────┼───────────────┤\n",
              "│ dense_11 (\u001b[38;5;33mDense\u001b[0m)                │ (\u001b[38;5;45mNone\u001b[0m, \u001b[38;5;34m64\u001b[0m)             │         \u001b[38;5;34m8,256\u001b[0m │\n",
              "├─────────────────────────────────┼────────────────────────┼───────────────┤\n",
              "│ batch_normalization_1           │ (\u001b[38;5;45mNone\u001b[0m, \u001b[38;5;34m64\u001b[0m)             │           \u001b[38;5;34m256\u001b[0m │\n",
              "│ (\u001b[38;5;33mBatchNormalization\u001b[0m)            │                        │               │\n",
              "├─────────────────────────────────┼────────────────────────┼───────────────┤\n",
              "│ activation_1 (\u001b[38;5;33mActivation\u001b[0m)       │ (\u001b[38;5;45mNone\u001b[0m, \u001b[38;5;34m64\u001b[0m)             │             \u001b[38;5;34m0\u001b[0m │\n",
              "├─────────────────────────────────┼────────────────────────┼───────────────┤\n",
              "│ dense_12 (\u001b[38;5;33mDense\u001b[0m)                │ (\u001b[38;5;45mNone\u001b[0m, \u001b[38;5;34m10\u001b[0m)             │           \u001b[38;5;34m650\u001b[0m │\n",
              "└─────────────────────────────────┴────────────────────────┴───────────────┘\n"
            ],
            "text/html": [
              "<pre style=\"white-space:pre;overflow-x:auto;line-height:normal;font-family:Menlo,'DejaVu Sans Mono',consolas,'Courier New',monospace\">┏━━━━━━━━━━━━━━━━━━━━━━━━━━━━━━━━━┳━━━━━━━━━━━━━━━━━━━━━━━━┳━━━━━━━━━━━━━━━┓\n",
              "┃<span style=\"font-weight: bold\"> Layer (type)                    </span>┃<span style=\"font-weight: bold\"> Output Shape           </span>┃<span style=\"font-weight: bold\">       Param # </span>┃\n",
              "┡━━━━━━━━━━━━━━━━━━━━━━━━━━━━━━━━━╇━━━━━━━━━━━━━━━━━━━━━━━━╇━━━━━━━━━━━━━━━┩\n",
              "│ dense_10 (<span style=\"color: #0087ff; text-decoration-color: #0087ff\">Dense</span>)                │ (<span style=\"color: #00d7ff; text-decoration-color: #00d7ff\">None</span>, <span style=\"color: #00af00; text-decoration-color: #00af00\">128</span>)            │       <span style=\"color: #00af00; text-decoration-color: #00af00\">100,480</span> │\n",
              "├─────────────────────────────────┼────────────────────────┼───────────────┤\n",
              "│ batch_normalization             │ (<span style=\"color: #00d7ff; text-decoration-color: #00d7ff\">None</span>, <span style=\"color: #00af00; text-decoration-color: #00af00\">128</span>)            │           <span style=\"color: #00af00; text-decoration-color: #00af00\">512</span> │\n",
              "│ (<span style=\"color: #0087ff; text-decoration-color: #0087ff\">BatchNormalization</span>)            │                        │               │\n",
              "├─────────────────────────────────┼────────────────────────┼───────────────┤\n",
              "│ activation (<span style=\"color: #0087ff; text-decoration-color: #0087ff\">Activation</span>)         │ (<span style=\"color: #00d7ff; text-decoration-color: #00d7ff\">None</span>, <span style=\"color: #00af00; text-decoration-color: #00af00\">128</span>)            │             <span style=\"color: #00af00; text-decoration-color: #00af00\">0</span> │\n",
              "├─────────────────────────────────┼────────────────────────┼───────────────┤\n",
              "│ dense_11 (<span style=\"color: #0087ff; text-decoration-color: #0087ff\">Dense</span>)                │ (<span style=\"color: #00d7ff; text-decoration-color: #00d7ff\">None</span>, <span style=\"color: #00af00; text-decoration-color: #00af00\">64</span>)             │         <span style=\"color: #00af00; text-decoration-color: #00af00\">8,256</span> │\n",
              "├─────────────────────────────────┼────────────────────────┼───────────────┤\n",
              "│ batch_normalization_1           │ (<span style=\"color: #00d7ff; text-decoration-color: #00d7ff\">None</span>, <span style=\"color: #00af00; text-decoration-color: #00af00\">64</span>)             │           <span style=\"color: #00af00; text-decoration-color: #00af00\">256</span> │\n",
              "│ (<span style=\"color: #0087ff; text-decoration-color: #0087ff\">BatchNormalization</span>)            │                        │               │\n",
              "├─────────────────────────────────┼────────────────────────┼───────────────┤\n",
              "│ activation_1 (<span style=\"color: #0087ff; text-decoration-color: #0087ff\">Activation</span>)       │ (<span style=\"color: #00d7ff; text-decoration-color: #00d7ff\">None</span>, <span style=\"color: #00af00; text-decoration-color: #00af00\">64</span>)             │             <span style=\"color: #00af00; text-decoration-color: #00af00\">0</span> │\n",
              "├─────────────────────────────────┼────────────────────────┼───────────────┤\n",
              "│ dense_12 (<span style=\"color: #0087ff; text-decoration-color: #0087ff\">Dense</span>)                │ (<span style=\"color: #00d7ff; text-decoration-color: #00d7ff\">None</span>, <span style=\"color: #00af00; text-decoration-color: #00af00\">10</span>)             │           <span style=\"color: #00af00; text-decoration-color: #00af00\">650</span> │\n",
              "└─────────────────────────────────┴────────────────────────┴───────────────┘\n",
              "</pre>\n"
            ]
          },
          "metadata": {}
        },
        {
          "output_type": "display_data",
          "data": {
            "text/plain": [
              "\u001b[1m Total params: \u001b[0m\u001b[38;5;34m110,154\u001b[0m (430.29 KB)\n"
            ],
            "text/html": [
              "<pre style=\"white-space:pre;overflow-x:auto;line-height:normal;font-family:Menlo,'DejaVu Sans Mono',consolas,'Courier New',monospace\"><span style=\"font-weight: bold\"> Total params: </span><span style=\"color: #00af00; text-decoration-color: #00af00\">110,154</span> (430.29 KB)\n",
              "</pre>\n"
            ]
          },
          "metadata": {}
        },
        {
          "output_type": "display_data",
          "data": {
            "text/plain": [
              "\u001b[1m Trainable params: \u001b[0m\u001b[38;5;34m109,770\u001b[0m (428.79 KB)\n"
            ],
            "text/html": [
              "<pre style=\"white-space:pre;overflow-x:auto;line-height:normal;font-family:Menlo,'DejaVu Sans Mono',consolas,'Courier New',monospace\"><span style=\"font-weight: bold\"> Trainable params: </span><span style=\"color: #00af00; text-decoration-color: #00af00\">109,770</span> (428.79 KB)\n",
              "</pre>\n"
            ]
          },
          "metadata": {}
        },
        {
          "output_type": "display_data",
          "data": {
            "text/plain": [
              "\u001b[1m Non-trainable params: \u001b[0m\u001b[38;5;34m384\u001b[0m (1.50 KB)\n"
            ],
            "text/html": [
              "<pre style=\"white-space:pre;overflow-x:auto;line-height:normal;font-family:Menlo,'DejaVu Sans Mono',consolas,'Courier New',monospace\"><span style=\"font-weight: bold\"> Non-trainable params: </span><span style=\"color: #00af00; text-decoration-color: #00af00\">384</span> (1.50 KB)\n",
              "</pre>\n"
            ]
          },
          "metadata": {}
        }
      ],
      "execution_count": 7,
      "metadata": {
        "colab": {
          "base_uri": "https://localhost:8080/",
          "height": 385
        },
        "id": "gmpV5bOTUfJh",
        "outputId": "71496de7-7716-405d-e77c-45d3e8566128"
      }
    },
    {
      "cell_type": "markdown",
      "source": [
        "#### **8. How can you visualize the training process with accuracy and loss curves?**\n",
        "\n",
        "The `model.fit()` method in Keras returns a `History` object. You can use this object with `matplotlib` to plot the training and validation loss and accuracy over epochs."
      ],
      "metadata": {
        "id": "56WqV_UYUfJh"
      }
    },
    {
      "cell_type": "code",
      "source": [
        "import tensorflow as tf\n",
        "from tensorflow import keras\n",
        "from tensorflow.keras import layers\n",
        "import numpy as np\n",
        "import matplotlib.pyplot as plt\n",
        "\n",
        "# 1. Create dummy data\n",
        "(x_train, y_train), (x_test, y_test) = keras.datasets.mnist.load_data()\n",
        "x_train = x_train.reshape(-1, 784).astype(\"float32\") / 255.0\n",
        "x_test = x_test.reshape(-1, 784).astype(\"float32\") / 255.0\n",
        "\n",
        "# 2. Build the model\n",
        "model = keras.Sequential([\n",
        "    layers.Dense(128, activation='relu', input_shape=(784,)),\n",
        "    layers.Dense(10, activation='softmax')\n",
        "])\n",
        "\n",
        "# 3. Compile the model\n",
        "model.compile(optimizer='adam',\n",
        "              loss='sparse_categorical_crossentropy',\n",
        "              metrics=['accuracy'])\n",
        "\n",
        "# 4. Train the model and store the history\n",
        "history = model.fit(x_train, y_train,\n",
        "                    batch_size=64,\n",
        "                    epochs=10,\n",
        "                    validation_split=0.2)\n",
        "\n",
        "# 5. Plotting\n",
        "plt.figure(figsize=(12, 5))\n",
        "\n",
        "# Plot training & validation accuracy values\n",
        "plt.subplot(1, 2, 1)\n",
        "plt.plot(history.history['accuracy'])\n",
        "plt.plot(history.history['val_accuracy'])\n",
        "plt.title('Model accuracy')\n",
        "plt.ylabel('Accuracy')\n",
        "plt.xlabel('Epoch')\n",
        "plt.legend(['Train', 'Validation'], loc='upper left')\n",
        "\n",
        "# Plot training & validation loss values\n",
        "plt.subplot(1, 2, 2)\n",
        "plt.plot(history.history['loss'])\n",
        "plt.plot(history.history['val_loss'])\n",
        "plt.title('Model loss')\n",
        "plt.ylabel('Loss')\n",
        "plt.xlabel('Epoch')\n",
        "plt.legend(['Train', 'Validation'], loc='upper left')\n",
        "\n",
        "plt.tight_layout()\n",
        "plt.show()"
      ],
      "outputs": [
        {
          "output_type": "stream",
          "name": "stdout",
          "text": [
            "Downloading data from https://storage.googleapis.com/tensorflow/tf-keras-datasets/mnist.npz\n",
            "\u001b[1m11490434/11490434\u001b[0m \u001b[32m━━━━━━━━━━━━━━━━━━━━\u001b[0m\u001b[37m\u001b[0m \u001b[1m0s\u001b[0m 0us/step\n",
            "Epoch 1/10\n",
            "\u001b[1m750/750\u001b[0m \u001b[32m━━━━━━━━━━━━━━━━━━━━\u001b[0m\u001b[37m\u001b[0m \u001b[1m8s\u001b[0m 6ms/step - accuracy: 0.8399 - loss: 0.5662 - val_accuracy: 0.9512 - val_loss: 0.1759\n",
            "Epoch 2/10\n",
            "\u001b[1m750/750\u001b[0m \u001b[32m━━━━━━━━━━━━━━━━━━━━\u001b[0m\u001b[37m\u001b[0m \u001b[1m3s\u001b[0m 4ms/step - accuracy: 0.9530 - loss: 0.1607 - val_accuracy: 0.9616 - val_loss: 0.1317\n",
            "Epoch 3/10\n",
            "\u001b[1m750/750\u001b[0m \u001b[32m━━━━━━━━━━━━━━━━━━━━\u001b[0m\u001b[37m\u001b[0m \u001b[1m5s\u001b[0m 6ms/step - accuracy: 0.9685 - loss: 0.1103 - val_accuracy: 0.9654 - val_loss: 0.1126\n",
            "Epoch 4/10\n",
            "\u001b[1m750/750\u001b[0m \u001b[32m━━━━━━━━━━━━━━━━━━━━\u001b[0m\u001b[37m\u001b[0m \u001b[1m4s\u001b[0m 6ms/step - accuracy: 0.9789 - loss: 0.0757 - val_accuracy: 0.9719 - val_loss: 0.0991\n",
            "Epoch 5/10\n",
            "\u001b[1m750/750\u001b[0m \u001b[32m━━━━━━━━━━━━━━━━━━━━\u001b[0m\u001b[37m\u001b[0m \u001b[1m3s\u001b[0m 4ms/step - accuracy: 0.9811 - loss: 0.0630 - val_accuracy: 0.9690 - val_loss: 0.0972\n",
            "Epoch 6/10\n",
            "\u001b[1m750/750\u001b[0m \u001b[32m━━━━━━━━━━━━━━━━━━━━\u001b[0m\u001b[37m\u001b[0m \u001b[1m3s\u001b[0m 4ms/step - accuracy: 0.9863 - loss: 0.0476 - val_accuracy: 0.9739 - val_loss: 0.0874\n",
            "Epoch 7/10\n",
            "\u001b[1m750/750\u001b[0m \u001b[32m━━━━━━━━━━━━━━━━━━━━\u001b[0m\u001b[37m\u001b[0m \u001b[1m5s\u001b[0m 6ms/step - accuracy: 0.9877 - loss: 0.0399 - val_accuracy: 0.9756 - val_loss: 0.0849\n",
            "Epoch 8/10\n",
            "\u001b[1m750/750\u001b[0m \u001b[32m━━━━━━━━━━━━━━━━━━━━\u001b[0m\u001b[37m\u001b[0m \u001b[1m3s\u001b[0m 4ms/step - accuracy: 0.9919 - loss: 0.0298 - val_accuracy: 0.9747 - val_loss: 0.0820\n",
            "Epoch 9/10\n",
            "\u001b[1m750/750\u001b[0m \u001b[32m━━━━━━━━━━━━━━━━━━━━\u001b[0m\u001b[37m\u001b[0m \u001b[1m3s\u001b[0m 4ms/step - accuracy: 0.9930 - loss: 0.0262 - val_accuracy: 0.9735 - val_loss: 0.0886\n",
            "Epoch 10/10\n",
            "\u001b[1m750/750\u001b[0m \u001b[32m━━━━━━━━━━━━━━━━━━━━\u001b[0m\u001b[37m\u001b[0m \u001b[1m4s\u001b[0m 6ms/step - accuracy: 0.9951 - loss: 0.0195 - val_accuracy: 0.9766 - val_loss: 0.0833\n"
          ]
        },
        {
          "output_type": "display_data",
          "data": {
            "text/plain": [
              "<Figure size 1200x500 with 2 Axes>"
            ],
            "image/png": "[encoded data removed]"
          },
          "metadata": {}
        }
      ],
      "execution_count": 8,
      "metadata": {
        "colab": {
          "base_uri": "https://localhost:8080/",
          "height": 889
        },
        "id": "UNC09tSkUfJh",
        "outputId": "ed747af8-e47b-4fd0-b3db-eacc43f6e200"
      }
    },
    {
      "cell_type": "markdown",
      "source": [
        "#### **9. How can you use gradient clipping in Keras to control the gradient size and prevent exploding gradients?**\n",
        "\n",
        "You can set the `clipnorm` or `clipvalue` arguments when you instantiate an optimizer.\n",
        "\n",
        "  * `clipvalue`: Clips gradients to be within the range `[-value, value]`.\n",
        "  * `clipnorm`: Clips gradients when their L2 norm exceeds the specified value.\n",
        "\n",
        "<!-- end list -->"
      ],
      "metadata": {
        "id": "6RRCFOhHUfJh"
      }
    },
    {
      "cell_type": "code",
      "source": [
        "import tensorflow as tf\n",
        "from tensorflow import keras\n",
        "\n",
        "# Using clipvalue\n",
        "optimizer_cv = keras.optimizers.Adam(learning_rate=0.001, clipvalue=1.0)\n",
        "\n",
        "# Using clipnorm\n",
        "optimizer_cn = keras.optimizers.SGD(learning_rate=0.01, clipnorm=1.0)\n",
        "\n",
        "# Then compile your model with the chosen optimizer\n",
        "# model.compile(optimizer=optimizer_cv, loss='...')"
      ],
      "outputs": [],
      "execution_count": 9,
      "metadata": {
        "id": "z1yXW40MUfJi"
      }
    },
    {
      "cell_type": "markdown",
      "source": [
        "#### **10. How can you create a custom loss function in Keras?**\n",
        "\n",
        "You can define a Python function that takes `y_true` (true labels) and `y_pred` (predictions) as arguments. This function should use TensorFlow/Keras backend functions to compute the loss."
      ],
      "metadata": {
        "id": "IBZ12MMSUfJi"
      }
    },
    {
      "cell_type": "code",
      "source": [
        "import tensorflow as tf\n",
        "from tensorflow import keras\n",
        "import numpy as np\n",
        "\n",
        "# Define a custom loss function (e.g., Mean Absolute Percentage Error)\n",
        "def custom_huber_loss(y_true, y_pred, delta=1.0):\n",
        "    error = y_true - y_pred\n",
        "    is_small_error = tf.abs(error) <= delta\n",
        "    squared_loss = 0.5 * tf.square(error)\n",
        "    linear_loss  = delta * (tf.abs(error) - 0.5 * delta)\n",
        "    return tf.where(is_small_error, squared_loss, linear_loss)\n",
        "\n",
        "# Dummy data for a regression problem\n",
        "X_train = np.random.rand(100, 10)\n",
        "y_train = np.random.rand(100, 1)\n",
        "\n",
        "# Build model\n",
        "model = keras.Sequential([\n",
        "    keras.layers.Dense(32, activation='relu', input_shape=(10,)),\n",
        "    keras.layers.Dense(1)\n",
        "])\n",
        "\n",
        "# Compile the model with the custom loss function\n",
        "model.compile(optimizer='adam', loss=custom_huber_loss)\n",
        "\n",
        "# Train the model\n",
        "model.fit(X_train, y_train, epochs=5)"
      ],
      "outputs": [
        {
          "output_type": "stream",
          "name": "stdout",
          "text": [
            "Epoch 1/5\n",
            "\u001b[1m4/4\u001b[0m \u001b[32m━━━━━━━━━━━━━━━━━━━━\u001b[0m\u001b[37m\u001b[0m \u001b[1m1s\u001b[0m 9ms/step - loss: 0.0796  \n",
            "Epoch 2/5\n",
            "\u001b[1m4/4\u001b[0m \u001b[32m━━━━━━━━━━━━━━━━━━━━\u001b[0m\u001b[37m\u001b[0m \u001b[1m0s\u001b[0m 9ms/step - loss: 0.0769 \n",
            "Epoch 3/5\n",
            "\u001b[1m4/4\u001b[0m \u001b[32m━━━━━━━━━━━━━━━━━━━━\u001b[0m\u001b[37m\u001b[0m \u001b[1m0s\u001b[0m 9ms/step - loss: 0.0701 \n",
            "Epoch 4/5\n",
            "\u001b[1m4/4\u001b[0m \u001b[32m━━━━━━━━━━━━━━━━━━━━\u001b[0m\u001b[37m\u001b[0m \u001b[1m0s\u001b[0m 9ms/step - loss: 0.0711 \n",
            "Epoch 5/5\n",
            "\u001b[1m4/4\u001b[0m \u001b[32m━━━━━━━━━━━━━━━━━━━━\u001b[0m\u001b[37m\u001b[0m \u001b[1m0s\u001b[0m 10ms/step - loss: 0.0721\n"
          ]
        },
        {
          "output_type": "execute_result",
          "data": {
            "text/plain": [
              "<keras.src.callbacks.history.History at 0x7869e829ebd0>"
            ]
          },
          "metadata": {},
          "execution_count": 10
        }
      ],
      "execution_count": 10,
      "metadata": {
        "colab": {
          "base_uri": "https://localhost:8080/"
        },
        "id": "InmcZoWTUfJi",
        "outputId": "4c9c6780-e489-435c-cc2e-6d161c4f57fe"
      }
    },
    {
      "cell_type": "markdown",
      "source": [
        "#### **11. How can you visualize the structure of a neural network model in Keras?**\n",
        "\n",
        "Keras provides two main ways to inspect a model's architecture:\n",
        "\n",
        "1.  **`model.summary()`**: Prints a text-based summary of the model, including layers, output shapes, and the number of parameters.\n",
        "2.  **`keras.utils.plot_model()`**: Generates an image file that visually represents the model graph. This requires the `pydot` and `graphviz` libraries to be installed.\n",
        "\n",
        "<!-- end list -->"
      ],
      "metadata": {
        "id": "B7z-xMPhUfJi"
      }
    },
    {
      "cell_type": "code",
      "source": [
        "import tensorflow as tf\n",
        "from tensorflow import keras\n",
        "from tensorflow.keras import layers\n",
        "\n",
        "# Build a model\n",
        "model = keras.Sequential([\n",
        "    layers.Dense(128, activation='relu', input_shape=(784,), name='input_layer'),\n",
        "    layers.Dropout(0.2, name='dropout_1'),\n",
        "    layers.Dense(64, activation='relu', name='hidden_layer_1'),\n",
        "    layers.Dense(10, activation='softmax', name='output_layer')\n",
        "])\n",
        "\n",
        "# 1. Print the text summary\n",
        "print(\"--- Model Summary ---\")\n",
        "model.summary()\n",
        "\n",
        "# 2. Plot the model to a file\n",
        "# Make sure you have pydot and graphviz installed:\n",
        "# pip install pydot graphviz\n",
        "try:\n",
        "    keras.utils.plot_model(\n",
        "        model,\n",
        "        to_file='model_plot.png',\n",
        "        show_shapes=True,\n",
        "        show_layer_names=True,\n",
        "        show_layer_activations=True\n",
        "    )\n",
        "    print(\"\\nModel plot saved to model_plot.png\")\n",
        "except ImportError:\n",
        "    print(\"\\nPlease install pydot and graphviz to plot the model.\")"
      ],
      "outputs": [
        {
          "output_type": "stream",
          "name": "stdout",
          "text": [
            "--- Model Summary ---\n"
          ]
        },
        {
          "output_type": "display_data",
          "data": {
            "text/plain": [
              "\u001b[1mModel: \"sequential_7\"\u001b[0m\n"
            ],
            "text/html": [
              "<pre style=\"white-space:pre;overflow-x:auto;line-height:normal;font-family:Menlo,'DejaVu Sans Mono',consolas,'Courier New',monospace\"><span style=\"font-weight: bold\">Model: \"sequential_7\"</span>\n",
              "</pre>\n"
            ]
          },
          "metadata": {}
        },
        {
          "output_type": "display_data",
          "data": {
            "text/plain": [
              "┏━━━━━━━━━━━━━━━━━━━━━━━━━━━━━━━━━┳━━━━━━━━━━━━━━━━━━━━━━━━┳━━━━━━━━━━━━━━━┓\n",
              "┃\u001b[1m \u001b[0m\u001b[1mLayer (type)                   \u001b[0m\u001b[1m \u001b[0m┃\u001b[1m \u001b[0m\u001b[1mOutput Shape          \u001b[0m\u001b[1m \u001b[0m┃\u001b[1m \u001b[0m\u001b[1m      Param #\u001b[0m\u001b[1m \u001b[0m┃\n",
              "┡━━━━━━━━━━━━━━━━━━━━━━━━━━━━━━━━━╇━━━━━━━━━━━━━━━━━━━━━━━━╇━━━━━━━━━━━━━━━┩\n",
              "│ input_layer (\u001b[38;5;33mDense\u001b[0m)             │ (\u001b[38;5;45mNone\u001b[0m, \u001b[38;5;34m128\u001b[0m)            │       \u001b[38;5;34m100,480\u001b[0m │\n",
              "├─────────────────────────────────┼────────────────────────┼───────────────┤\n",
              "│ dropout_1 (\u001b[38;5;33mDropout\u001b[0m)             │ (\u001b[38;5;45mNone\u001b[0m, \u001b[38;5;34m128\u001b[0m)            │             \u001b[38;5;34m0\u001b[0m │\n",
              "├─────────────────────────────────┼────────────────────────┼───────────────┤\n",
              "│ hidden_layer_1 (\u001b[38;5;33mDense\u001b[0m)          │ (\u001b[38;5;45mNone\u001b[0m, \u001b[38;5;34m64\u001b[0m)             │         \u001b[38;5;34m8,256\u001b[0m │\n",
              "├─────────────────────────────────┼────────────────────────┼───────────────┤\n",
              "│ output_layer (\u001b[38;5;33mDense\u001b[0m)            │ (\u001b[38;5;45mNone\u001b[0m, \u001b[38;5;34m10\u001b[0m)             │           \u001b[38;5;34m650\u001b[0m │\n",
              "└─────────────────────────────────┴────────────────────────┴───────────────┘\n"
            ],
            "text/html": [
              "<pre style=\"white-space:pre;overflow-x:auto;line-height:normal;font-family:Menlo,'DejaVu Sans Mono',consolas,'Courier New',monospace\">┏━━━━━━━━━━━━━━━━━━━━━━━━━━━━━━━━━┳━━━━━━━━━━━━━━━━━━━━━━━━┳━━━━━━━━━━━━━━━┓\n",
              "┃<span style=\"font-weight: bold\"> Layer (type)                    </span>┃<span style=\"font-weight: bold\"> Output Shape           </span>┃<span style=\"font-weight: bold\">       Param # </span>┃\n",
              "┡━━━━━━━━━━━━━━━━━━━━━━━━━━━━━━━━━╇━━━━━━━━━━━━━━━━━━━━━━━━╇━━━━━━━━━━━━━━━┩\n",
              "│ input_layer (<span style=\"color: #0087ff; text-decoration-color: #0087ff\">Dense</span>)             │ (<span style=\"color: #00d7ff; text-decoration-color: #00d7ff\">None</span>, <span style=\"color: #00af00; text-decoration-color: #00af00\">128</span>)            │       <span style=\"color: #00af00; text-decoration-color: #00af00\">100,480</span> │\n",
              "├─────────────────────────────────┼────────────────────────┼───────────────┤\n",
              "│ dropout_1 (<span style=\"color: #0087ff; text-decoration-color: #0087ff\">Dropout</span>)             │ (<span style=\"color: #00d7ff; text-decoration-color: #00d7ff\">None</span>, <span style=\"color: #00af00; text-decoration-color: #00af00\">128</span>)            │             <span style=\"color: #00af00; text-decoration-color: #00af00\">0</span> │\n",
              "├─────────────────────────────────┼────────────────────────┼───────────────┤\n",
              "│ hidden_layer_1 (<span style=\"color: #0087ff; text-decoration-color: #0087ff\">Dense</span>)          │ (<span style=\"color: #00d7ff; text-decoration-color: #00d7ff\">None</span>, <span style=\"color: #00af00; text-decoration-color: #00af00\">64</span>)             │         <span style=\"color: #00af00; text-decoration-color: #00af00\">8,256</span> │\n",
              "├─────────────────────────────────┼────────────────────────┼───────────────┤\n",
              "│ output_layer (<span style=\"color: #0087ff; text-decoration-color: #0087ff\">Dense</span>)            │ (<span style=\"color: #00d7ff; text-decoration-color: #00d7ff\">None</span>, <span style=\"color: #00af00; text-decoration-color: #00af00\">10</span>)             │           <span style=\"color: #00af00; text-decoration-color: #00af00\">650</span> │\n",
              "└─────────────────────────────────┴────────────────────────┴───────────────┘\n",
              "</pre>\n"
            ]
          },
          "metadata": {}
        },
        {
          "output_type": "display_data",
          "data": {
            "text/plain": [
              "\u001b[1m Total params: \u001b[0m\u001b[38;5;34m109,386\u001b[0m (427.29 KB)\n"
            ],
            "text/html": [
              "<pre style=\"white-space:pre;overflow-x:auto;line-height:normal;font-family:Menlo,'DejaVu Sans Mono',consolas,'Courier New',monospace\"><span style=\"font-weight: bold\"> Total params: </span><span style=\"color: #00af00; text-decoration-color: #00af00\">109,386</span> (427.29 KB)\n",
              "</pre>\n"
            ]
          },
          "metadata": {}
        },
        {
          "output_type": "display_data",
          "data": {
            "text/plain": [
              "\u001b[1m Trainable params: \u001b[0m\u001b[38;5;34m109,386\u001b[0m (427.29 KB)\n"
            ],
            "text/html": [
              "<pre style=\"white-space:pre;overflow-x:auto;line-height:normal;font-family:Menlo,'DejaVu Sans Mono',consolas,'Courier New',monospace\"><span style=\"font-weight: bold\"> Trainable params: </span><span style=\"color: #00af00; text-decoration-color: #00af00\">109,386</span> (427.29 KB)\n",
              "</pre>\n"
            ]
          },
          "metadata": {}
        },
        {
          "output_type": "display_data",
          "data": {
            "text/plain": [
              "\u001b[1m Non-trainable params: \u001b[0m\u001b[38;5;34m0\u001b[0m (0.00 B)\n"
            ],
            "text/html": [
              "<pre style=\"white-space:pre;overflow-x:auto;line-height:normal;font-family:Menlo,'DejaVu Sans Mono',consolas,'Courier New',monospace\"><span style=\"font-weight: bold\"> Non-trainable params: </span><span style=\"color: #00af00; text-decoration-color: #00af00\">0</span> (0.00 B)\n",
              "</pre>\n"
            ]
          },
          "metadata": {}
        },
        {
          "output_type": "stream",
          "name": "stdout",
          "text": [
            "\n",
            "Model plot saved to model_plot.png\n"
          ]
        }
      ],
      "execution_count": 11,
      "metadata": {
        "colab": {
          "base_uri": "https://localhost:8080/",
          "height": 309
        },
        "id": "wb7Fv2ieUfJi",
        "outputId": "7eb9c4e3-d9eb-4739-b6e7-c2c8c0e9fea7"
      }
    }
  ],
  "metadata": {
    "colab": {
      "provenance": []
    },
    "kernelspec": {
      "display_name": "Python 3",
      "name": "python3"
    }
  },
  "nbformat": 4,
  "nbformat_minor": 0
}